{
  "nbformat": 4,
  "nbformat_minor": 0,
  "metadata": {
    "colab": {
      "name": "Jyothika_Bapatla_B89_MiTH.ipynb",
      "provenance": [],
      "collapsed_sections": []
    },
    "kernelspec": {
      "name": "python3",
      "display_name": "Python 3"
    }
  },
  "cells": [
    {
      "cell_type": "code",
      "metadata": {
        "colab": {
          "base_uri": "https://localhost:8080/"
        },
        "id": "ucgDXmeVeVpl",
        "outputId": "e2386f0e-f6da-4b27-837f-c49cfd4ff34e"
      },
      "source": [
        "from google.colab import drive\n",
        "\n",
        "drive.mount('/content/gdrive')\n"
      ],
      "execution_count": null,
      "outputs": [
        {
          "output_type": "stream",
          "text": [
            "Mounted at /content/gdrive\n"
          ],
          "name": "stdout"
        }
      ]
    },
    {
      "cell_type": "markdown",
      "metadata": {
        "id": "N0RWGBQ9fhgS"
      },
      "source": [
        "# **Loading the Required Libraries**"
      ]
    },
    {
      "cell_type": "code",
      "metadata": {
        "id": "acL1vSAef47b"
      },
      "source": [
        "import pandas as pd\n",
        "import numpy as np\n",
        "\n",
        "from sklearn.model_selection import train_test_split\n",
        "from sklearn.model_selection import GridSearchCV\n",
        "from sklearn.metrics import mean_squared_error, mean_absolute_error, r2_score\n",
        "from sklearn import tree\n",
        "from sklearn.metrics import confusion_matrix\n",
        "import matplotlib.pyplot as plt\n",
        "import seaborn as sns\n",
        "import graphviz\n",
        "import math"
      ],
      "execution_count": null,
      "outputs": []
    },
    {
      "cell_type": "code",
      "metadata": {
        "id": "f1KUrWnLjkOr"
      },
      "source": [
        "data = pd.read_csv(\"/content/gdrive/MyDrive/MiTH/train_data-1611220940820.csv\",header=0)"
      ],
      "execution_count": null,
      "outputs": []
    },
    {
      "cell_type": "markdown",
      "metadata": {
        "id": "4Tpb4HWYld6t"
      },
      "source": [
        "## **Understanding the data - Exploratory Data Analysis**"
      ]
    },
    {
      "cell_type": "markdown",
      "metadata": {
        "id": "idHyZ909lsWp"
      },
      "source": [
        "**Dimensions of the dataset**"
      ]
    },
    {
      "cell_type": "code",
      "metadata": {
        "colab": {
          "base_uri": "https://localhost:8080/"
        },
        "id": "B1jmTouCmBiW",
        "outputId": "883cad37-e005-475d-bf35-185fa4269140"
      },
      "source": [
        "data.shape"
      ],
      "execution_count": null,
      "outputs": [
        {
          "output_type": "execute_result",
          "data": {
            "text/plain": [
              "(76529, 11)"
            ]
          },
          "metadata": {
            "tags": []
          },
          "execution_count": 8
        }
      ]
    },
    {
      "cell_type": "markdown",
      "metadata": {
        "id": "SZEKrvCGmEwt"
      },
      "source": [
        "**Displaying columns of the dataset**"
      ]
    },
    {
      "cell_type": "code",
      "metadata": {
        "colab": {
          "base_uri": "https://localhost:8080/"
        },
        "id": "cZXe3KqZlKsE",
        "outputId": "db874843-4e1b-44f7-e9ae-b4a043567636"
      },
      "source": [
        "data.columns"
      ],
      "execution_count": null,
      "outputs": [
        {
          "output_type": "execute_result",
          "data": {
            "text/plain": [
              "Index(['transaction_number', 'user_id', 'payment_method', 'partner_id',\n",
              "       'partner_category', 'country', 'device_type', 'money_transacted',\n",
              "       'transaction_initiation', 'partner_pricing_category', 'is_fraud'],\n",
              "      dtype='object')"
            ]
          },
          "metadata": {
            "tags": []
          },
          "execution_count": 9
        }
      ]
    },
    {
      "cell_type": "markdown",
      "metadata": {
        "id": "x4FqWlqnmkCN"
      },
      "source": [
        "**Displaying the top 6 rows of the dataset**"
      ]
    },
    {
      "cell_type": "code",
      "metadata": {
        "colab": {
          "base_uri": "https://localhost:8080/",
          "height": 357
        },
        "id": "bykblXwKlPS0",
        "outputId": "47532e27-04af-4c53-d3ce-709ea440be48"
      },
      "source": [
        "data[:6]"
      ],
      "execution_count": null,
      "outputs": [
        {
          "output_type": "execute_result",
          "data": {
            "text/html": [
              "<div>\n",
              "<style scoped>\n",
              "    .dataframe tbody tr th:only-of-type {\n",
              "        vertical-align: middle;\n",
              "    }\n",
              "\n",
              "    .dataframe tbody tr th {\n",
              "        vertical-align: top;\n",
              "    }\n",
              "\n",
              "    .dataframe thead th {\n",
              "        text-align: right;\n",
              "    }\n",
              "</style>\n",
              "<table border=\"1\" class=\"dataframe\">\n",
              "  <thead>\n",
              "    <tr style=\"text-align: right;\">\n",
              "      <th></th>\n",
              "      <th>transaction_number</th>\n",
              "      <th>user_id</th>\n",
              "      <th>payment_method</th>\n",
              "      <th>partner_id</th>\n",
              "      <th>partner_category</th>\n",
              "      <th>country</th>\n",
              "      <th>device_type</th>\n",
              "      <th>money_transacted</th>\n",
              "      <th>transaction_initiation</th>\n",
              "      <th>partner_pricing_category</th>\n",
              "      <th>is_fraud</th>\n",
              "    </tr>\n",
              "  </thead>\n",
              "  <tbody>\n",
              "    <tr>\n",
              "      <th>0</th>\n",
              "      <td>144703125000</td>\n",
              "      <td>17539344</td>\n",
              "      <td>sbi_atm_cum_debit_card</td>\n",
              "      <td>47334</td>\n",
              "      <td>cat_1</td>\n",
              "      <td>IND_INR</td>\n",
              "      <td>android_devices</td>\n",
              "      <td>-5.0</td>\n",
              "      <td>2016-11-15 19:16:12+00:00</td>\n",
              "      <td>2</td>\n",
              "      <td>0</td>\n",
              "    </tr>\n",
              "    <tr>\n",
              "      <th>1</th>\n",
              "      <td>77406814453032</td>\n",
              "      <td>24710841</td>\n",
              "      <td>e_wallet_payments</td>\n",
              "      <td>78890</td>\n",
              "      <td>cat_2</td>\n",
              "      <td>IND_INR</td>\n",
              "      <td>other_pcs</td>\n",
              "      <td>100.0</td>\n",
              "      <td>2017-01-11 09:25:33+00:00</td>\n",
              "      <td>2</td>\n",
              "      <td>0</td>\n",
              "    </tr>\n",
              "    <tr>\n",
              "      <th>2</th>\n",
              "      <td>308929485482801</td>\n",
              "      <td>24265476</td>\n",
              "      <td>e_wallet_payments</td>\n",
              "      <td>78890</td>\n",
              "      <td>cat_2</td>\n",
              "      <td>IND_INR</td>\n",
              "      <td>other_pcs</td>\n",
              "      <td>50.0</td>\n",
              "      <td>2016-12-07 07:58:09+00:00</td>\n",
              "      <td>2</td>\n",
              "      <td>0</td>\n",
              "    </tr>\n",
              "    <tr>\n",
              "      <th>3</th>\n",
              "      <td>665270027747073</td>\n",
              "      <td>10240000</td>\n",
              "      <td>other_debit_cards</td>\n",
              "      <td>102557</td>\n",
              "      <td>cat_3</td>\n",
              "      <td>IND_INR</td>\n",
              "      <td>other_pcs</td>\n",
              "      <td>1000.0</td>\n",
              "      <td>2017-01-11 16:15:44+00:00</td>\n",
              "      <td>2</td>\n",
              "      <td>0</td>\n",
              "    </tr>\n",
              "    <tr>\n",
              "      <th>4</th>\n",
              "      <td>38276160171101</td>\n",
              "      <td>5880625</td>\n",
              "      <td>other_debit_cards</td>\n",
              "      <td>118335</td>\n",
              "      <td>cat_1</td>\n",
              "      <td>IND_INR</td>\n",
              "      <td>other_pcs</td>\n",
              "      <td>200.0</td>\n",
              "      <td>2016-11-16 17:04:42+00:00</td>\n",
              "      <td>2</td>\n",
              "      <td>0</td>\n",
              "    </tr>\n",
              "    <tr>\n",
              "      <th>5</th>\n",
              "      <td>2140454669921875</td>\n",
              "      <td>7344100</td>\n",
              "      <td>visa_master_debit_cards</td>\n",
              "      <td>23667</td>\n",
              "      <td>cat_2</td>\n",
              "      <td>IND_INR</td>\n",
              "      <td>other_pcs</td>\n",
              "      <td>20.0</td>\n",
              "      <td>2017-01-22 04:12:16+00:00</td>\n",
              "      <td>4</td>\n",
              "      <td>0</td>\n",
              "    </tr>\n",
              "  </tbody>\n",
              "</table>\n",
              "</div>"
            ],
            "text/plain": [
              "   transaction_number   user_id  ... partner_pricing_category  is_fraud\n",
              "0        144703125000  17539344  ...                        2         0\n",
              "1      77406814453032  24710841  ...                        2         0\n",
              "2     308929485482801  24265476  ...                        2         0\n",
              "3     665270027747073  10240000  ...                        2         0\n",
              "4      38276160171101   5880625  ...                        2         0\n",
              "5    2140454669921875   7344100  ...                        4         0\n",
              "\n",
              "[6 rows x 11 columns]"
            ]
          },
          "metadata": {
            "tags": []
          },
          "execution_count": 10
        }
      ]
    },
    {
      "cell_type": "markdown",
      "metadata": {
        "id": "pe3uj8Mosddk"
      },
      "source": [
        "**Summary Stats for all the datatypes**"
      ]
    },
    {
      "cell_type": "code",
      "metadata": {
        "colab": {
          "base_uri": "https://localhost:8080/",
          "height": 427
        },
        "id": "4BP_eGnOrXe4",
        "outputId": "40cbb341-b949-420f-a591-baf2c5e8fca3"
      },
      "source": [
        "data.describe(include='all')"
      ],
      "execution_count": null,
      "outputs": [
        {
          "output_type": "execute_result",
          "data": {
            "text/html": [
              "<div>\n",
              "<style scoped>\n",
              "    .dataframe tbody tr th:only-of-type {\n",
              "        vertical-align: middle;\n",
              "    }\n",
              "\n",
              "    .dataframe tbody tr th {\n",
              "        vertical-align: top;\n",
              "    }\n",
              "\n",
              "    .dataframe thead th {\n",
              "        text-align: right;\n",
              "    }\n",
              "</style>\n",
              "<table border=\"1\" class=\"dataframe\">\n",
              "  <thead>\n",
              "    <tr style=\"text-align: right;\">\n",
              "      <th></th>\n",
              "      <th>transaction_number</th>\n",
              "      <th>user_id</th>\n",
              "      <th>payment_method</th>\n",
              "      <th>partner_id</th>\n",
              "      <th>partner_category</th>\n",
              "      <th>country</th>\n",
              "      <th>device_type</th>\n",
              "      <th>money_transacted</th>\n",
              "      <th>transaction_initiation</th>\n",
              "      <th>partner_pricing_category</th>\n",
              "      <th>is_fraud</th>\n",
              "    </tr>\n",
              "  </thead>\n",
              "  <tbody>\n",
              "    <tr>\n",
              "      <th>count</th>\n",
              "      <td>7.652900e+04</td>\n",
              "      <td>7.652900e+04</td>\n",
              "      <td>76529</td>\n",
              "      <td>76529.000000</td>\n",
              "      <td>76529</td>\n",
              "      <td>76529</td>\n",
              "      <td>76529</td>\n",
              "      <td>76529.000000</td>\n",
              "      <td>76529</td>\n",
              "      <td>76529.000000</td>\n",
              "      <td>76529.000000</td>\n",
              "    </tr>\n",
              "    <tr>\n",
              "      <th>unique</th>\n",
              "      <td>NaN</td>\n",
              "      <td>NaN</td>\n",
              "      <td>6</td>\n",
              "      <td>NaN</td>\n",
              "      <td>9</td>\n",
              "      <td>1</td>\n",
              "      <td>4</td>\n",
              "      <td>NaN</td>\n",
              "      <td>75811</td>\n",
              "      <td>NaN</td>\n",
              "      <td>NaN</td>\n",
              "    </tr>\n",
              "    <tr>\n",
              "      <th>top</th>\n",
              "      <td>NaN</td>\n",
              "      <td>NaN</td>\n",
              "      <td>sbi_atm_cum_debit_card</td>\n",
              "      <td>NaN</td>\n",
              "      <td>cat_1</td>\n",
              "      <td>IND_INR</td>\n",
              "      <td>other_pcs</td>\n",
              "      <td>NaN</td>\n",
              "      <td>2016-12-24 16:30:13+00:00</td>\n",
              "      <td>NaN</td>\n",
              "      <td>NaN</td>\n",
              "    </tr>\n",
              "    <tr>\n",
              "      <th>freq</th>\n",
              "      <td>NaN</td>\n",
              "      <td>NaN</td>\n",
              "      <td>30538</td>\n",
              "      <td>NaN</td>\n",
              "      <td>36306</td>\n",
              "      <td>76529</td>\n",
              "      <td>45560</td>\n",
              "      <td>NaN</td>\n",
              "      <td>12</td>\n",
              "      <td>NaN</td>\n",
              "      <td>NaN</td>\n",
              "    </tr>\n",
              "    <tr>\n",
              "      <th>mean</th>\n",
              "      <td>6.940200e+14</td>\n",
              "      <td>1.247483e+07</td>\n",
              "      <td>NaN</td>\n",
              "      <td>58497.189105</td>\n",
              "      <td>NaN</td>\n",
              "      <td>NaN</td>\n",
              "      <td>NaN</td>\n",
              "      <td>132.724348</td>\n",
              "      <td>NaN</td>\n",
              "      <td>2.255707</td>\n",
              "      <td>0.002012</td>\n",
              "    </tr>\n",
              "    <tr>\n",
              "      <th>std</th>\n",
              "      <td>7.867885e+14</td>\n",
              "      <td>1.205878e+07</td>\n",
              "      <td>NaN</td>\n",
              "      <td>36740.216787</td>\n",
              "      <td>NaN</td>\n",
              "      <td>NaN</td>\n",
              "      <td>NaN</td>\n",
              "      <td>2350.110900</td>\n",
              "      <td>NaN</td>\n",
              "      <td>0.732174</td>\n",
              "      <td>0.044814</td>\n",
              "    </tr>\n",
              "    <tr>\n",
              "      <th>min</th>\n",
              "      <td>8.000000e+00</td>\n",
              "      <td>1.000000e+00</td>\n",
              "      <td>NaN</td>\n",
              "      <td>7889.000000</td>\n",
              "      <td>NaN</td>\n",
              "      <td>NaN</td>\n",
              "      <td>NaN</td>\n",
              "      <td>-20000.000000</td>\n",
              "      <td>NaN</td>\n",
              "      <td>0.000000</td>\n",
              "      <td>0.000000</td>\n",
              "    </tr>\n",
              "    <tr>\n",
              "      <th>25%</th>\n",
              "      <td>4.387866e+13</td>\n",
              "      <td>3.515625e+06</td>\n",
              "      <td>NaN</td>\n",
              "      <td>23667.000000</td>\n",
              "      <td>NaN</td>\n",
              "      <td>NaN</td>\n",
              "      <td>NaN</td>\n",
              "      <td>-1.000000</td>\n",
              "      <td>NaN</td>\n",
              "      <td>2.000000</td>\n",
              "      <td>0.000000</td>\n",
              "    </tr>\n",
              "    <tr>\n",
              "      <th>50%</th>\n",
              "      <td>3.452540e+14</td>\n",
              "      <td>9.753129e+06</td>\n",
              "      <td>NaN</td>\n",
              "      <td>47334.000000</td>\n",
              "      <td>NaN</td>\n",
              "      <td>NaN</td>\n",
              "      <td>NaN</td>\n",
              "      <td>20.000000</td>\n",
              "      <td>NaN</td>\n",
              "      <td>2.000000</td>\n",
              "      <td>0.000000</td>\n",
              "    </tr>\n",
              "    <tr>\n",
              "      <th>75%</th>\n",
              "      <td>1.173440e+15</td>\n",
              "      <td>1.788444e+07</td>\n",
              "      <td>NaN</td>\n",
              "      <td>78890.000000</td>\n",
              "      <td>NaN</td>\n",
              "      <td>NaN</td>\n",
              "      <td>NaN</td>\n",
              "      <td>52.000000</td>\n",
              "      <td>NaN</td>\n",
              "      <td>2.000000</td>\n",
              "      <td>0.000000</td>\n",
              "    </tr>\n",
              "    <tr>\n",
              "      <th>max</th>\n",
              "      <td>2.784238e+15</td>\n",
              "      <td>5.592048e+07</td>\n",
              "      <td>NaN</td>\n",
              "      <td>213003.000000</td>\n",
              "      <td>NaN</td>\n",
              "      <td>NaN</td>\n",
              "      <td>NaN</td>\n",
              "      <td>197217.760000</td>\n",
              "      <td>NaN</td>\n",
              "      <td>4.000000</td>\n",
              "      <td>1.000000</td>\n",
              "    </tr>\n",
              "  </tbody>\n",
              "</table>\n",
              "</div>"
            ],
            "text/plain": [
              "        transaction_number  ...      is_fraud\n",
              "count         7.652900e+04  ...  76529.000000\n",
              "unique                 NaN  ...           NaN\n",
              "top                    NaN  ...           NaN\n",
              "freq                   NaN  ...           NaN\n",
              "mean          6.940200e+14  ...      0.002012\n",
              "std           7.867885e+14  ...      0.044814\n",
              "min           8.000000e+00  ...      0.000000\n",
              "25%           4.387866e+13  ...      0.000000\n",
              "50%           3.452540e+14  ...      0.000000\n",
              "75%           1.173440e+15  ...      0.000000\n",
              "max           2.784238e+15  ...      1.000000\n",
              "\n",
              "[11 rows x 11 columns]"
            ]
          },
          "metadata": {
            "tags": []
          },
          "execution_count": 11
        }
      ]
    },
    {
      "cell_type": "markdown",
      "metadata": {
        "id": "IPWmerSRqGq0"
      },
      "source": [
        "**Displaying datatype of each column**"
      ]
    },
    {
      "cell_type": "code",
      "metadata": {
        "colab": {
          "base_uri": "https://localhost:8080/"
        },
        "id": "sVTRXzrnqL81",
        "outputId": "5fbfa518-67c7-4a80-8bfd-d4a50efbf4b1"
      },
      "source": [
        "data.dtypes"
      ],
      "execution_count": null,
      "outputs": [
        {
          "output_type": "execute_result",
          "data": {
            "text/plain": [
              "transaction_number            int64\n",
              "user_id                       int64\n",
              "payment_method               object\n",
              "partner_id                    int64\n",
              "partner_category             object\n",
              "country                      object\n",
              "device_type                  object\n",
              "money_transacted            float64\n",
              "transaction_initiation       object\n",
              "partner_pricing_category      int64\n",
              "is_fraud                      int64\n",
              "dtype: object"
            ]
          },
          "metadata": {
            "tags": []
          },
          "execution_count": 12
        }
      ]
    },
    {
      "cell_type": "markdown",
      "metadata": {
        "id": "aOMIDBZFnJDq"
      },
      "source": [
        "**Converting target column to categorical**"
      ]
    },
    {
      "cell_type": "code",
      "metadata": {
        "colab": {
          "base_uri": "https://localhost:8080/"
        },
        "id": "q6DfztymmrFd",
        "outputId": "a09f5d8d-4754-44eb-e6fb-6486b8328904"
      },
      "source": [
        "data['is_fraud']=data['is_fraud'].astype('category')\n",
        "target=data['is_fraud']\n",
        "data.dtypes"
      ],
      "execution_count": null,
      "outputs": [
        {
          "output_type": "execute_result",
          "data": {
            "text/plain": [
              "transaction_number             int64\n",
              "user_id                        int64\n",
              "payment_method                object\n",
              "partner_id                     int64\n",
              "partner_category              object\n",
              "country                       object\n",
              "device_type                   object\n",
              "money_transacted             float64\n",
              "transaction_initiation        object\n",
              "partner_pricing_category       int64\n",
              "is_fraud                    category\n",
              "dtype: object"
            ]
          },
          "metadata": {
            "tags": []
          },
          "execution_count": 13
        }
      ]
    },
    {
      "cell_type": "markdown",
      "metadata": {
        "id": "bVdkjHqStDpV"
      },
      "source": [
        "**Percentage of each level in target column**"
      ]
    },
    {
      "cell_type": "code",
      "metadata": {
        "colab": {
          "base_uri": "https://localhost:8080/"
        },
        "id": "f4Ypdt9PsnZt",
        "outputId": "ae960b86-e8a4-46e9-871c-5e84f4af9a45"
      },
      "source": [
        "data['is_fraud'].value_counts(normalize=True)*100 # Imbalance in data"
      ],
      "execution_count": null,
      "outputs": [
        {
          "output_type": "execute_result",
          "data": {
            "text/plain": [
              "0    99.798769\n",
              "1     0.201231\n",
              "Name: is_fraud, dtype: float64"
            ]
          },
          "metadata": {
            "tags": []
          },
          "execution_count": 14
        }
      ]
    },
    {
      "cell_type": "markdown",
      "metadata": {
        "id": "lO9ERfU3tPUu"
      },
      "source": [
        "**Graphical representation of percentage of each level in target column**"
      ]
    },
    {
      "cell_type": "code",
      "metadata": {
        "colab": {
          "base_uri": "https://localhost:8080/",
          "height": 338
        },
        "id": "cixyoyz9tKO4",
        "outputId": "17240ad8-2ac1-4842-97fe-d57c1c7ef8bb"
      },
      "source": [
        "sns.countplot(data['is_fraud'])\n",
        "plt.show()"
      ],
      "execution_count": null,
      "outputs": [
        {
          "output_type": "stream",
          "text": [
            "/usr/local/lib/python3.6/dist-packages/seaborn/_decorators.py:43: FutureWarning: Pass the following variable as a keyword arg: x. From version 0.12, the only valid positional argument will be `data`, and passing other arguments without an explicit keyword will result in an error or misinterpretation.\n",
            "  FutureWarning\n"
          ],
          "name": "stderr"
        },
        {
          "output_type": "display_data",
          "data": {
            "image/png": "[encoded data removed]",
            "text/plain": [
              "<Figure size 432x288 with 1 Axes>"
            ]
          },
          "metadata": {
            "tags": [],
            "needs_background": "light"
          }
        }
      ]
    },
    {
      "cell_type": "markdown",
      "metadata": {
        "id": "MgWD5AqbtrIS"
      },
      "source": [
        "**Correlation between the independent variables**"
      ]
    },
    {
      "cell_type": "code",
      "metadata": {
        "colab": {
          "base_uri": "https://localhost:8080/",
          "height": 204
        },
        "id": "Ht36vXsTtS7F",
        "outputId": "ea2818d2-cc15-4a76-98c3-6ff8e6b43d5a"
      },
      "source": [
        "cor_mat=data.loc[:,data.columns!='is_fraud'].corr()\n",
        "cor_mat"
      ],
      "execution_count": null,
      "outputs": [
        {
          "output_type": "execute_result",
          "data": {
            "text/html": [
              "<div>\n",
              "<style scoped>\n",
              "    .dataframe tbody tr th:only-of-type {\n",
              "        vertical-align: middle;\n",
              "    }\n",
              "\n",
              "    .dataframe tbody tr th {\n",
              "        vertical-align: top;\n",
              "    }\n",
              "\n",
              "    .dataframe thead th {\n",
              "        text-align: right;\n",
              "    }\n",
              "</style>\n",
              "<table border=\"1\" class=\"dataframe\">\n",
              "  <thead>\n",
              "    <tr style=\"text-align: right;\">\n",
              "      <th></th>\n",
              "      <th>transaction_number</th>\n",
              "      <th>user_id</th>\n",
              "      <th>partner_id</th>\n",
              "      <th>money_transacted</th>\n",
              "      <th>partner_pricing_category</th>\n",
              "    </tr>\n",
              "  </thead>\n",
              "  <tbody>\n",
              "    <tr>\n",
              "      <th>transaction_number</th>\n",
              "      <td>1.000000</td>\n",
              "      <td>-0.006608</td>\n",
              "      <td>0.001564</td>\n",
              "      <td>0.001049</td>\n",
              "      <td>-0.006492</td>\n",
              "    </tr>\n",
              "    <tr>\n",
              "      <th>user_id</th>\n",
              "      <td>-0.006608</td>\n",
              "      <td>1.000000</td>\n",
              "      <td>-0.037846</td>\n",
              "      <td>-0.045650</td>\n",
              "      <td>0.424626</td>\n",
              "    </tr>\n",
              "    <tr>\n",
              "      <th>partner_id</th>\n",
              "      <td>0.001564</td>\n",
              "      <td>-0.037846</td>\n",
              "      <td>1.000000</td>\n",
              "      <td>0.092432</td>\n",
              "      <td>-0.185584</td>\n",
              "    </tr>\n",
              "    <tr>\n",
              "      <th>money_transacted</th>\n",
              "      <td>0.001049</td>\n",
              "      <td>-0.045650</td>\n",
              "      <td>0.092432</td>\n",
              "      <td>1.000000</td>\n",
              "      <td>-0.066396</td>\n",
              "    </tr>\n",
              "    <tr>\n",
              "      <th>partner_pricing_category</th>\n",
              "      <td>-0.006492</td>\n",
              "      <td>0.424626</td>\n",
              "      <td>-0.185584</td>\n",
              "      <td>-0.066396</td>\n",
              "      <td>1.000000</td>\n",
              "    </tr>\n",
              "  </tbody>\n",
              "</table>\n",
              "</div>"
            ],
            "text/plain": [
              "                          transaction_number  ...  partner_pricing_category\n",
              "transaction_number                  1.000000  ...                 -0.006492\n",
              "user_id                            -0.006608  ...                  0.424626\n",
              "partner_id                          0.001564  ...                 -0.185584\n",
              "money_transacted                    0.001049  ...                 -0.066396\n",
              "partner_pricing_category           -0.006492  ...                  1.000000\n",
              "\n",
              "[5 rows x 5 columns]"
            ]
          },
          "metadata": {
            "tags": []
          },
          "execution_count": 16
        }
      ]
    },
    {
      "cell_type": "markdown",
      "metadata": {
        "id": "IRkLEvsOx2dt"
      },
      "source": [
        "**Checking the number of unique values for attributes**"
      ]
    },
    {
      "cell_type": "code",
      "metadata": {
        "colab": {
          "base_uri": "https://localhost:8080/"
        },
        "id": "OfeJ2Llct7eg",
        "outputId": "e3d6dea3-c073-47fd-e404-8ef6119c0c84"
      },
      "source": [
        "print(\"The number of Unique transaction_number in the data set is\",data['transaction_number'].nunique())\n",
        "print(\"\\n\")\n",
        "print(data['transaction_number'].value_counts())"
      ],
      "execution_count": null,
      "outputs": [
        {
          "output_type": "stream",
          "text": [
            "The number of Unique transaction_number in the data set is 76529\n",
            "\n",
            "\n",
            "166747352433921     1\n",
            "2533532729328125    1\n",
            "827803767892375     1\n",
            "1343891598641864    1\n",
            "2180361878378711    1\n",
            "                   ..\n",
            "172901784411000     1\n",
            "1670924977938944    1\n",
            "22689222191         1\n",
            "2156538857728373    1\n",
            "1287913472          1\n",
            "Name: transaction_number, Length: 76529, dtype: int64\n"
          ],
          "name": "stdout"
        }
      ]
    },
    {
      "cell_type": "code",
      "metadata": {
        "colab": {
          "base_uri": "https://localhost:8080/"
        },
        "id": "3FnhRxs6yoDM",
        "outputId": "b8e733c0-515f-496d-ed6e-8c6aed381c96"
      },
      "source": [
        "print(\"The number of Unique user_id in the data set is\",data['user_id'].nunique())\n",
        "print(\"\\n\")\n",
        "print(data['user_id'].value_counts())"
      ],
      "execution_count": null,
      "outputs": [
        {
          "output_type": "stream",
          "text": [
            "The number of Unique user_id in the data set is 3594\n",
            "\n",
            "\n",
            "53919649    3240\n",
            "13205956    1656\n",
            "418609      1530\n",
            "1201216      623\n",
            "16265089     622\n",
            "            ... \n",
            "4443664        1\n",
            "20187049       1\n",
            "15960025       1\n",
            "2085136        1\n",
            "13300609       1\n",
            "Name: user_id, Length: 3594, dtype: int64\n"
          ],
          "name": "stdout"
        }
      ]
    },
    {
      "cell_type": "code",
      "metadata": {
        "colab": {
          "base_uri": "https://localhost:8080/"
        },
        "id": "jyGVfj1oy7X6",
        "outputId": "18a8e19d-c1da-4c9b-cd1b-a15028f4453d"
      },
      "source": [
        "for i in data.columns:\n",
        "  print(f'{i} variable has {data[i].nunique()} values \\n')"
      ],
      "execution_count": null,
      "outputs": [
        {
          "output_type": "stream",
          "text": [
            "transaction_number variable has 76529 values \n",
            "\n",
            "user_id variable has 3594 values \n",
            "\n",
            "payment_method variable has 6 values \n",
            "\n",
            "partner_id variable has 23 values \n",
            "\n",
            "partner_category variable has 9 values \n",
            "\n",
            "country variable has 1 values \n",
            "\n",
            "device_type variable has 4 values \n",
            "\n",
            "money_transacted variable has 1454 values \n",
            "\n",
            "transaction_initiation variable has 75811 values \n",
            "\n",
            "partner_pricing_category variable has 4 values \n",
            "\n",
            "is_fraud variable has 2 values \n",
            "\n"
          ],
          "name": "stdout"
        }
      ]
    },
    {
      "cell_type": "markdown",
      "metadata": {
        "id": "_ApVbK1L0rnf"
      },
      "source": [
        "Variable 'transaction_number' has only unique values and variable 'country' has same values, so the two variables can be dropped from the dataset.\n"
      ]
    },
    {
      "cell_type": "markdown",
      "metadata": {
        "id": "P7iHC2xc12dc"
      },
      "source": [
        "**Dropping the variables 'transaction_number' and 'country'**"
      ]
    },
    {
      "cell_type": "code",
      "metadata": {
        "id": "KuvNFFoGzYb6"
      },
      "source": [
        "data.drop(['transaction_number', 'country'], axis = 1, inplace = True)"
      ],
      "execution_count": null,
      "outputs": []
    },
    {
      "cell_type": "code",
      "metadata": {
        "colab": {
          "base_uri": "https://localhost:8080/",
          "height": 235
        },
        "id": "9TqIyV162e4i",
        "outputId": "14d1b52e-abc6-4ef8-ff62-576b70c466b7"
      },
      "source": [
        "data[:6]"
      ],
      "execution_count": null,
      "outputs": [
        {
          "output_type": "execute_result",
          "data": {
            "text/html": [
              "<div>\n",
              "<style scoped>\n",
              "    .dataframe tbody tr th:only-of-type {\n",
              "        vertical-align: middle;\n",
              "    }\n",
              "\n",
              "    .dataframe tbody tr th {\n",
              "        vertical-align: top;\n",
              "    }\n",
              "\n",
              "    .dataframe thead th {\n",
              "        text-align: right;\n",
              "    }\n",
              "</style>\n",
              "<table border=\"1\" class=\"dataframe\">\n",
              "  <thead>\n",
              "    <tr style=\"text-align: right;\">\n",
              "      <th></th>\n",
              "      <th>user_id</th>\n",
              "      <th>payment_method</th>\n",
              "      <th>partner_id</th>\n",
              "      <th>partner_category</th>\n",
              "      <th>device_type</th>\n",
              "      <th>money_transacted</th>\n",
              "      <th>transaction_initiation</th>\n",
              "      <th>partner_pricing_category</th>\n",
              "      <th>is_fraud</th>\n",
              "    </tr>\n",
              "  </thead>\n",
              "  <tbody>\n",
              "    <tr>\n",
              "      <th>0</th>\n",
              "      <td>17539344</td>\n",
              "      <td>sbi_atm_cum_debit_card</td>\n",
              "      <td>47334</td>\n",
              "      <td>cat_1</td>\n",
              "      <td>android_devices</td>\n",
              "      <td>-5.0</td>\n",
              "      <td>2016-11-15 19:16:12+00:00</td>\n",
              "      <td>2</td>\n",
              "      <td>0</td>\n",
              "    </tr>\n",
              "    <tr>\n",
              "      <th>1</th>\n",
              "      <td>24710841</td>\n",
              "      <td>e_wallet_payments</td>\n",
              "      <td>78890</td>\n",
              "      <td>cat_2</td>\n",
              "      <td>other_pcs</td>\n",
              "      <td>100.0</td>\n",
              "      <td>2017-01-11 09:25:33+00:00</td>\n",
              "      <td>2</td>\n",
              "      <td>0</td>\n",
              "    </tr>\n",
              "    <tr>\n",
              "      <th>2</th>\n",
              "      <td>24265476</td>\n",
              "      <td>e_wallet_payments</td>\n",
              "      <td>78890</td>\n",
              "      <td>cat_2</td>\n",
              "      <td>other_pcs</td>\n",
              "      <td>50.0</td>\n",
              "      <td>2016-12-07 07:58:09+00:00</td>\n",
              "      <td>2</td>\n",
              "      <td>0</td>\n",
              "    </tr>\n",
              "    <tr>\n",
              "      <th>3</th>\n",
              "      <td>10240000</td>\n",
              "      <td>other_debit_cards</td>\n",
              "      <td>102557</td>\n",
              "      <td>cat_3</td>\n",
              "      <td>other_pcs</td>\n",
              "      <td>1000.0</td>\n",
              "      <td>2017-01-11 16:15:44+00:00</td>\n",
              "      <td>2</td>\n",
              "      <td>0</td>\n",
              "    </tr>\n",
              "    <tr>\n",
              "      <th>4</th>\n",
              "      <td>5880625</td>\n",
              "      <td>other_debit_cards</td>\n",
              "      <td>118335</td>\n",
              "      <td>cat_1</td>\n",
              "      <td>other_pcs</td>\n",
              "      <td>200.0</td>\n",
              "      <td>2016-11-16 17:04:42+00:00</td>\n",
              "      <td>2</td>\n",
              "      <td>0</td>\n",
              "    </tr>\n",
              "    <tr>\n",
              "      <th>5</th>\n",
              "      <td>7344100</td>\n",
              "      <td>visa_master_debit_cards</td>\n",
              "      <td>23667</td>\n",
              "      <td>cat_2</td>\n",
              "      <td>other_pcs</td>\n",
              "      <td>20.0</td>\n",
              "      <td>2017-01-22 04:12:16+00:00</td>\n",
              "      <td>4</td>\n",
              "      <td>0</td>\n",
              "    </tr>\n",
              "  </tbody>\n",
              "</table>\n",
              "</div>"
            ],
            "text/plain": [
              "    user_id           payment_method  ...  partner_pricing_category is_fraud\n",
              "0  17539344   sbi_atm_cum_debit_card  ...                         2        0\n",
              "1  24710841        e_wallet_payments  ...                         2        0\n",
              "2  24265476        e_wallet_payments  ...                         2        0\n",
              "3  10240000        other_debit_cards  ...                         2        0\n",
              "4   5880625        other_debit_cards  ...                         2        0\n",
              "5   7344100  visa_master_debit_cards  ...                         4        0\n",
              "\n",
              "[6 rows x 9 columns]"
            ]
          },
          "metadata": {
            "tags": []
          },
          "execution_count": 21
        }
      ]
    },
    {
      "cell_type": "code",
      "metadata": {
        "colab": {
          "base_uri": "https://localhost:8080/"
        },
        "id": "0Gp7pSYS2yCN",
        "outputId": "48077c0f-09cc-4e64-a78a-66d89235576b"
      },
      "source": [
        "print(\"The number of Unique payment method in the data set is\",data['payment_method'].nunique())\n",
        "print(\"\\n\")\n",
        "print(data['payment_method'].value_counts())"
      ],
      "execution_count": null,
      "outputs": [
        {
          "output_type": "stream",
          "text": [
            "The number of Unique payment method in the data set is 6\n",
            "\n",
            "\n",
            "sbi_atm_cum_debit_card        30538\n",
            "e_wallet_payments             27384\n",
            "visa_master_debit_cards       11643\n",
            "other_debit_cards              4495\n",
            "visa_master_credit_cards       2454\n",
            "unified_payments_interface       15\n",
            "Name: payment_method, dtype: int64\n"
          ],
          "name": "stdout"
        }
      ]
    },
    {
      "cell_type": "code",
      "metadata": {
        "colab": {
          "base_uri": "https://localhost:8080/"
        },
        "id": "KXBrFlF2RXWW",
        "outputId": "4a3965e2-147d-4371-f6ea-2102620f0797"
      },
      "source": [
        "print(\"The number of Unique user id in the data set is\",data['user_id'].nunique())\n",
        "print(\"\\n\")\n",
        "print(data['user_id'].value_counts())"
      ],
      "execution_count": null,
      "outputs": [
        {
          "output_type": "stream",
          "text": [
            "The number of Unique user id in the data set is 3594\n",
            "\n",
            "\n",
            "53919649    3240\n",
            "13205956    1656\n",
            "418609      1530\n",
            "1201216      623\n",
            "16265089     622\n",
            "            ... \n",
            "4443664        1\n",
            "20187049       1\n",
            "15960025       1\n",
            "2085136        1\n",
            "13300609       1\n",
            "Name: user_id, Length: 3594, dtype: int64\n"
          ],
          "name": "stdout"
        }
      ]
    },
    {
      "cell_type": "code",
      "metadata": {
        "colab": {
          "base_uri": "https://localhost:8080/"
        },
        "id": "5pj16BDK3MEJ",
        "outputId": "5dbfc4ab-0089-47a2-b4a0-e267c030b307"
      },
      "source": [
        "print(\"The number of Unique partner category in the data set is\",data['partner_category'].nunique())\n",
        "print(\"\\n\")\n",
        "print(data['partner_category'].value_counts())"
      ],
      "execution_count": null,
      "outputs": [
        {
          "output_type": "stream",
          "text": [
            "The number of Unique partner category in the data set is 9\n",
            "\n",
            "\n",
            "cat_1    36306\n",
            "cat_2    36019\n",
            "cat_3     1536\n",
            "cat_4     1310\n",
            "cat_5     1026\n",
            "cat_7      165\n",
            "cat_6      146\n",
            "cat_8       19\n",
            "cat_9        2\n",
            "Name: partner_category, dtype: int64\n"
          ],
          "name": "stdout"
        }
      ]
    },
    {
      "cell_type": "code",
      "metadata": {
        "colab": {
          "base_uri": "https://localhost:8080/"
        },
        "id": "2lNPuOjb4k-c",
        "outputId": "4ddeadfd-4609-4a6b-aed6-d663d376ccf5"
      },
      "source": [
        "print(\"The number of Unique device type in the data set is\",data['device_type'].nunique())\n",
        "print(\"\\n\")\n",
        "print(data['device_type'].value_counts())"
      ],
      "execution_count": null,
      "outputs": [
        {
          "output_type": "stream",
          "text": [
            "The number of Unique device type in the data set is 4\n",
            "\n",
            "\n",
            "other_pcs          45560\n",
            "android_devices    29662\n",
            "ios_devices          876\n",
            "windows_pcs          431\n",
            "Name: device_type, dtype: int64\n"
          ],
          "name": "stdout"
        }
      ]
    },
    {
      "cell_type": "code",
      "metadata": {
        "colab": {
          "base_uri": "https://localhost:8080/"
        },
        "id": "uOOYWluX4yzg",
        "outputId": "b8d279e1-c723-4088-d11a-96f307153a48"
      },
      "source": [
        "print(\"The number of Unique partner pricing category in the data set is\",data['partner_pricing_category'].nunique())\n",
        "print(\"\\n\")\n",
        "print(data['partner_pricing_category'].value_counts())"
      ],
      "execution_count": null,
      "outputs": [
        {
          "output_type": "stream",
          "text": [
            "The number of Unique partner pricing category in the data set is 4\n",
            "\n",
            "\n",
            "2    63899\n",
            "4    10833\n",
            "1     1497\n",
            "0      300\n",
            "Name: partner_pricing_category, dtype: int64\n"
          ],
          "name": "stdout"
        }
      ]
    },
    {
      "cell_type": "markdown",
      "metadata": {
        "id": "wDmvUYO3Ah7R"
      },
      "source": [
        "### **Checking the datatypes and Typecasting the obvious ones**"
      ]
    },
    {
      "cell_type": "code",
      "metadata": {
        "colab": {
          "base_uri": "https://localhost:8080/"
        },
        "id": "ujP3fhLsArdA",
        "outputId": "f2656800-95e5-472e-be93-b3b26ef78860"
      },
      "source": [
        "data.dtypes"
      ],
      "execution_count": null,
      "outputs": [
        {
          "output_type": "execute_result",
          "data": {
            "text/plain": [
              "user_id                        int64\n",
              "payment_method                object\n",
              "partner_id                     int64\n",
              "partner_category              object\n",
              "device_type                   object\n",
              "money_transacted             float64\n",
              "transaction_initiation        object\n",
              "partner_pricing_category       int64\n",
              "is_fraud                    category\n",
              "dtype: object"
            ]
          },
          "metadata": {
            "tags": []
          },
          "execution_count": 27
        }
      ]
    },
    {
      "cell_type": "code",
      "metadata": {
        "id": "BvyCyt3j5nGS"
      },
      "source": [
        "cols = ['user_id',\n",
        "   'payment_method',\n",
        "   'partner_id',\n",
        "   'partner_category',\n",
        "   'device_type',\n",
        "   'partner_pricing_category']\n",
        "data[cols] = data[cols].astype('category')\n",
        "data['transaction_initiation'] = pd.to_datetime(data['transaction_initiation'])"
      ],
      "execution_count": null,
      "outputs": []
    },
    {
      "cell_type": "code",
      "metadata": {
        "id": "MWXOq2uxJOSY"
      },
      "source": [
        "data['transaction_year'] = data['transaction_initiation'].dt.year\n",
        "data['transaction_date'] = data['transaction_initiation'].dt.day\n",
        "data['transaction_month']= data['transaction_initiation'].dt.month\n",
        "data['transaction_hour'] = data['transaction_initiation'].dt.hour\n",
        "data['transaction_weekday']= data['transaction_initiation'].dt.weekday"
      ],
      "execution_count": null,
      "outputs": []
    },
    {
      "cell_type": "code",
      "metadata": {
        "colab": {
          "base_uri": "https://localhost:8080/"
        },
        "id": "N9XOm3aa7Nkg",
        "outputId": "f5c9fb68-7c7c-4c10-bae5-5c854d192fcb"
      },
      "source": [
        "data.dtypes"
      ],
      "execution_count": null,
      "outputs": [
        {
          "output_type": "execute_result",
          "data": {
            "text/plain": [
              "user_id                                category\n",
              "payment_method                         category\n",
              "partner_id                             category\n",
              "partner_category                       category\n",
              "device_type                            category\n",
              "money_transacted                        float64\n",
              "transaction_initiation      datetime64[ns, UTC]\n",
              "partner_pricing_category               category\n",
              "is_fraud                               category\n",
              "transaction_year                          int64\n",
              "transaction_date                          int64\n",
              "transaction_month                         int64\n",
              "transaction_hour                          int64\n",
              "transaction_weekday                       int64\n",
              "dtype: object"
            ]
          },
          "metadata": {
            "tags": []
          },
          "execution_count": 30
        }
      ]
    },
    {
      "cell_type": "markdown",
      "metadata": {
        "id": "N2eZzjHLDeLx"
      },
      "source": [
        "**Handling Missing Values**"
      ]
    },
    {
      "cell_type": "code",
      "metadata": {
        "colab": {
          "base_uri": "https://localhost:8080/"
        },
        "id": "6gC4zKcQ68dV",
        "outputId": "580a7beb-43bf-4403-da4e-c6a36c77fcc2"
      },
      "source": [
        "data.isna().sum()"
      ],
      "execution_count": null,
      "outputs": [
        {
          "output_type": "execute_result",
          "data": {
            "text/plain": [
              "user_id                     0\n",
              "payment_method              0\n",
              "partner_id                  0\n",
              "partner_category            0\n",
              "device_type                 0\n",
              "money_transacted            0\n",
              "transaction_initiation      0\n",
              "partner_pricing_category    0\n",
              "is_fraud                    0\n",
              "transaction_year            0\n",
              "transaction_date            0\n",
              "transaction_month           0\n",
              "transaction_hour            0\n",
              "transaction_weekday         0\n",
              "dtype: int64"
            ]
          },
          "metadata": {
            "tags": []
          },
          "execution_count": 31
        }
      ]
    },
    {
      "cell_type": "markdown",
      "metadata": {
        "id": "IFFMnnZ8DkTE"
      },
      "source": [
        "**No missing values in the data**\n"
      ]
    },
    {
      "cell_type": "code",
      "metadata": {
        "colab": {
          "base_uri": "https://localhost:8080/",
          "height": 309
        },
        "id": "CH6vpQQWDgFZ",
        "outputId": "44d26cbb-dc02-4461-efc1-c4096be355fd"
      },
      "source": [
        "data.head()"
      ],
      "execution_count": null,
      "outputs": [
        {
          "output_type": "execute_result",
          "data": {
            "text/html": [
              "<div>\n",
              "<style scoped>\n",
              "    .dataframe tbody tr th:only-of-type {\n",
              "        vertical-align: middle;\n",
              "    }\n",
              "\n",
              "    .dataframe tbody tr th {\n",
              "        vertical-align: top;\n",
              "    }\n",
              "\n",
              "    .dataframe thead th {\n",
              "        text-align: right;\n",
              "    }\n",
              "</style>\n",
              "<table border=\"1\" class=\"dataframe\">\n",
              "  <thead>\n",
              "    <tr style=\"text-align: right;\">\n",
              "      <th></th>\n",
              "      <th>user_id</th>\n",
              "      <th>payment_method</th>\n",
              "      <th>partner_id</th>\n",
              "      <th>partner_category</th>\n",
              "      <th>device_type</th>\n",
              "      <th>money_transacted</th>\n",
              "      <th>transaction_initiation</th>\n",
              "      <th>partner_pricing_category</th>\n",
              "      <th>is_fraud</th>\n",
              "      <th>transaction_year</th>\n",
              "      <th>transaction_date</th>\n",
              "      <th>transaction_month</th>\n",
              "      <th>transaction_hour</th>\n",
              "      <th>transaction_weekday</th>\n",
              "    </tr>\n",
              "  </thead>\n",
              "  <tbody>\n",
              "    <tr>\n",
              "      <th>0</th>\n",
              "      <td>17539344</td>\n",
              "      <td>sbi_atm_cum_debit_card</td>\n",
              "      <td>47334</td>\n",
              "      <td>cat_1</td>\n",
              "      <td>android_devices</td>\n",
              "      <td>-5.0</td>\n",
              "      <td>2016-11-15 19:16:12+00:00</td>\n",
              "      <td>2</td>\n",
              "      <td>0</td>\n",
              "      <td>2016</td>\n",
              "      <td>15</td>\n",
              "      <td>11</td>\n",
              "      <td>19</td>\n",
              "      <td>1</td>\n",
              "    </tr>\n",
              "    <tr>\n",
              "      <th>1</th>\n",
              "      <td>24710841</td>\n",
              "      <td>e_wallet_payments</td>\n",
              "      <td>78890</td>\n",
              "      <td>cat_2</td>\n",
              "      <td>other_pcs</td>\n",
              "      <td>100.0</td>\n",
              "      <td>2017-01-11 09:25:33+00:00</td>\n",
              "      <td>2</td>\n",
              "      <td>0</td>\n",
              "      <td>2017</td>\n",
              "      <td>11</td>\n",
              "      <td>1</td>\n",
              "      <td>9</td>\n",
              "      <td>2</td>\n",
              "    </tr>\n",
              "    <tr>\n",
              "      <th>2</th>\n",
              "      <td>24265476</td>\n",
              "      <td>e_wallet_payments</td>\n",
              "      <td>78890</td>\n",
              "      <td>cat_2</td>\n",
              "      <td>other_pcs</td>\n",
              "      <td>50.0</td>\n",
              "      <td>2016-12-07 07:58:09+00:00</td>\n",
              "      <td>2</td>\n",
              "      <td>0</td>\n",
              "      <td>2016</td>\n",
              "      <td>7</td>\n",
              "      <td>12</td>\n",
              "      <td>7</td>\n",
              "      <td>2</td>\n",
              "    </tr>\n",
              "    <tr>\n",
              "      <th>3</th>\n",
              "      <td>10240000</td>\n",
              "      <td>other_debit_cards</td>\n",
              "      <td>102557</td>\n",
              "      <td>cat_3</td>\n",
              "      <td>other_pcs</td>\n",
              "      <td>1000.0</td>\n",
              "      <td>2017-01-11 16:15:44+00:00</td>\n",
              "      <td>2</td>\n",
              "      <td>0</td>\n",
              "      <td>2017</td>\n",
              "      <td>11</td>\n",
              "      <td>1</td>\n",
              "      <td>16</td>\n",
              "      <td>2</td>\n",
              "    </tr>\n",
              "    <tr>\n",
              "      <th>4</th>\n",
              "      <td>5880625</td>\n",
              "      <td>other_debit_cards</td>\n",
              "      <td>118335</td>\n",
              "      <td>cat_1</td>\n",
              "      <td>other_pcs</td>\n",
              "      <td>200.0</td>\n",
              "      <td>2016-11-16 17:04:42+00:00</td>\n",
              "      <td>2</td>\n",
              "      <td>0</td>\n",
              "      <td>2016</td>\n",
              "      <td>16</td>\n",
              "      <td>11</td>\n",
              "      <td>17</td>\n",
              "      <td>2</td>\n",
              "    </tr>\n",
              "  </tbody>\n",
              "</table>\n",
              "</div>"
            ],
            "text/plain": [
              "    user_id          payment_method  ... transaction_hour transaction_weekday\n",
              "0  17539344  sbi_atm_cum_debit_card  ...               19                   1\n",
              "1  24710841       e_wallet_payments  ...                9                   2\n",
              "2  24265476       e_wallet_payments  ...                7                   2\n",
              "3  10240000       other_debit_cards  ...               16                   2\n",
              "4   5880625       other_debit_cards  ...               17                   2\n",
              "\n",
              "[5 rows x 14 columns]"
            ]
          },
          "metadata": {
            "tags": []
          },
          "execution_count": 32
        }
      ]
    },
    {
      "cell_type": "code",
      "metadata": {
        "id": "4XilWqg1LYCH"
      },
      "source": [
        "data.drop(['transaction_initiation','user_id'], axis = 1, inplace = True)"
      ],
      "execution_count": null,
      "outputs": []
    },
    {
      "cell_type": "code",
      "metadata": {
        "colab": {
          "base_uri": "https://localhost:8080/",
          "height": 410
        },
        "id": "HG8s_euKLe3I",
        "outputId": "2a2240f1-b824-4fce-c717-7448c8943579"
      },
      "source": [
        "data.describe(include = 'all')"
      ],
      "execution_count": null,
      "outputs": [
        {
          "output_type": "execute_result",
          "data": {
            "text/html": [
              "<div>\n",
              "<style scoped>\n",
              "    .dataframe tbody tr th:only-of-type {\n",
              "        vertical-align: middle;\n",
              "    }\n",
              "\n",
              "    .dataframe tbody tr th {\n",
              "        vertical-align: top;\n",
              "    }\n",
              "\n",
              "    .dataframe thead th {\n",
              "        text-align: right;\n",
              "    }\n",
              "</style>\n",
              "<table border=\"1\" class=\"dataframe\">\n",
              "  <thead>\n",
              "    <tr style=\"text-align: right;\">\n",
              "      <th></th>\n",
              "      <th>payment_method</th>\n",
              "      <th>partner_id</th>\n",
              "      <th>partner_category</th>\n",
              "      <th>device_type</th>\n",
              "      <th>money_transacted</th>\n",
              "      <th>partner_pricing_category</th>\n",
              "      <th>is_fraud</th>\n",
              "      <th>transaction_year</th>\n",
              "      <th>transaction_date</th>\n",
              "      <th>transaction_month</th>\n",
              "      <th>transaction_hour</th>\n",
              "      <th>transaction_weekday</th>\n",
              "    </tr>\n",
              "  </thead>\n",
              "  <tbody>\n",
              "    <tr>\n",
              "      <th>count</th>\n",
              "      <td>76529</td>\n",
              "      <td>76529.0</td>\n",
              "      <td>76529</td>\n",
              "      <td>76529</td>\n",
              "      <td>76529.000000</td>\n",
              "      <td>76529.0</td>\n",
              "      <td>76529.0</td>\n",
              "      <td>76529.000000</td>\n",
              "      <td>76529.000000</td>\n",
              "      <td>76529.000000</td>\n",
              "      <td>76529.000000</td>\n",
              "      <td>76529.000000</td>\n",
              "    </tr>\n",
              "    <tr>\n",
              "      <th>unique</th>\n",
              "      <td>6</td>\n",
              "      <td>23.0</td>\n",
              "      <td>9</td>\n",
              "      <td>4</td>\n",
              "      <td>NaN</td>\n",
              "      <td>4.0</td>\n",
              "      <td>2.0</td>\n",
              "      <td>NaN</td>\n",
              "      <td>NaN</td>\n",
              "      <td>NaN</td>\n",
              "      <td>NaN</td>\n",
              "      <td>NaN</td>\n",
              "    </tr>\n",
              "    <tr>\n",
              "      <th>top</th>\n",
              "      <td>sbi_atm_cum_debit_card</td>\n",
              "      <td>47334.0</td>\n",
              "      <td>cat_1</td>\n",
              "      <td>other_pcs</td>\n",
              "      <td>NaN</td>\n",
              "      <td>2.0</td>\n",
              "      <td>0.0</td>\n",
              "      <td>NaN</td>\n",
              "      <td>NaN</td>\n",
              "      <td>NaN</td>\n",
              "      <td>NaN</td>\n",
              "      <td>NaN</td>\n",
              "    </tr>\n",
              "    <tr>\n",
              "      <th>freq</th>\n",
              "      <td>30538</td>\n",
              "      <td>26105.0</td>\n",
              "      <td>36306</td>\n",
              "      <td>45560</td>\n",
              "      <td>NaN</td>\n",
              "      <td>63899.0</td>\n",
              "      <td>76375.0</td>\n",
              "      <td>NaN</td>\n",
              "      <td>NaN</td>\n",
              "      <td>NaN</td>\n",
              "      <td>NaN</td>\n",
              "      <td>NaN</td>\n",
              "    </tr>\n",
              "    <tr>\n",
              "      <th>mean</th>\n",
              "      <td>NaN</td>\n",
              "      <td>NaN</td>\n",
              "      <td>NaN</td>\n",
              "      <td>NaN</td>\n",
              "      <td>132.724348</td>\n",
              "      <td>NaN</td>\n",
              "      <td>NaN</td>\n",
              "      <td>2016.496100</td>\n",
              "      <td>15.909551</td>\n",
              "      <td>6.576958</td>\n",
              "      <td>12.452260</td>\n",
              "      <td>2.976911</td>\n",
              "    </tr>\n",
              "    <tr>\n",
              "      <th>std</th>\n",
              "      <td>NaN</td>\n",
              "      <td>NaN</td>\n",
              "      <td>NaN</td>\n",
              "      <td>NaN</td>\n",
              "      <td>2350.110900</td>\n",
              "      <td>NaN</td>\n",
              "      <td>NaN</td>\n",
              "      <td>0.499988</td>\n",
              "      <td>8.956141</td>\n",
              "      <td>5.223658</td>\n",
              "      <td>4.850698</td>\n",
              "      <td>1.929435</td>\n",
              "    </tr>\n",
              "    <tr>\n",
              "      <th>min</th>\n",
              "      <td>NaN</td>\n",
              "      <td>NaN</td>\n",
              "      <td>NaN</td>\n",
              "      <td>NaN</td>\n",
              "      <td>-20000.000000</td>\n",
              "      <td>NaN</td>\n",
              "      <td>NaN</td>\n",
              "      <td>2016.000000</td>\n",
              "      <td>1.000000</td>\n",
              "      <td>1.000000</td>\n",
              "      <td>0.000000</td>\n",
              "      <td>0.000000</td>\n",
              "    </tr>\n",
              "    <tr>\n",
              "      <th>25%</th>\n",
              "      <td>NaN</td>\n",
              "      <td>NaN</td>\n",
              "      <td>NaN</td>\n",
              "      <td>NaN</td>\n",
              "      <td>-1.000000</td>\n",
              "      <td>NaN</td>\n",
              "      <td>NaN</td>\n",
              "      <td>2016.000000</td>\n",
              "      <td>8.000000</td>\n",
              "      <td>1.000000</td>\n",
              "      <td>8.000000</td>\n",
              "      <td>2.000000</td>\n",
              "    </tr>\n",
              "    <tr>\n",
              "      <th>50%</th>\n",
              "      <td>NaN</td>\n",
              "      <td>NaN</td>\n",
              "      <td>NaN</td>\n",
              "      <td>NaN</td>\n",
              "      <td>20.000000</td>\n",
              "      <td>NaN</td>\n",
              "      <td>NaN</td>\n",
              "      <td>2016.000000</td>\n",
              "      <td>16.000000</td>\n",
              "      <td>11.000000</td>\n",
              "      <td>13.000000</td>\n",
              "      <td>2.000000</td>\n",
              "    </tr>\n",
              "    <tr>\n",
              "      <th>75%</th>\n",
              "      <td>NaN</td>\n",
              "      <td>NaN</td>\n",
              "      <td>NaN</td>\n",
              "      <td>NaN</td>\n",
              "      <td>52.000000</td>\n",
              "      <td>NaN</td>\n",
              "      <td>NaN</td>\n",
              "      <td>2017.000000</td>\n",
              "      <td>24.000000</td>\n",
              "      <td>12.000000</td>\n",
              "      <td>17.000000</td>\n",
              "      <td>5.000000</td>\n",
              "    </tr>\n",
              "    <tr>\n",
              "      <th>max</th>\n",
              "      <td>NaN</td>\n",
              "      <td>NaN</td>\n",
              "      <td>NaN</td>\n",
              "      <td>NaN</td>\n",
              "      <td>197217.760000</td>\n",
              "      <td>NaN</td>\n",
              "      <td>NaN</td>\n",
              "      <td>2017.000000</td>\n",
              "      <td>31.000000</td>\n",
              "      <td>12.000000</td>\n",
              "      <td>23.000000</td>\n",
              "      <td>6.000000</td>\n",
              "    </tr>\n",
              "  </tbody>\n",
              "</table>\n",
              "</div>"
            ],
            "text/plain": [
              "                payment_method  ...  transaction_weekday\n",
              "count                    76529  ...         76529.000000\n",
              "unique                       6  ...                  NaN\n",
              "top     sbi_atm_cum_debit_card  ...                  NaN\n",
              "freq                     30538  ...                  NaN\n",
              "mean                       NaN  ...             2.976911\n",
              "std                        NaN  ...             1.929435\n",
              "min                        NaN  ...             0.000000\n",
              "25%                        NaN  ...             2.000000\n",
              "50%                        NaN  ...             2.000000\n",
              "75%                        NaN  ...             5.000000\n",
              "max                        NaN  ...             6.000000\n",
              "\n",
              "[11 rows x 12 columns]"
            ]
          },
          "metadata": {
            "tags": []
          },
          "execution_count": 34
        }
      ]
    },
    {
      "cell_type": "markdown",
      "metadata": {
        "id": "vPZEw4V0Gjrd"
      },
      "source": [
        "## **Univariate Analysis**"
      ]
    },
    {
      "cell_type": "code",
      "metadata": {
        "id": "KA5o8ADGMCeq"
      },
      "source": [
        "def barplot(column,df):\n",
        "    plt.figure(figsize = (15,7))\n",
        "    bar_plot1 = sns.countplot(x=column, data=df)\n",
        "    plt.xticks(rotation = 45)\n",
        "    total = len(df[column])\n",
        "    for p in bar_plot1.patches:\n",
        "        percentage = '{:.2f}%'.format(100 * p.get_height()/total)\n",
        "        height = p.get_height()\n",
        "        bar_plot1.text(p.get_x()+ p.get_width()/2, height + 400, percentage, ha=\"center\")"
      ],
      "execution_count": null,
      "outputs": []
    },
    {
      "cell_type": "code",
      "metadata": {
        "colab": {
          "base_uri": "https://localhost:8080/",
          "height": 467
        },
        "id": "b7LQrzneLhcf",
        "outputId": "0c23fc26-319e-421b-f774-1e669c837647"
      },
      "source": [
        "barplot('partner_id',data) #Around 88 percent of the transactions are done by only 4 partners"
      ],
      "execution_count": null,
      "outputs": [
        {
          "output_type": "display_data",
          "data": {
            "image/png": "[encoded data removed]",
            "text/plain": [
              "<Figure size 1080x504 with 1 Axes>"
            ]
          },
          "metadata": {
            "tags": [],
            "needs_background": "light"
          }
        }
      ]
    },
    {
      "cell_type": "code",
      "metadata": {
        "colab": {
          "base_uri": "https://localhost:8080/",
          "height": 539
        },
        "id": "bb5muG46L1wk",
        "outputId": "31a0c194-d1c4-44ad-89cf-5718e996cc62"
      },
      "source": [
        "barplot('payment_method',data) # Very few UPI transactions and most of the transactions are made through 'sbi_atm_cum_debit_card'"
      ],
      "execution_count": null,
      "outputs": [
        {
          "output_type": "display_data",
          "data": {
            "image/png": "[encoded data removed]",
            "text/plain": [
              "<Figure size 1080x504 with 1 Axes>"
            ]
          },
          "metadata": {
            "tags": [],
            "needs_background": "light"
          }
        }
      ]
    },
    {
      "cell_type": "code",
      "metadata": {
        "colab": {
          "base_uri": "https://localhost:8080/",
          "height": 460
        },
        "id": "ME-xNVQwMgLZ",
        "outputId": "a7dd24c4-9348-44d5-c0c1-7f728d6e9c3b"
      },
      "source": [
        "barplot('partner_category',data) #Around 95% of the traansactions belong to category 1,2"
      ],
      "execution_count": null,
      "outputs": [
        {
          "output_type": "display_data",
          "data": {
            "image/png": "[encoded data removed]",
            "text/plain": [
              "<Figure size 1080x504 with 1 Axes>"
            ]
          },
          "metadata": {
            "tags": [],
            "needs_background": "light"
          }
        }
      ]
    },
    {
      "cell_type": "code",
      "metadata": {
        "colab": {
          "base_uri": "https://localhost:8080/",
          "height": 498
        },
        "id": "0IL1g7kxMgXC",
        "outputId": "8a7a32b1-6661-4b55-8482-5557b8f19c3a"
      },
      "source": [
        "barplot('device_type',data) # Very few transactions are done through IOS devices and Windows_ps"
      ],
      "execution_count": null,
      "outputs": [
        {
          "output_type": "display_data",
          "data": {
            "image/png": "[encoded data removed]",
            "text/plain": [
              "<Figure size 1080x504 with 1 Axes>"
            ]
          },
          "metadata": {
            "tags": [],
            "needs_background": "light"
          }
        }
      ]
    },
    {
      "cell_type": "code",
      "metadata": {
        "colab": {
          "base_uri": "https://localhost:8080/",
          "height": 470
        },
        "id": "I8yWUE-cMgfa",
        "outputId": "6ec10a3c-3813-44f3-e572-995cbd3bbd53"
      },
      "source": [
        "barplot('transaction_date',data) # There is no particular day which has high number of transactions"
      ],
      "execution_count": null,
      "outputs": [
        {
          "output_type": "display_data",
          "data": {
            "image/png": "[encoded data removed]",
            "text/plain": [
              "<Figure size 1080x504 with 1 Axes>"
            ]
          },
          "metadata": {
            "tags": [],
            "needs_background": "light"
          }
        }
      ]
    },
    {
      "cell_type": "code",
      "metadata": {
        "colab": {
          "base_uri": "https://localhost:8080/",
          "height": 464
        },
        "id": "LFOkOY4nMzq2",
        "outputId": "65f6f174-65e0-4418-efd2-f779ad51e35f"
      },
      "source": [
        "barplot('transaction_hour',data) # Most of the transactions are done between 5 am and 10 pm"
      ],
      "execution_count": null,
      "outputs": [
        {
          "output_type": "display_data",
          "data": {
            "image/png": "[encoded data removed]",
            "text/plain": [
              "<Figure size 1080x504 with 1 Axes>"
            ]
          },
          "metadata": {
            "tags": [],
            "needs_background": "light"
          }
        }
      ]
    },
    {
      "cell_type": "markdown",
      "metadata": {
        "id": "QBs9SHszIlkT"
      },
      "source": [
        "# **Feature Engineering**"
      ]
    },
    {
      "cell_type": "code",
      "metadata": {
        "colab": {
          "base_uri": "https://localhost:8080/",
          "height": 224
        },
        "id": "OT9ITuvLNkZo",
        "outputId": "4c492805-4e72-44a2-b87e-a5329772332f"
      },
      "source": [
        "# Generating new feature\n",
        "data['credit'] = np.nan\n",
        "for i in range(len(data)):\n",
        "    if data.loc[i, 'money_transacted'] < 0:\n",
        "        data.loc[i, 'credit'] = 1\n",
        "    elif data.loc[i, 'money_transacted'] > 0:\n",
        "        data.loc[i, 'credit'] = 0\n",
        "        \n",
        "data['credit'] = data['credit'].astype('int64')\n",
        "data['money_transacted'] = abs(data['money_transacted'])\n",
        "data.head()\n",
        "\n",
        "# Making the money as positive value by using credit row"
      ],
      "execution_count": null,
      "outputs": [
        {
          "output_type": "execute_result",
          "data": {
            "text/html": [
              "<div>\n",
              "<style scoped>\n",
              "    .dataframe tbody tr th:only-of-type {\n",
              "        vertical-align: middle;\n",
              "    }\n",
              "\n",
              "    .dataframe tbody tr th {\n",
              "        vertical-align: top;\n",
              "    }\n",
              "\n",
              "    .dataframe thead th {\n",
              "        text-align: right;\n",
              "    }\n",
              "</style>\n",
              "<table border=\"1\" class=\"dataframe\">\n",
              "  <thead>\n",
              "    <tr style=\"text-align: right;\">\n",
              "      <th></th>\n",
              "      <th>payment_method</th>\n",
              "      <th>partner_id</th>\n",
              "      <th>partner_category</th>\n",
              "      <th>device_type</th>\n",
              "      <th>money_transacted</th>\n",
              "      <th>partner_pricing_category</th>\n",
              "      <th>is_fraud</th>\n",
              "      <th>transaction_year</th>\n",
              "      <th>transaction_date</th>\n",
              "      <th>transaction_month</th>\n",
              "      <th>transaction_hour</th>\n",
              "      <th>transaction_weekday</th>\n",
              "      <th>credit</th>\n",
              "    </tr>\n",
              "  </thead>\n",
              "  <tbody>\n",
              "    <tr>\n",
              "      <th>0</th>\n",
              "      <td>sbi_atm_cum_debit_card</td>\n",
              "      <td>47334</td>\n",
              "      <td>cat_1</td>\n",
              "      <td>android_devices</td>\n",
              "      <td>5.0</td>\n",
              "      <td>2</td>\n",
              "      <td>0</td>\n",
              "      <td>2016</td>\n",
              "      <td>15</td>\n",
              "      <td>11</td>\n",
              "      <td>19</td>\n",
              "      <td>1</td>\n",
              "      <td>1</td>\n",
              "    </tr>\n",
              "    <tr>\n",
              "      <th>1</th>\n",
              "      <td>e_wallet_payments</td>\n",
              "      <td>78890</td>\n",
              "      <td>cat_2</td>\n",
              "      <td>other_pcs</td>\n",
              "      <td>100.0</td>\n",
              "      <td>2</td>\n",
              "      <td>0</td>\n",
              "      <td>2017</td>\n",
              "      <td>11</td>\n",
              "      <td>1</td>\n",
              "      <td>9</td>\n",
              "      <td>2</td>\n",
              "      <td>0</td>\n",
              "    </tr>\n",
              "    <tr>\n",
              "      <th>2</th>\n",
              "      <td>e_wallet_payments</td>\n",
              "      <td>78890</td>\n",
              "      <td>cat_2</td>\n",
              "      <td>other_pcs</td>\n",
              "      <td>50.0</td>\n",
              "      <td>2</td>\n",
              "      <td>0</td>\n",
              "      <td>2016</td>\n",
              "      <td>7</td>\n",
              "      <td>12</td>\n",
              "      <td>7</td>\n",
              "      <td>2</td>\n",
              "      <td>0</td>\n",
              "    </tr>\n",
              "    <tr>\n",
              "      <th>3</th>\n",
              "      <td>other_debit_cards</td>\n",
              "      <td>102557</td>\n",
              "      <td>cat_3</td>\n",
              "      <td>other_pcs</td>\n",
              "      <td>1000.0</td>\n",
              "      <td>2</td>\n",
              "      <td>0</td>\n",
              "      <td>2017</td>\n",
              "      <td>11</td>\n",
              "      <td>1</td>\n",
              "      <td>16</td>\n",
              "      <td>2</td>\n",
              "      <td>0</td>\n",
              "    </tr>\n",
              "    <tr>\n",
              "      <th>4</th>\n",
              "      <td>other_debit_cards</td>\n",
              "      <td>118335</td>\n",
              "      <td>cat_1</td>\n",
              "      <td>other_pcs</td>\n",
              "      <td>200.0</td>\n",
              "      <td>2</td>\n",
              "      <td>0</td>\n",
              "      <td>2016</td>\n",
              "      <td>16</td>\n",
              "      <td>11</td>\n",
              "      <td>17</td>\n",
              "      <td>2</td>\n",
              "      <td>0</td>\n",
              "    </tr>\n",
              "  </tbody>\n",
              "</table>\n",
              "</div>"
            ],
            "text/plain": [
              "           payment_method partner_id  ... transaction_weekday credit\n",
              "0  sbi_atm_cum_debit_card      47334  ...                   1      1\n",
              "1       e_wallet_payments      78890  ...                   2      0\n",
              "2       e_wallet_payments      78890  ...                   2      0\n",
              "3       other_debit_cards     102557  ...                   2      0\n",
              "4       other_debit_cards     118335  ...                   2      0\n",
              "\n",
              "[5 rows x 13 columns]"
            ]
          },
          "metadata": {
            "tags": []
          },
          "execution_count": 42
        }
      ]
    },
    {
      "cell_type": "code",
      "metadata": {
        "colab": {
          "base_uri": "https://localhost:8080/"
        },
        "id": "iXjG9fJrOSWr",
        "outputId": "c1cc40e9-de02-4989-cd62-224be9866f00"
      },
      "source": [
        "data.dtypes"
      ],
      "execution_count": null,
      "outputs": [
        {
          "output_type": "execute_result",
          "data": {
            "text/plain": [
              "payment_method              category\n",
              "partner_id                  category\n",
              "partner_category            category\n",
              "device_type                 category\n",
              "money_transacted             float64\n",
              "partner_pricing_category    category\n",
              "is_fraud                    category\n",
              "transaction_year               int64\n",
              "transaction_date               int64\n",
              "transaction_month              int64\n",
              "transaction_hour               int64\n",
              "transaction_weekday            int64\n",
              "credit                         int64\n",
              "dtype: object"
            ]
          },
          "metadata": {
            "tags": []
          },
          "execution_count": 43
        }
      ]
    },
    {
      "cell_type": "markdown",
      "metadata": {
        "id": "XW-mWy5MI7t_"
      },
      "source": [
        "Typecasting the newly created features"
      ]
    },
    {
      "cell_type": "code",
      "metadata": {
        "colab": {
          "base_uri": "https://localhost:8080/"
        },
        "id": "Hs9GAKQyOqdI",
        "outputId": "1d1be68d-0748-41d7-8703-3b527817ebbd"
      },
      "source": [
        "data[['transaction_year', 'transaction_month','transaction_weekday', 'credit']] = data[['transaction_year', 'transaction_month','transaction_weekday', 'credit']].astype('category')\n",
        "data.dtypes"
      ],
      "execution_count": null,
      "outputs": [
        {
          "output_type": "execute_result",
          "data": {
            "text/plain": [
              "payment_method              category\n",
              "partner_id                  category\n",
              "partner_category            category\n",
              "device_type                 category\n",
              "money_transacted             float64\n",
              "partner_pricing_category    category\n",
              "is_fraud                    category\n",
              "transaction_year            category\n",
              "transaction_date               int64\n",
              "transaction_month           category\n",
              "transaction_hour               int64\n",
              "transaction_weekday         category\n",
              "credit                      category\n",
              "dtype: object"
            ]
          },
          "metadata": {
            "tags": []
          },
          "execution_count": 44
        }
      ]
    },
    {
      "cell_type": "markdown",
      "metadata": {
        "id": "UyeWxrQAKbRo"
      },
      "source": [
        "## **Performing Chisquare test of independence on categorical variables**"
      ]
    },
    {
      "cell_type": "code",
      "metadata": {
        "id": "r9usCfwRO0M-",
        "colab": {
          "base_uri": "https://localhost:8080/"
        },
        "outputId": "815f5d62-6923-4cdd-f53c-34dbd2858b1a"
      },
      "source": [
        "from scipy.stats import chi2_contingency\n",
        "from scipy.stats import chi2\n",
        "\n",
        "import statsmodels.api as sm"
      ],
      "execution_count": null,
      "outputs": [
        {
          "output_type": "stream",
          "text": [
            "/usr/local/lib/python3.6/dist-packages/statsmodels/tools/_testing.py:19: FutureWarning: pandas.util.testing is deprecated. Use the functions in the public API at pandas.testing instead.\n",
            "  import pandas.util.testing as tm\n"
          ],
          "name": "stderr"
        }
      ]
    },
    {
      "cell_type": "code",
      "metadata": {
        "colab": {
          "base_uri": "https://localhost:8080/"
        },
        "id": "6rTF80YmO8yg",
        "outputId": "4a3f005f-c19f-4b95-b48e-3922cfc157e3"
      },
      "source": [
        "cat_cols = data.select_dtypes('category').columns\n",
        "cat_cols"
      ],
      "execution_count": null,
      "outputs": [
        {
          "output_type": "execute_result",
          "data": {
            "text/plain": [
              "Index(['payment_method', 'partner_id', 'partner_category', 'device_type',\n",
              "       'partner_pricing_category', 'is_fraud', 'transaction_year',\n",
              "       'transaction_month', 'transaction_weekday', 'credit'],\n",
              "      dtype='object')"
            ]
          },
          "metadata": {
            "tags": []
          },
          "execution_count": 46
        }
      ]
    },
    {
      "cell_type": "code",
      "metadata": {
        "id": "Ru-8nEmjPMzc"
      },
      "source": [
        "def find_chi2_independence(cat_col, target, data, alpha=0.05):\n",
        "    data = data[[target, cat_col]]\n",
        "    tab = sm.stats.Table.from_data(data)\n",
        "    tab = tab.table_orig.to_numpy()\n",
        "    print(f\"---------------{target} Vs {cat_col} Chi Square Test of Independence -------------------\")\n",
        "    print(f\"\\n Contingency table :\\n\")\n",
        "    print(tab)\n",
        "    \n",
        "    stat, p, dof, expected = chi2_contingency(tab)\n",
        "    print(f\"\\n Expected table :\\n\")\n",
        "    print(expected)\n",
        "    \n",
        "    print(f\"The p value returned = {p} and degrees of freedom returned = {dof}\")\n",
        "    \n",
        "    # interpret p-value\n",
        "    print('significance(alpha) = %.3f' % (alpha))\n",
        "\n",
        "    if p <= alpha:\n",
        "        print('Dependent (reject H0)')\n",
        "    else:\n",
        "        print('Independent (fail to reject H0)') "
      ],
      "execution_count": null,
      "outputs": []
    },
    {
      "cell_type": "code",
      "metadata": {
        "colab": {
          "base_uri": "https://localhost:8080/"
        },
        "id": "lEgbUJbVPVrl",
        "outputId": "6fade8a5-a601-44eb-e1d5-2c28780808ee"
      },
      "source": [
        "for col in cat_cols:\n",
        "    find_chi2_independence(col, 'is_fraud', data)"
      ],
      "execution_count": null,
      "outputs": [
        {
          "output_type": "stream",
          "text": [
            "---------------is_fraud Vs payment_method Chi Square Test of Independence -------------------\n",
            "\n",
            " Contingency table :\n",
            "\n",
            "[[27382  4452 30533    15  2401 11592]\n",
            " [    2    43     5     0    53    51]]\n",
            "\n",
            " Expected table :\n",
            "\n",
            "[[2.73288949e+04 4.48595467e+03 3.04765481e+04 1.49698154e+01\n",
            "  2.44906179e+03 1.16195707e+04]\n",
            " [5.51050713e+01 9.04532922e+00 6.14518941e+01 3.01846359e-02\n",
            "  4.93820643e+00 2.34293144e+01]]\n",
            "The p value returned = 5.316478181917259e-156 and degrees of freedom returned = 5\n",
            "significance(alpha) = 0.050\n",
            "Dependent (reject H0)\n",
            "---------------is_fraud Vs partner_id Chi Square Test of Independence -------------------\n",
            "\n",
            " Contingency table :\n",
            "\n",
            "[[ 2317   189 19517  1892    17 26104    75   159    12 12267  1121     2\n",
            "    227   640  9422    10   767   165  1212    88     1   146    25]\n",
            " [    0     0     9     0     2     1     0     0     3     6     0     0\n",
            "      4     0   124     0     0     0     4     1     0     0     0]]\n",
            "\n",
            " Expected table :\n",
            "\n",
            "[[2.31233748e+03 1.88619674e+02 1.94867077e+04 1.88819271e+03\n",
            "  1.89617661e+01 2.60524687e+04 7.48490768e+01 1.58680043e+02\n",
            "  1.49698154e+01 1.22483029e+04 1.11874420e+03 1.99597538e+00\n",
            "  2.30535157e+02 6.38712122e+02 9.52679050e+03 9.97987691e+00\n",
            "  7.65456559e+02 1.64667969e+02 1.21355303e+03 8.88209045e+01\n",
            "  9.97987691e-01 1.45706203e+02 2.49496923e+01]\n",
            " [4.66252009e+00 3.80326412e-01 3.92923467e+01 3.80728874e+00\n",
            "  3.82338721e-02 5.25313280e+01 1.50923179e-01 3.19957140e-01\n",
            "  3.01846359e-02 2.46970691e+01 2.25579846e+00 4.02461812e-03\n",
            "  4.64843393e-01 1.28787780e+00 1.92095023e+01 2.01230906e-02\n",
            "  1.54344105e+00 3.32030995e-01 2.44696782e+00 1.79095506e-01\n",
            "  2.01230906e-03 2.93797123e-01 5.03077265e-02]]\n",
            "The p value returned = 4.635079748110754e-219 and degrees of freedom returned = 22\n",
            "significance(alpha) = 0.050\n",
            "Dependent (reject H0)\n",
            "---------------is_fraud Vs partner_category Chi Square Test of Independence -------------------\n",
            "\n",
            " Contingency table :\n",
            "\n",
            "[[36178 36004  1527  1310  1026   146   165    17     2]\n",
            " [  128    15     9     0     0     0     0     2     0]]\n",
            "\n",
            " Expected table :\n",
            "\n",
            "[[3.62329411e+04 3.59465186e+04 1.53290909e+03 1.30736388e+03\n",
            "  1.02393537e+03 1.45706203e+02 1.64667969e+02 1.89617661e+01\n",
            "  1.99597538e+00]\n",
            " [7.30588927e+01 7.24813600e+01 3.09090672e+00 2.63612487e+00\n",
            "  2.06462909e+00 2.93797123e-01 3.32030995e-01 3.82338721e-02\n",
            "  4.02461812e-03]]\n",
            "The p value returned = 6.8587853565513275e-40 and degrees of freedom returned = 8\n",
            "significance(alpha) = 0.050\n",
            "Dependent (reject H0)\n",
            "---------------is_fraud Vs device_type Chi Square Test of Independence -------------------\n",
            "\n",
            " Contingency table :\n",
            "\n",
            "[[29657   876 45415   427]\n",
            " [    5     0   145     4]]\n",
            "\n",
            " Expected table :\n",
            "\n",
            "[[2.96023109e+04 8.74237217e+02 4.54683192e+04 4.30132695e+02]\n",
            " [5.96891113e+01 1.76278274e+00 9.16808007e+01 8.67305205e-01]]\n",
            "The p value returned = 2.5031183694642124e-20 and degrees of freedom returned = 3\n",
            "significance(alpha) = 0.050\n",
            "Dependent (reject H0)\n",
            "---------------is_fraud Vs partner_pricing_category Chi Square Test of Independence -------------------\n",
            "\n",
            " Contingency table :\n",
            "\n",
            "[[  271  1491 63789 10824]\n",
            " [   29     6   110     9]]\n",
            "\n",
            " Expected table :\n",
            "\n",
            "[[2.99396307e+02 1.49398757e+03 6.37704155e+04 1.08112007e+04]\n",
            " [6.03692718e-01 3.01242666e+00 1.28584537e+02 2.17993440e+01]]\n",
            "The p value returned = 9.456633670840907e-293 and degrees of freedom returned = 3\n",
            "significance(alpha) = 0.050\n",
            "Dependent (reject H0)\n",
            "---------------is_fraud Vs is_fraud Chi Square Test of Independence -------------------\n",
            "\n",
            " Contingency table :\n",
            "\n",
            "[[76375     0]\n",
            " [    0   154]]\n",
            "\n",
            " Expected table :\n",
            "\n",
            "[[7.62213099e+04 1.53690104e+02]\n",
            " [1.53690104e+02 3.09895595e-01]]\n",
            "The p value returned = 0.0 and degrees of freedom returned = 1\n",
            "significance(alpha) = 0.050\n",
            "Dependent (reject H0)\n",
            "---------------is_fraud Vs transaction_year Chi Square Test of Independence -------------------\n",
            "\n",
            " Contingency table :\n",
            "\n",
            "[[38502 37873]\n",
            " [   61    93]]\n",
            "\n",
            " Expected table :\n",
            "\n",
            "[[38485.39932575 37889.60067425]\n",
            " [   77.60067425    76.39932575]]\n",
            "The p value returned = 0.009389078690882107 and degrees of freedom returned = 1\n",
            "significance(alpha) = 0.050\n",
            "Dependent (reject H0)\n",
            "---------------is_fraud Vs transaction_month Chi Square Test of Independence -------------------\n",
            "\n",
            " Contingency table :\n",
            "\n",
            "[[25295 12578 10004 28498]\n",
            " [   50    43    11    50]]\n",
            "\n",
            " Expected table :\n",
            "\n",
            "[[2.52939980e+04 1.25956026e+04 9.99484672e+03 2.84905526e+04]\n",
            " [5.10019731e+01 2.53973526e+01 2.01532752e+01 5.74473990e+01]]\n",
            "The p value returned = 0.0005909621971541256 and degrees of freedom returned = 3\n",
            "significance(alpha) = 0.050\n",
            "Dependent (reject H0)\n",
            "---------------is_fraud Vs transaction_weekday Chi Square Test of Independence -------------------\n",
            "\n",
            " Contingency table :\n",
            "\n",
            "[[ 8186  8795 22149  8102  7752  9396 11995]\n",
            " [   19    28    22    23    13    24    25]]\n",
            "\n",
            " Expected table :\n",
            "\n",
            "[[8.18848900e+03 8.80524540e+03 2.21263851e+04 8.10864999e+03\n",
            "  7.74937442e+03 9.40104405e+03 1.19958120e+04]\n",
            " [1.65109958e+01 1.77546028e+01 4.46149042e+01 1.63500111e+01\n",
            "  1.56255798e+01 1.89559513e+01 2.41879549e+01]]\n",
            "The p value returned = 0.0010633733603864887 and degrees of freedom returned = 6\n",
            "significance(alpha) = 0.050\n",
            "Dependent (reject H0)\n",
            "---------------is_fraud Vs credit Chi Square Test of Independence -------------------\n",
            "\n",
            " Contingency table :\n",
            "\n",
            "[[45842 30533]\n",
            " [  149     5]]\n",
            "\n",
            " Expected table :\n",
            "\n",
            "[[45898.45189405 30476.54810595]\n",
            " [   92.54810595    61.45189405]]\n",
            "The p value returned = 3.0725200523142655e-20 and degrees of freedom returned = 1\n",
            "significance(alpha) = 0.050\n",
            "Dependent (reject H0)\n"
          ],
          "name": "stdout"
        }
      ]
    },
    {
      "cell_type": "markdown",
      "metadata": {
        "id": "_z2Zcx96K8nG"
      },
      "source": [
        "## **Test data**"
      ]
    },
    {
      "cell_type": "code",
      "metadata": {
        "id": "1TeWSjQuPj7g"
      },
      "source": [
        "test = pd.read_csv('/content/gdrive/MyDrive/MiTH/test_data-1611220982388.csv')"
      ],
      "execution_count": null,
      "outputs": []
    },
    {
      "cell_type": "code",
      "metadata": {
        "colab": {
          "base_uri": "https://localhost:8080/"
        },
        "id": "mB6qo56IURUd",
        "outputId": "0f9c9f6f-66f2-470f-a67f-f388f25176db"
      },
      "source": [
        "test.shape"
      ],
      "execution_count": null,
      "outputs": [
        {
          "output_type": "execute_result",
          "data": {
            "text/plain": [
              "(19133, 10)"
            ]
          },
          "metadata": {
            "tags": []
          },
          "execution_count": 50
        }
      ]
    },
    {
      "cell_type": "code",
      "metadata": {
        "colab": {
          "base_uri": "https://localhost:8080/",
          "height": 357
        },
        "id": "UNYNnx-ZUspq",
        "outputId": "fa3f41ae-dbbd-4a4d-d1c3-2277816fd36f"
      },
      "source": [
        "test[:6]"
      ],
      "execution_count": null,
      "outputs": [
        {
          "output_type": "execute_result",
          "data": {
            "text/html": [
              "<div>\n",
              "<style scoped>\n",
              "    .dataframe tbody tr th:only-of-type {\n",
              "        vertical-align: middle;\n",
              "    }\n",
              "\n",
              "    .dataframe tbody tr th {\n",
              "        vertical-align: top;\n",
              "    }\n",
              "\n",
              "    .dataframe thead th {\n",
              "        text-align: right;\n",
              "    }\n",
              "</style>\n",
              "<table border=\"1\" class=\"dataframe\">\n",
              "  <thead>\n",
              "    <tr style=\"text-align: right;\">\n",
              "      <th></th>\n",
              "      <th>transaction_number</th>\n",
              "      <th>user_id</th>\n",
              "      <th>payment_method</th>\n",
              "      <th>partner_id</th>\n",
              "      <th>partner_category</th>\n",
              "      <th>country</th>\n",
              "      <th>device_type</th>\n",
              "      <th>money_transacted</th>\n",
              "      <th>transaction_initiation</th>\n",
              "      <th>partner_pricing_category</th>\n",
              "    </tr>\n",
              "  </thead>\n",
              "  <tbody>\n",
              "    <tr>\n",
              "      <th>0</th>\n",
              "      <td>857050141038272</td>\n",
              "      <td>3802500</td>\n",
              "      <td>visa_master_debit_cards</td>\n",
              "      <td>118335</td>\n",
              "      <td>cat_1</td>\n",
              "      <td>IND_INR</td>\n",
              "      <td>other_pcs</td>\n",
              "      <td>200.0</td>\n",
              "      <td>2016-12-28 14:44:37+00:00</td>\n",
              "      <td>2</td>\n",
              "    </tr>\n",
              "    <tr>\n",
              "      <th>1</th>\n",
              "      <td>4400462872603</td>\n",
              "      <td>200704</td>\n",
              "      <td>e_wallet_payments</td>\n",
              "      <td>23667</td>\n",
              "      <td>cat_2</td>\n",
              "      <td>IND_INR</td>\n",
              "      <td>other_pcs</td>\n",
              "      <td>20.0</td>\n",
              "      <td>2016-12-14 17:49:48+00:00</td>\n",
              "      <td>2</td>\n",
              "    </tr>\n",
              "    <tr>\n",
              "      <th>2</th>\n",
              "      <td>1207915598569499</td>\n",
              "      <td>25150225</td>\n",
              "      <td>sbi_atm_cum_debit_card</td>\n",
              "      <td>47334</td>\n",
              "      <td>cat_1</td>\n",
              "      <td>IND_INR</td>\n",
              "      <td>android_devices</td>\n",
              "      <td>-100.0</td>\n",
              "      <td>2017-01-21 10:18:11+00:00</td>\n",
              "      <td>2</td>\n",
              "    </tr>\n",
              "    <tr>\n",
              "      <th>3</th>\n",
              "      <td>2009725616777536</td>\n",
              "      <td>21827584</td>\n",
              "      <td>visa_master_credit_cards</td>\n",
              "      <td>78890</td>\n",
              "      <td>cat_2</td>\n",
              "      <td>IND_INR</td>\n",
              "      <td>other_pcs</td>\n",
              "      <td>200.0</td>\n",
              "      <td>2017-01-16 13:25:10+00:00</td>\n",
              "      <td>1</td>\n",
              "    </tr>\n",
              "    <tr>\n",
              "      <th>4</th>\n",
              "      <td>2319205210274863</td>\n",
              "      <td>576081</td>\n",
              "      <td>e_wallet_payments</td>\n",
              "      <td>23667</td>\n",
              "      <td>cat_2</td>\n",
              "      <td>IND_INR</td>\n",
              "      <td>other_pcs</td>\n",
              "      <td>100.0</td>\n",
              "      <td>2017-02-09 12:47:28+00:00</td>\n",
              "      <td>2</td>\n",
              "    </tr>\n",
              "    <tr>\n",
              "      <th>5</th>\n",
              "      <td>17661313666088</td>\n",
              "      <td>1256641</td>\n",
              "      <td>e_wallet_payments</td>\n",
              "      <td>78890</td>\n",
              "      <td>cat_2</td>\n",
              "      <td>IND_INR</td>\n",
              "      <td>other_pcs</td>\n",
              "      <td>20.0</td>\n",
              "      <td>2017-01-28 02:27:38+00:00</td>\n",
              "      <td>2</td>\n",
              "    </tr>\n",
              "  </tbody>\n",
              "</table>\n",
              "</div>"
            ],
            "text/plain": [
              "   transaction_number  ...  partner_pricing_category\n",
              "0     857050141038272  ...                         2\n",
              "1       4400462872603  ...                         2\n",
              "2    1207915598569499  ...                         2\n",
              "3    2009725616777536  ...                         1\n",
              "4    2319205210274863  ...                         2\n",
              "5      17661313666088  ...                         2\n",
              "\n",
              "[6 rows x 10 columns]"
            ]
          },
          "metadata": {
            "tags": []
          },
          "execution_count": 51
        }
      ]
    },
    {
      "cell_type": "code",
      "metadata": {
        "id": "_aWFC6xHUik1"
      },
      "source": [
        "test.drop(['transaction_number', 'country','user_id'], axis = 1, inplace = True)"
      ],
      "execution_count": null,
      "outputs": []
    },
    {
      "cell_type": "code",
      "metadata": {
        "id": "t8PW8KY-U8a7"
      },
      "source": [
        "cat_cols1 = ['payment_method','partner_id','partner_category', 'device_type', 'partner_pricing_category']\n",
        "test[cat_cols1] = test[cat_cols1].astype('category')"
      ],
      "execution_count": null,
      "outputs": []
    },
    {
      "cell_type": "code",
      "metadata": {
        "id": "jbq0SHKUVWsI"
      },
      "source": [
        "test['transaction_initiation'] = pd.to_datetime(test['transaction_initiation'])\n",
        "\n",
        "test['transaction_year'] = test['transaction_initiation'].dt.year\n",
        "test['transaction_date'] = test['transaction_initiation'].dt.day\n",
        "test['transaction_month']=test['transaction_initiation'].dt.month\n",
        "test['transaction_hour'] = test['transaction_initiation'].dt.hour\n",
        "test['transaction_weekday']=test['transaction_initiation'].dt.weekday"
      ],
      "execution_count": null,
      "outputs": []
    },
    {
      "cell_type": "code",
      "metadata": {
        "id": "Rw2kfQr4Vd8Z"
      },
      "source": [
        "test.drop('transaction_initiation', axis = 1, inplace = True)"
      ],
      "execution_count": null,
      "outputs": []
    },
    {
      "cell_type": "code",
      "metadata": {
        "id": "1lFhza5GViPy"
      },
      "source": [
        "test['credit'] = np.nan\n",
        "for i in range(len(test)):\n",
        "    if test.loc[i, 'money_transacted'] < 0:\n",
        "        test.loc[i, 'credit'] = 1\n",
        "    elif test.loc[i, 'money_transacted'] > 0:\n",
        "        test.loc[i, 'credit'] = 0\n",
        "        \n",
        "test['credit'] = test['credit'].astype('int64')\n",
        "test['money_transacted'] = abs(test['money_transacted'])"
      ],
      "execution_count": null,
      "outputs": []
    },
    {
      "cell_type": "code",
      "metadata": {
        "colab": {
          "base_uri": "https://localhost:8080/",
          "height": 255
        },
        "id": "LQ4h_3nDVjHJ",
        "outputId": "99ad5626-8d66-4d4c-d281-1a391789da0f"
      },
      "source": [
        "test[:6]"
      ],
      "execution_count": null,
      "outputs": [
        {
          "output_type": "execute_result",
          "data": {
            "text/html": [
              "<div>\n",
              "<style scoped>\n",
              "    .dataframe tbody tr th:only-of-type {\n",
              "        vertical-align: middle;\n",
              "    }\n",
              "\n",
              "    .dataframe tbody tr th {\n",
              "        vertical-align: top;\n",
              "    }\n",
              "\n",
              "    .dataframe thead th {\n",
              "        text-align: right;\n",
              "    }\n",
              "</style>\n",
              "<table border=\"1\" class=\"dataframe\">\n",
              "  <thead>\n",
              "    <tr style=\"text-align: right;\">\n",
              "      <th></th>\n",
              "      <th>payment_method</th>\n",
              "      <th>partner_id</th>\n",
              "      <th>partner_category</th>\n",
              "      <th>device_type</th>\n",
              "      <th>money_transacted</th>\n",
              "      <th>partner_pricing_category</th>\n",
              "      <th>transaction_year</th>\n",
              "      <th>transaction_date</th>\n",
              "      <th>transaction_month</th>\n",
              "      <th>transaction_hour</th>\n",
              "      <th>transaction_weekday</th>\n",
              "      <th>credit</th>\n",
              "    </tr>\n",
              "  </thead>\n",
              "  <tbody>\n",
              "    <tr>\n",
              "      <th>0</th>\n",
              "      <td>visa_master_debit_cards</td>\n",
              "      <td>118335</td>\n",
              "      <td>cat_1</td>\n",
              "      <td>other_pcs</td>\n",
              "      <td>200.0</td>\n",
              "      <td>2</td>\n",
              "      <td>2016</td>\n",
              "      <td>28</td>\n",
              "      <td>12</td>\n",
              "      <td>14</td>\n",
              "      <td>2</td>\n",
              "      <td>0</td>\n",
              "    </tr>\n",
              "    <tr>\n",
              "      <th>1</th>\n",
              "      <td>e_wallet_payments</td>\n",
              "      <td>23667</td>\n",
              "      <td>cat_2</td>\n",
              "      <td>other_pcs</td>\n",
              "      <td>20.0</td>\n",
              "      <td>2</td>\n",
              "      <td>2016</td>\n",
              "      <td>14</td>\n",
              "      <td>12</td>\n",
              "      <td>17</td>\n",
              "      <td>2</td>\n",
              "      <td>0</td>\n",
              "    </tr>\n",
              "    <tr>\n",
              "      <th>2</th>\n",
              "      <td>sbi_atm_cum_debit_card</td>\n",
              "      <td>47334</td>\n",
              "      <td>cat_1</td>\n",
              "      <td>android_devices</td>\n",
              "      <td>100.0</td>\n",
              "      <td>2</td>\n",
              "      <td>2017</td>\n",
              "      <td>21</td>\n",
              "      <td>1</td>\n",
              "      <td>10</td>\n",
              "      <td>5</td>\n",
              "      <td>1</td>\n",
              "    </tr>\n",
              "    <tr>\n",
              "      <th>3</th>\n",
              "      <td>visa_master_credit_cards</td>\n",
              "      <td>78890</td>\n",
              "      <td>cat_2</td>\n",
              "      <td>other_pcs</td>\n",
              "      <td>200.0</td>\n",
              "      <td>1</td>\n",
              "      <td>2017</td>\n",
              "      <td>16</td>\n",
              "      <td>1</td>\n",
              "      <td>13</td>\n",
              "      <td>0</td>\n",
              "      <td>0</td>\n",
              "    </tr>\n",
              "    <tr>\n",
              "      <th>4</th>\n",
              "      <td>e_wallet_payments</td>\n",
              "      <td>23667</td>\n",
              "      <td>cat_2</td>\n",
              "      <td>other_pcs</td>\n",
              "      <td>100.0</td>\n",
              "      <td>2</td>\n",
              "      <td>2017</td>\n",
              "      <td>9</td>\n",
              "      <td>2</td>\n",
              "      <td>12</td>\n",
              "      <td>3</td>\n",
              "      <td>0</td>\n",
              "    </tr>\n",
              "    <tr>\n",
              "      <th>5</th>\n",
              "      <td>e_wallet_payments</td>\n",
              "      <td>78890</td>\n",
              "      <td>cat_2</td>\n",
              "      <td>other_pcs</td>\n",
              "      <td>20.0</td>\n",
              "      <td>2</td>\n",
              "      <td>2017</td>\n",
              "      <td>28</td>\n",
              "      <td>1</td>\n",
              "      <td>2</td>\n",
              "      <td>5</td>\n",
              "      <td>0</td>\n",
              "    </tr>\n",
              "  </tbody>\n",
              "</table>\n",
              "</div>"
            ],
            "text/plain": [
              "             payment_method partner_id  ... transaction_weekday credit\n",
              "0   visa_master_debit_cards     118335  ...                   2      0\n",
              "1         e_wallet_payments      23667  ...                   2      0\n",
              "2    sbi_atm_cum_debit_card      47334  ...                   5      1\n",
              "3  visa_master_credit_cards      78890  ...                   0      0\n",
              "4         e_wallet_payments      23667  ...                   3      0\n",
              "5         e_wallet_payments      78890  ...                   5      0\n",
              "\n",
              "[6 rows x 12 columns]"
            ]
          },
          "metadata": {
            "tags": []
          },
          "execution_count": 57
        }
      ]
    },
    {
      "cell_type": "code",
      "metadata": {
        "colab": {
          "base_uri": "https://localhost:8080/"
        },
        "id": "4LNrS67fV2t6",
        "outputId": "8deb34df-14fb-4e19-b068-2d2360c6d839"
      },
      "source": [
        "test.shape"
      ],
      "execution_count": null,
      "outputs": [
        {
          "output_type": "execute_result",
          "data": {
            "text/plain": [
              "(19133, 12)"
            ]
          },
          "metadata": {
            "tags": []
          },
          "execution_count": 58
        }
      ]
    },
    {
      "cell_type": "code",
      "metadata": {
        "colab": {
          "base_uri": "https://localhost:8080/"
        },
        "id": "SsQcPCGTWOdf",
        "outputId": "0186be51-3337-404d-c155-6b8ebcfdb98c"
      },
      "source": [
        "data.shape"
      ],
      "execution_count": null,
      "outputs": [
        {
          "output_type": "execute_result",
          "data": {
            "text/plain": [
              "(76529, 13)"
            ]
          },
          "metadata": {
            "tags": []
          },
          "execution_count": 59
        }
      ]
    },
    {
      "cell_type": "code",
      "metadata": {
        "colab": {
          "base_uri": "https://localhost:8080/"
        },
        "id": "RGW3v3R3WQBR",
        "outputId": "659e07f0-62c8-475e-8935-3499cc10b37e"
      },
      "source": [
        "data.columns"
      ],
      "execution_count": null,
      "outputs": [
        {
          "output_type": "execute_result",
          "data": {
            "text/plain": [
              "Index(['payment_method', 'partner_id', 'partner_category', 'device_type',\n",
              "       'money_transacted', 'partner_pricing_category', 'is_fraud',\n",
              "       'transaction_year', 'transaction_date', 'transaction_month',\n",
              "       'transaction_hour', 'transaction_weekday', 'credit'],\n",
              "      dtype='object')"
            ]
          },
          "metadata": {
            "tags": []
          },
          "execution_count": 60
        }
      ]
    },
    {
      "cell_type": "code",
      "metadata": {
        "colab": {
          "base_uri": "https://localhost:8080/"
        },
        "id": "eejLUOgKWWeV",
        "outputId": "6e3a1dcc-d6d8-4bf5-db69-de270d0a8564"
      },
      "source": [
        "test.columns"
      ],
      "execution_count": null,
      "outputs": [
        {
          "output_type": "execute_result",
          "data": {
            "text/plain": [
              "Index(['payment_method', 'partner_id', 'partner_category', 'device_type',\n",
              "       'money_transacted', 'partner_pricing_category', 'transaction_year',\n",
              "       'transaction_date', 'transaction_month', 'transaction_hour',\n",
              "       'transaction_weekday', 'credit'],\n",
              "      dtype='object')"
            ]
          },
          "metadata": {
            "tags": []
          },
          "execution_count": 61
        }
      ]
    },
    {
      "cell_type": "code",
      "metadata": {
        "colab": {
          "base_uri": "https://localhost:8080/"
        },
        "id": "eYLMP_zKWdlF",
        "outputId": "552e5143-5c6e-42aa-ec4a-e64a9b5ac37f"
      },
      "source": [
        "test.isna().sum()"
      ],
      "execution_count": null,
      "outputs": [
        {
          "output_type": "execute_result",
          "data": {
            "text/plain": [
              "payment_method              0\n",
              "partner_id                  0\n",
              "partner_category            0\n",
              "device_type                 0\n",
              "money_transacted            0\n",
              "partner_pricing_category    0\n",
              "transaction_year            0\n",
              "transaction_date            0\n",
              "transaction_month           0\n",
              "transaction_hour            0\n",
              "transaction_weekday         0\n",
              "credit                      0\n",
              "dtype: int64"
            ]
          },
          "metadata": {
            "tags": []
          },
          "execution_count": 62
        }
      ]
    },
    {
      "cell_type": "markdown",
      "metadata": {
        "id": "kbPJbHcrLU3y"
      },
      "source": [
        "### **Splitting dataset as train and validation data**"
      ]
    },
    {
      "cell_type": "code",
      "metadata": {
        "id": "obef7WcLW7ZX"
      },
      "source": [
        "from sklearn.model_selection import train_test_split\n",
        "from sklearn.impute import SimpleImputer\n",
        "from sklearn.preprocessing import StandardScaler, OneHotEncoder\n",
        "from sklearn.linear_model import LogisticRegression\n",
        "\n",
        "from sklearn.metrics import accuracy_score,recall_score,precision_score,f1_score \n",
        "from sklearn.metrics import classification_report, confusion_matrix\n",
        "from sklearn.ensemble import RandomForestClassifier,GradientBoostingClassifier\n",
        "from sklearn.feature_selection import SelectFromModel\n",
        "\n",
        "from sklearn.model_selection import GridSearchCV\n",
        "from sklearn.tree import DecisionTreeClassifier\n",
        "from sklearn import tree\n",
        "from sklearn.ensemble import AdaBoostClassifier\n",
        "from sklearn_pandas import DataFrameMapper\n",
        "from sklearn.model_selection import StratifiedShuffleSplit\n",
        "\n",
        "from xgboost import XGBClassifier"
      ],
      "execution_count": null,
      "outputs": []
    },
    {
      "cell_type": "code",
      "metadata": {
        "id": "EfpQ5NloX7hv"
      },
      "source": [
        "y=data[\"is_fraud\"]\n",
        "X=data.drop('is_fraud', axis=1)\n",
        "X_train, X_val, y_train, y_val = train_test_split(X, y, test_size=0.20,random_state=340, stratify=y)"
      ],
      "execution_count": null,
      "outputs": []
    },
    {
      "cell_type": "code",
      "metadata": {
        "colab": {
          "base_uri": "https://localhost:8080/"
        },
        "id": "NbjSU2pOYAvG",
        "outputId": "97894d9e-8690-443f-8c41-632a10efdb50"
      },
      "source": [
        "print(X_train.shape)\n",
        "print(X_val.shape)\n",
        "print(y_train.shape)\n",
        "print(y_val.shape)"
      ],
      "execution_count": null,
      "outputs": [
        {
          "output_type": "stream",
          "text": [
            "(61223, 12)\n",
            "(15306, 12)\n",
            "(61223,)\n",
            "(15306,)\n"
          ],
          "name": "stdout"
        }
      ]
    },
    {
      "cell_type": "code",
      "metadata": {
        "colab": {
          "base_uri": "https://localhost:8080/"
        },
        "id": "Nr17w6YreCtF",
        "outputId": "34c2b7bb-4a8e-4560-e267-22430a34ce2a"
      },
      "source": [
        "data.dtypes"
      ],
      "execution_count": null,
      "outputs": [
        {
          "output_type": "execute_result",
          "data": {
            "text/plain": [
              "payment_method              category\n",
              "partner_id                  category\n",
              "partner_category            category\n",
              "device_type                 category\n",
              "money_transacted             float64\n",
              "partner_pricing_category    category\n",
              "is_fraud                    category\n",
              "transaction_year            category\n",
              "transaction_date               int64\n",
              "transaction_month           category\n",
              "transaction_hour               int64\n",
              "transaction_weekday         category\n",
              "credit                      category\n",
              "dtype: object"
            ]
          },
          "metadata": {
            "tags": []
          },
          "execution_count": 66
        }
      ]
    },
    {
      "cell_type": "markdown",
      "metadata": {
        "id": "yUkJETPkLeFH"
      },
      "source": [
        "### **Imputation**"
      ]
    },
    {
      "cell_type": "code",
      "metadata": {
        "colab": {
          "base_uri": "https://localhost:8080/"
        },
        "id": "PxTafJMmaAxU",
        "outputId": "f8c9c0c0-5aea-4c41-c661-bce1e2a15249"
      },
      "source": [
        "num_attr = list(data.select_dtypes(['float64','int64']).columns)\n",
        "print(num_attr)\n",
        "cat_attr = ['payment_method', 'partner_id', 'partner_category', 'device_type', 'partner_pricing_category',\n",
        "       'transaction_year', 'transaction_month', 'transaction_weekday', 'credit']\n",
        "print(cat_attr)"
      ],
      "execution_count": null,
      "outputs": [
        {
          "output_type": "stream",
          "text": [
            "['money_transacted', 'transaction_date', 'transaction_hour']\n",
            "['payment_method', 'partner_id', 'partner_category', 'device_type', 'partner_pricing_category', 'transaction_year', 'transaction_month', 'transaction_weekday', 'credit']\n"
          ],
          "name": "stdout"
        }
      ]
    },
    {
      "cell_type": "code",
      "metadata": {
        "colab": {
          "base_uri": "https://localhost:8080/"
        },
        "id": "ka_f6lOze_60",
        "outputId": "c287b9c7-793a-4f36-a092-52ea88398bcb"
      },
      "source": [
        "imputer = SimpleImputer(strategy='median')\n",
        "\n",
        "imputer = imputer.fit(X_train[num_attr])\n",
        "\n",
        "X_train[num_attr] = imputer.transform(X_train[num_attr])\n",
        "X_val[num_attr] = imputer.transform(X_val[num_attr])\n",
        "test[num_attr] = imputer.transform(test[num_attr])\n",
        "\n",
        "# Imputing missing values with median for numerical attributes"
      ],
      "execution_count": null,
      "outputs": [
        {
          "output_type": "stream",
          "text": [
            "/usr/local/lib/python3.6/dist-packages/ipykernel_launcher.py:5: SettingWithCopyWarning: \n",
            "A value is trying to be set on a copy of a slice from a DataFrame.\n",
            "Try using .loc[row_indexer,col_indexer] = value instead\n",
            "\n",
            "See the caveats in the documentation: https://pandas.pydata.org/pandas-docs/stable/user_guide/indexing.html#returning-a-view-versus-a-copy\n",
            "  \"\"\"\n",
            "/usr/local/lib/python3.6/dist-packages/pandas/core/indexing.py:1734: SettingWithCopyWarning: \n",
            "A value is trying to be set on a copy of a slice from a DataFrame.\n",
            "Try using .loc[row_indexer,col_indexer] = value instead\n",
            "\n",
            "See the caveats in the documentation: https://pandas.pydata.org/pandas-docs/stable/user_guide/indexing.html#returning-a-view-versus-a-copy\n",
            "  isetter(loc, value[:, i].tolist())\n",
            "/usr/local/lib/python3.6/dist-packages/ipykernel_launcher.py:6: SettingWithCopyWarning: \n",
            "A value is trying to be set on a copy of a slice from a DataFrame.\n",
            "Try using .loc[row_indexer,col_indexer] = value instead\n",
            "\n",
            "See the caveats in the documentation: https://pandas.pydata.org/pandas-docs/stable/user_guide/indexing.html#returning-a-view-versus-a-copy\n",
            "  \n",
            "/usr/local/lib/python3.6/dist-packages/pandas/core/indexing.py:1734: SettingWithCopyWarning: \n",
            "A value is trying to be set on a copy of a slice from a DataFrame.\n",
            "Try using .loc[row_indexer,col_indexer] = value instead\n",
            "\n",
            "See the caveats in the documentation: https://pandas.pydata.org/pandas-docs/stable/user_guide/indexing.html#returning-a-view-versus-a-copy\n",
            "  isetter(loc, value[:, i].tolist())\n"
          ],
          "name": "stderr"
        }
      ]
    },
    {
      "cell_type": "code",
      "metadata": {
        "colab": {
          "base_uri": "https://localhost:8080/"
        },
        "id": "TMJKyDRbe_n3",
        "outputId": "35a5dc81-2faa-49bb-c31e-4196da5a1700"
      },
      "source": [
        "imputer = SimpleImputer(strategy='most_frequent')\n",
        "\n",
        "imputer = imputer.fit(X_train[cat_attr])\n",
        "\n",
        "X_train[cat_attr] = imputer.transform(X_train[cat_attr])\n",
        "X_val[cat_attr] = imputer.transform(X_val[cat_attr])\n",
        "test[cat_attr] = imputer.transform(test[cat_attr])\n",
        "\n",
        "#Imputing missing values with mode for categorical attributes"
      ],
      "execution_count": null,
      "outputs": [
        {
          "output_type": "stream",
          "text": [
            "/usr/local/lib/python3.6/dist-packages/ipykernel_launcher.py:5: SettingWithCopyWarning: \n",
            "A value is trying to be set on a copy of a slice from a DataFrame.\n",
            "Try using .loc[row_indexer,col_indexer] = value instead\n",
            "\n",
            "See the caveats in the documentation: https://pandas.pydata.org/pandas-docs/stable/user_guide/indexing.html#returning-a-view-versus-a-copy\n",
            "  \"\"\"\n",
            "/usr/local/lib/python3.6/dist-packages/pandas/core/indexing.py:1734: SettingWithCopyWarning: \n",
            "A value is trying to be set on a copy of a slice from a DataFrame.\n",
            "Try using .loc[row_indexer,col_indexer] = value instead\n",
            "\n",
            "See the caveats in the documentation: https://pandas.pydata.org/pandas-docs/stable/user_guide/indexing.html#returning-a-view-versus-a-copy\n",
            "  isetter(loc, value[:, i].tolist())\n",
            "/usr/local/lib/python3.6/dist-packages/ipykernel_launcher.py:6: SettingWithCopyWarning: \n",
            "A value is trying to be set on a copy of a slice from a DataFrame.\n",
            "Try using .loc[row_indexer,col_indexer] = value instead\n",
            "\n",
            "See the caveats in the documentation: https://pandas.pydata.org/pandas-docs/stable/user_guide/indexing.html#returning-a-view-versus-a-copy\n",
            "  \n",
            "/usr/local/lib/python3.6/dist-packages/pandas/core/indexing.py:1734: SettingWithCopyWarning: \n",
            "A value is trying to be set on a copy of a slice from a DataFrame.\n",
            "Try using .loc[row_indexer,col_indexer] = value instead\n",
            "\n",
            "See the caveats in the documentation: https://pandas.pydata.org/pandas-docs/stable/user_guide/indexing.html#returning-a-view-versus-a-copy\n",
            "  isetter(loc, value[:, i].tolist())\n"
          ],
          "name": "stderr"
        }
      ]
    },
    {
      "cell_type": "markdown",
      "metadata": {
        "id": "6_OBKDRbMEt0"
      },
      "source": [
        "### **Standardizing the numerical attributes and One-hot encoding categorical attributes**"
      ]
    },
    {
      "cell_type": "code",
      "metadata": {
        "id": "ssXNAiNyZxvi"
      },
      "source": [
        "mapper = DataFrameMapper(\n",
        "  [([continuous_col], StandardScaler()) for continuous_col in num_attr] +\n",
        "  [([categorical_col], OneHotEncoder(handle_unknown='error')) for categorical_col in cat_attr]\n",
        ", df_out=True)"
      ],
      "execution_count": null,
      "outputs": []
    },
    {
      "cell_type": "code",
      "metadata": {
        "colab": {
          "base_uri": "https://localhost:8080/"
        },
        "id": "U4fGm2_0bBZa",
        "outputId": "7de5e6cd-2aa3-4c0f-b064-b33c99f5342f"
      },
      "source": [
        "print(type(mapper))"
      ],
      "execution_count": null,
      "outputs": [
        {
          "output_type": "stream",
          "text": [
            "<class 'sklearn_pandas.dataframe_mapper.DataFrameMapper'>\n"
          ],
          "name": "stdout"
        }
      ]
    },
    {
      "cell_type": "code",
      "metadata": {
        "id": "nRF0crQfbBAu"
      },
      "source": [
        "mapper.fit(X_train)\n",
        "\n",
        "X_train_final = mapper.transform(X_train)\n",
        "X_val_final = mapper.transform(X_val)\n",
        "test_final = mapper.transform(test)"
      ],
      "execution_count": null,
      "outputs": []
    },
    {
      "cell_type": "code",
      "metadata": {
        "colab": {
          "base_uri": "https://localhost:8080/",
          "height": 224
        },
        "id": "pBkgUScQMtHT",
        "outputId": "9ff72be0-48ba-475e-8daa-39246dc12099"
      },
      "source": [
        "X_train_final.head()"
      ],
      "execution_count": null,
      "outputs": [
        {
          "output_type": "execute_result",
          "data": {
            "text/html": [
              "<div>\n",
              "<style scoped>\n",
              "    .dataframe tbody tr th:only-of-type {\n",
              "        vertical-align: middle;\n",
              "    }\n",
              "\n",
              "    .dataframe tbody tr th {\n",
              "        vertical-align: top;\n",
              "    }\n",
              "\n",
              "    .dataframe thead th {\n",
              "        text-align: right;\n",
              "    }\n",
              "</style>\n",
              "<table border=\"1\" class=\"dataframe\">\n",
              "  <thead>\n",
              "    <tr style=\"text-align: right;\">\n",
              "      <th></th>\n",
              "      <th>money_transacted</th>\n",
              "      <th>transaction_date</th>\n",
              "      <th>transaction_hour</th>\n",
              "      <th>payment_method_x0_e_wallet_payments</th>\n",
              "      <th>payment_method_x0_other_debit_cards</th>\n",
              "      <th>payment_method_x0_sbi_atm_cum_debit_card</th>\n",
              "      <th>payment_method_x0_unified_payments_interface</th>\n",
              "      <th>payment_method_x0_visa_master_credit_cards</th>\n",
              "      <th>payment_method_x0_visa_master_debit_cards</th>\n",
              "      <th>partner_id_x0_7889</th>\n",
              "      <th>partner_id_x0_15778</th>\n",
              "      <th>partner_id_x0_23667</th>\n",
              "      <th>partner_id_x0_31556</th>\n",
              "      <th>partner_id_x0_39445</th>\n",
              "      <th>partner_id_x0_47334</th>\n",
              "      <th>partner_id_x0_55223</th>\n",
              "      <th>partner_id_x0_63112</th>\n",
              "      <th>partner_id_x0_71001</th>\n",
              "      <th>partner_id_x0_78890</th>\n",
              "      <th>partner_id_x0_86779</th>\n",
              "      <th>partner_id_x0_94668</th>\n",
              "      <th>partner_id_x0_102557</th>\n",
              "      <th>partner_id_x0_110446</th>\n",
              "      <th>partner_id_x0_118335</th>\n",
              "      <th>partner_id_x0_126224</th>\n",
              "      <th>partner_id_x0_149891</th>\n",
              "      <th>partner_id_x0_157780</th>\n",
              "      <th>partner_id_x0_165669</th>\n",
              "      <th>partner_id_x0_173558</th>\n",
              "      <th>partner_id_x0_181447</th>\n",
              "      <th>partner_id_x0_189336</th>\n",
              "      <th>partner_id_x0_213003</th>\n",
              "      <th>partner_category_x0_cat_1</th>\n",
              "      <th>partner_category_x0_cat_2</th>\n",
              "      <th>partner_category_x0_cat_3</th>\n",
              "      <th>partner_category_x0_cat_4</th>\n",
              "      <th>partner_category_x0_cat_5</th>\n",
              "      <th>partner_category_x0_cat_6</th>\n",
              "      <th>partner_category_x0_cat_7</th>\n",
              "      <th>partner_category_x0_cat_8</th>\n",
              "      <th>partner_category_x0_cat_9</th>\n",
              "      <th>device_type_x0_android_devices</th>\n",
              "      <th>device_type_x0_ios_devices</th>\n",
              "      <th>device_type_x0_other_pcs</th>\n",
              "      <th>device_type_x0_windows_pcs</th>\n",
              "      <th>partner_pricing_category_x0_0</th>\n",
              "      <th>partner_pricing_category_x0_1</th>\n",
              "      <th>partner_pricing_category_x0_2</th>\n",
              "      <th>partner_pricing_category_x0_4</th>\n",
              "      <th>transaction_year_x0_2016</th>\n",
              "      <th>transaction_year_x0_2017</th>\n",
              "      <th>transaction_month_x0_1</th>\n",
              "      <th>transaction_month_x0_2</th>\n",
              "      <th>transaction_month_x0_11</th>\n",
              "      <th>transaction_month_x0_12</th>\n",
              "      <th>transaction_weekday_x0_0</th>\n",
              "      <th>transaction_weekday_x0_1</th>\n",
              "      <th>transaction_weekday_x0_2</th>\n",
              "      <th>transaction_weekday_x0_3</th>\n",
              "      <th>transaction_weekday_x0_4</th>\n",
              "      <th>transaction_weekday_x0_5</th>\n",
              "      <th>transaction_weekday_x0_6</th>\n",
              "      <th>credit_x0_0</th>\n",
              "      <th>credit_x0_1</th>\n",
              "    </tr>\n",
              "  </thead>\n",
              "  <tbody>\n",
              "    <tr>\n",
              "      <th>14525</th>\n",
              "      <td>0.000197</td>\n",
              "      <td>-0.996284</td>\n",
              "      <td>0.111392</td>\n",
              "      <td>0.0</td>\n",
              "      <td>0.0</td>\n",
              "      <td>0.0</td>\n",
              "      <td>0.0</td>\n",
              "      <td>0.0</td>\n",
              "      <td>1.0</td>\n",
              "      <td>0.0</td>\n",
              "      <td>0.0</td>\n",
              "      <td>1.0</td>\n",
              "      <td>0.0</td>\n",
              "      <td>0.0</td>\n",
              "      <td>0.0</td>\n",
              "      <td>0.0</td>\n",
              "      <td>0.0</td>\n",
              "      <td>0.0</td>\n",
              "      <td>0.0</td>\n",
              "      <td>0.0</td>\n",
              "      <td>0.0</td>\n",
              "      <td>0.0</td>\n",
              "      <td>0.0</td>\n",
              "      <td>0.0</td>\n",
              "      <td>0.0</td>\n",
              "      <td>0.0</td>\n",
              "      <td>0.0</td>\n",
              "      <td>0.0</td>\n",
              "      <td>0.0</td>\n",
              "      <td>0.0</td>\n",
              "      <td>0.0</td>\n",
              "      <td>0.0</td>\n",
              "      <td>0.0</td>\n",
              "      <td>1.0</td>\n",
              "      <td>0.0</td>\n",
              "      <td>0.0</td>\n",
              "      <td>0.0</td>\n",
              "      <td>0.0</td>\n",
              "      <td>0.0</td>\n",
              "      <td>0.0</td>\n",
              "      <td>0.0</td>\n",
              "      <td>0.0</td>\n",
              "      <td>0.0</td>\n",
              "      <td>1.0</td>\n",
              "      <td>0.0</td>\n",
              "      <td>0.0</td>\n",
              "      <td>0.0</td>\n",
              "      <td>0.0</td>\n",
              "      <td>1.0</td>\n",
              "      <td>1.0</td>\n",
              "      <td>0.0</td>\n",
              "      <td>0.0</td>\n",
              "      <td>0.0</td>\n",
              "      <td>0.0</td>\n",
              "      <td>1.0</td>\n",
              "      <td>0.0</td>\n",
              "      <td>0.0</td>\n",
              "      <td>1.0</td>\n",
              "      <td>0.0</td>\n",
              "      <td>0.0</td>\n",
              "      <td>0.0</td>\n",
              "      <td>0.0</td>\n",
              "      <td>1.0</td>\n",
              "      <td>0.0</td>\n",
              "    </tr>\n",
              "    <tr>\n",
              "      <th>9243</th>\n",
              "      <td>-0.055684</td>\n",
              "      <td>-0.661697</td>\n",
              "      <td>-0.713522</td>\n",
              "      <td>1.0</td>\n",
              "      <td>0.0</td>\n",
              "      <td>0.0</td>\n",
              "      <td>0.0</td>\n",
              "      <td>0.0</td>\n",
              "      <td>0.0</td>\n",
              "      <td>0.0</td>\n",
              "      <td>0.0</td>\n",
              "      <td>1.0</td>\n",
              "      <td>0.0</td>\n",
              "      <td>0.0</td>\n",
              "      <td>0.0</td>\n",
              "      <td>0.0</td>\n",
              "      <td>0.0</td>\n",
              "      <td>0.0</td>\n",
              "      <td>0.0</td>\n",
              "      <td>0.0</td>\n",
              "      <td>0.0</td>\n",
              "      <td>0.0</td>\n",
              "      <td>0.0</td>\n",
              "      <td>0.0</td>\n",
              "      <td>0.0</td>\n",
              "      <td>0.0</td>\n",
              "      <td>0.0</td>\n",
              "      <td>0.0</td>\n",
              "      <td>0.0</td>\n",
              "      <td>0.0</td>\n",
              "      <td>0.0</td>\n",
              "      <td>0.0</td>\n",
              "      <td>0.0</td>\n",
              "      <td>1.0</td>\n",
              "      <td>0.0</td>\n",
              "      <td>0.0</td>\n",
              "      <td>0.0</td>\n",
              "      <td>0.0</td>\n",
              "      <td>0.0</td>\n",
              "      <td>0.0</td>\n",
              "      <td>0.0</td>\n",
              "      <td>0.0</td>\n",
              "      <td>0.0</td>\n",
              "      <td>1.0</td>\n",
              "      <td>0.0</td>\n",
              "      <td>0.0</td>\n",
              "      <td>0.0</td>\n",
              "      <td>1.0</td>\n",
              "      <td>0.0</td>\n",
              "      <td>0.0</td>\n",
              "      <td>1.0</td>\n",
              "      <td>0.0</td>\n",
              "      <td>1.0</td>\n",
              "      <td>0.0</td>\n",
              "      <td>0.0</td>\n",
              "      <td>0.0</td>\n",
              "      <td>0.0</td>\n",
              "      <td>0.0</td>\n",
              "      <td>0.0</td>\n",
              "      <td>1.0</td>\n",
              "      <td>0.0</td>\n",
              "      <td>0.0</td>\n",
              "      <td>1.0</td>\n",
              "      <td>0.0</td>\n",
              "    </tr>\n",
              "    <tr>\n",
              "      <th>69178</th>\n",
              "      <td>-0.039718</td>\n",
              "      <td>1.568885</td>\n",
              "      <td>-0.094836</td>\n",
              "      <td>0.0</td>\n",
              "      <td>0.0</td>\n",
              "      <td>0.0</td>\n",
              "      <td>0.0</td>\n",
              "      <td>0.0</td>\n",
              "      <td>1.0</td>\n",
              "      <td>0.0</td>\n",
              "      <td>0.0</td>\n",
              "      <td>0.0</td>\n",
              "      <td>1.0</td>\n",
              "      <td>0.0</td>\n",
              "      <td>0.0</td>\n",
              "      <td>0.0</td>\n",
              "      <td>0.0</td>\n",
              "      <td>0.0</td>\n",
              "      <td>0.0</td>\n",
              "      <td>0.0</td>\n",
              "      <td>0.0</td>\n",
              "      <td>0.0</td>\n",
              "      <td>0.0</td>\n",
              "      <td>0.0</td>\n",
              "      <td>0.0</td>\n",
              "      <td>0.0</td>\n",
              "      <td>0.0</td>\n",
              "      <td>0.0</td>\n",
              "      <td>0.0</td>\n",
              "      <td>0.0</td>\n",
              "      <td>0.0</td>\n",
              "      <td>0.0</td>\n",
              "      <td>0.0</td>\n",
              "      <td>1.0</td>\n",
              "      <td>0.0</td>\n",
              "      <td>0.0</td>\n",
              "      <td>0.0</td>\n",
              "      <td>0.0</td>\n",
              "      <td>0.0</td>\n",
              "      <td>0.0</td>\n",
              "      <td>0.0</td>\n",
              "      <td>0.0</td>\n",
              "      <td>0.0</td>\n",
              "      <td>1.0</td>\n",
              "      <td>0.0</td>\n",
              "      <td>0.0</td>\n",
              "      <td>0.0</td>\n",
              "      <td>0.0</td>\n",
              "      <td>1.0</td>\n",
              "      <td>1.0</td>\n",
              "      <td>0.0</td>\n",
              "      <td>0.0</td>\n",
              "      <td>0.0</td>\n",
              "      <td>1.0</td>\n",
              "      <td>0.0</td>\n",
              "      <td>0.0</td>\n",
              "      <td>0.0</td>\n",
              "      <td>1.0</td>\n",
              "      <td>0.0</td>\n",
              "      <td>0.0</td>\n",
              "      <td>0.0</td>\n",
              "      <td>0.0</td>\n",
              "      <td>1.0</td>\n",
              "      <td>0.0</td>\n",
              "    </tr>\n",
              "    <tr>\n",
              "      <th>68162</th>\n",
              "      <td>0.005785</td>\n",
              "      <td>0.007478</td>\n",
              "      <td>1.142535</td>\n",
              "      <td>1.0</td>\n",
              "      <td>0.0</td>\n",
              "      <td>0.0</td>\n",
              "      <td>0.0</td>\n",
              "      <td>0.0</td>\n",
              "      <td>0.0</td>\n",
              "      <td>0.0</td>\n",
              "      <td>0.0</td>\n",
              "      <td>0.0</td>\n",
              "      <td>0.0</td>\n",
              "      <td>0.0</td>\n",
              "      <td>0.0</td>\n",
              "      <td>0.0</td>\n",
              "      <td>0.0</td>\n",
              "      <td>0.0</td>\n",
              "      <td>1.0</td>\n",
              "      <td>0.0</td>\n",
              "      <td>0.0</td>\n",
              "      <td>0.0</td>\n",
              "      <td>0.0</td>\n",
              "      <td>0.0</td>\n",
              "      <td>0.0</td>\n",
              "      <td>0.0</td>\n",
              "      <td>0.0</td>\n",
              "      <td>0.0</td>\n",
              "      <td>0.0</td>\n",
              "      <td>0.0</td>\n",
              "      <td>0.0</td>\n",
              "      <td>0.0</td>\n",
              "      <td>0.0</td>\n",
              "      <td>1.0</td>\n",
              "      <td>0.0</td>\n",
              "      <td>0.0</td>\n",
              "      <td>0.0</td>\n",
              "      <td>0.0</td>\n",
              "      <td>0.0</td>\n",
              "      <td>0.0</td>\n",
              "      <td>0.0</td>\n",
              "      <td>0.0</td>\n",
              "      <td>0.0</td>\n",
              "      <td>1.0</td>\n",
              "      <td>0.0</td>\n",
              "      <td>0.0</td>\n",
              "      <td>0.0</td>\n",
              "      <td>1.0</td>\n",
              "      <td>0.0</td>\n",
              "      <td>1.0</td>\n",
              "      <td>0.0</td>\n",
              "      <td>0.0</td>\n",
              "      <td>0.0</td>\n",
              "      <td>1.0</td>\n",
              "      <td>0.0</td>\n",
              "      <td>0.0</td>\n",
              "      <td>0.0</td>\n",
              "      <td>1.0</td>\n",
              "      <td>0.0</td>\n",
              "      <td>0.0</td>\n",
              "      <td>0.0</td>\n",
              "      <td>0.0</td>\n",
              "      <td>1.0</td>\n",
              "      <td>0.0</td>\n",
              "    </tr>\n",
              "    <tr>\n",
              "      <th>27512</th>\n",
              "      <td>-0.075641</td>\n",
              "      <td>-1.330871</td>\n",
              "      <td>0.936307</td>\n",
              "      <td>0.0</td>\n",
              "      <td>0.0</td>\n",
              "      <td>1.0</td>\n",
              "      <td>0.0</td>\n",
              "      <td>0.0</td>\n",
              "      <td>0.0</td>\n",
              "      <td>0.0</td>\n",
              "      <td>0.0</td>\n",
              "      <td>0.0</td>\n",
              "      <td>0.0</td>\n",
              "      <td>0.0</td>\n",
              "      <td>1.0</td>\n",
              "      <td>0.0</td>\n",
              "      <td>0.0</td>\n",
              "      <td>0.0</td>\n",
              "      <td>0.0</td>\n",
              "      <td>0.0</td>\n",
              "      <td>0.0</td>\n",
              "      <td>0.0</td>\n",
              "      <td>0.0</td>\n",
              "      <td>0.0</td>\n",
              "      <td>0.0</td>\n",
              "      <td>0.0</td>\n",
              "      <td>0.0</td>\n",
              "      <td>0.0</td>\n",
              "      <td>0.0</td>\n",
              "      <td>0.0</td>\n",
              "      <td>0.0</td>\n",
              "      <td>0.0</td>\n",
              "      <td>1.0</td>\n",
              "      <td>0.0</td>\n",
              "      <td>0.0</td>\n",
              "      <td>0.0</td>\n",
              "      <td>0.0</td>\n",
              "      <td>0.0</td>\n",
              "      <td>0.0</td>\n",
              "      <td>0.0</td>\n",
              "      <td>0.0</td>\n",
              "      <td>1.0</td>\n",
              "      <td>0.0</td>\n",
              "      <td>0.0</td>\n",
              "      <td>0.0</td>\n",
              "      <td>0.0</td>\n",
              "      <td>0.0</td>\n",
              "      <td>1.0</td>\n",
              "      <td>0.0</td>\n",
              "      <td>0.0</td>\n",
              "      <td>1.0</td>\n",
              "      <td>0.0</td>\n",
              "      <td>1.0</td>\n",
              "      <td>0.0</td>\n",
              "      <td>0.0</td>\n",
              "      <td>0.0</td>\n",
              "      <td>0.0</td>\n",
              "      <td>0.0</td>\n",
              "      <td>0.0</td>\n",
              "      <td>0.0</td>\n",
              "      <td>1.0</td>\n",
              "      <td>0.0</td>\n",
              "      <td>0.0</td>\n",
              "      <td>1.0</td>\n",
              "    </tr>\n",
              "  </tbody>\n",
              "</table>\n",
              "</div>"
            ],
            "text/plain": [
              "       money_transacted  transaction_date  ...  credit_x0_0  credit_x0_1\n",
              "14525          0.000197         -0.996284  ...          1.0          0.0\n",
              "9243          -0.055684         -0.661697  ...          1.0          0.0\n",
              "69178         -0.039718          1.568885  ...          1.0          0.0\n",
              "68162          0.005785          0.007478  ...          1.0          0.0\n",
              "27512         -0.075641         -1.330871  ...          0.0          1.0\n",
              "\n",
              "[5 rows x 64 columns]"
            ]
          },
          "metadata": {
            "tags": []
          },
          "execution_count": 73
        }
      ]
    },
    {
      "cell_type": "markdown",
      "metadata": {
        "id": "5GRTzH1cM6iI"
      },
      "source": [
        "### **Error Metrics**"
      ]
    },
    {
      "cell_type": "code",
      "metadata": {
        "id": "q_GzD-kKYGNU"
      },
      "source": [
        "def classifcation_report_and_CM_train_test(train, train_pred, val, val_pred):\n",
        "\n",
        "    print('''\n",
        "            =========================================================\n",
        "            CLASSIFICATION REPORT AND CONFUSION MATRIX FOR TRAIN DATA\n",
        "            =========================================================\n",
        "            ''')\n",
        "    print(pd.crosstab(train, train_pred, rownames=['Actual'], colnames=['Predicted']))\n",
        "    print(classification_report(train, train_pred, digits=4))\n",
        "    \n",
        "\n",
        "    print('''\n",
        "            =========================================================\n",
        "            CLASSIFICATION REPORT AND CONFUSION MATRIX FOR Val DATA\n",
        "            =========================================================\n",
        "            ''')\n",
        "    print(pd.crosstab(val, val_pred, rownames=['Actual'], colnames=['Predicted']))\n",
        "    print(classification_report(val, val_pred, digits=4))\n",
        "\n",
        "\n",
        "\n",
        "\n",
        "# Code to printout entire table #\n",
        "scores = pd.DataFrame(columns=['Model','Train_F1_Score','Val_F1_Score','Train_Recall','Val_Recall','Train_Precision','Val_Precision','Train_Accuracy','Val_Accuracy',])\n",
        "\n",
        "def get_metrics(train_actual,train_predicted,val_actual,val_predicted,model_description,dataframe):\n",
        "    classifcation_report_and_CM_train_test(train_actual,train_predicted,val_actual,val_predicted)\n",
        "    train_accuracy = accuracy_score(train_actual,train_predicted)\n",
        "    \n",
        "    train_recall   = recall_score(train_actual,train_predicted)\n",
        "    \n",
        "    train_precision= precision_score(train_actual,train_predicted)\n",
        "    \n",
        "    train_f1score  = f1_score(train_actual,train_predicted)\n",
        "    \n",
        "    val_accuracy = accuracy_score(val_actual,val_predicted)\n",
        "    \n",
        "    val_recall   = recall_score(val_actual,val_predicted)\n",
        "    \n",
        "    val_precision= precision_score(val_actual,val_predicted)\n",
        "    \n",
        "    val_f1score  = f1_score(val_actual,val_predicted)\n",
        "    \n",
        "    dataframe = dataframe.append(pd.Series([model_description, train_f1score, val_f1score,train_recall,val_recall,train_precision,val_precision,\n",
        "                                            train_accuracy,val_accuracy],\n",
        "                                           index=scores.columns ), ignore_index=True)\n",
        "    \n",
        "    return(dataframe)"
      ],
      "execution_count": null,
      "outputs": []
    },
    {
      "cell_type": "markdown",
      "metadata": {
        "id": "nQFQyiHvNK6w"
      },
      "source": [
        "## **Model Building**"
      ]
    },
    {
      "cell_type": "markdown",
      "metadata": {
        "id": "m5_5I_6TN7yi"
      },
      "source": [
        "### **Logistic Regression**"
      ]
    },
    {
      "cell_type": "code",
      "metadata": {
        "id": "E31MpDgRYx9H"
      },
      "source": [
        "log_mod = LogisticRegression(random_state=123)"
      ],
      "execution_count": null,
      "outputs": []
    },
    {
      "cell_type": "code",
      "metadata": {
        "colab": {
          "base_uri": "https://localhost:8080/"
        },
        "id": "nwfYNnRaY2jd",
        "outputId": "f89eed7c-198f-4765-b292-f49201847353"
      },
      "source": [
        "log_mod.fit(X_train_final, y_train)"
      ],
      "execution_count": null,
      "outputs": [
        {
          "output_type": "execute_result",
          "data": {
            "text/plain": [
              "LogisticRegression(C=1.0, class_weight=None, dual=False, fit_intercept=True,\n",
              "                   intercept_scaling=1, l1_ratio=None, max_iter=100,\n",
              "                   multi_class='auto', n_jobs=None, penalty='l2',\n",
              "                   random_state=123, solver='lbfgs', tol=0.0001, verbose=0,\n",
              "                   warm_start=False)"
            ]
          },
          "metadata": {
            "tags": []
          },
          "execution_count": 76
        }
      ]
    },
    {
      "cell_type": "code",
      "metadata": {
        "id": "45EOUrVkgnm4"
      },
      "source": [
        "y_pred_train = log_mod.predict(X_train_final)\n",
        "y_pred_val = log_mod.predict(X_val_final)"
      ],
      "execution_count": null,
      "outputs": []
    },
    {
      "cell_type": "code",
      "metadata": {
        "colab": {
          "base_uri": "https://localhost:8080/",
          "height": 692
        },
        "id": "Gj9i2yXsgrAw",
        "outputId": "50b7a23c-7562-4c45-ce46-e889d1e5fdf3"
      },
      "source": [
        "scores = get_metrics(y_train,y_pred_train,y_val,y_pred_val,\"LogisticRegression\",scores)\n",
        "scores"
      ],
      "execution_count": null,
      "outputs": [
        {
          "output_type": "stream",
          "text": [
            "\n",
            "            =========================================================\n",
            "            CLASSIFICATION REPORT AND CONFUSION MATRIX FOR TRAIN DATA\n",
            "            =========================================================\n",
            "            \n",
            "Predicted      0   1\n",
            "Actual              \n",
            "0          61074  26\n",
            "1             79  44\n",
            "              precision    recall  f1-score   support\n",
            "\n",
            "           0     0.9987    0.9996    0.9991     61100\n",
            "           1     0.6286    0.3577    0.4560       123\n",
            "\n",
            "    accuracy                         0.9983     61223\n",
            "   macro avg     0.8136    0.6786    0.7275     61223\n",
            "weighted avg     0.9980    0.9983    0.9980     61223\n",
            "\n",
            "\n",
            "            =========================================================\n",
            "            CLASSIFICATION REPORT AND CONFUSION MATRIX FOR Val DATA\n",
            "            =========================================================\n",
            "            \n",
            "Predicted      0  1\n",
            "Actual             \n",
            "0          15268  7\n",
            "1             25  6\n",
            "              precision    recall  f1-score   support\n",
            "\n",
            "           0     0.9984    0.9995    0.9990     15275\n",
            "           1     0.4615    0.1935    0.2727        31\n",
            "\n",
            "    accuracy                         0.9979     15306\n",
            "   macro avg     0.7300    0.5965    0.6358     15306\n",
            "weighted avg     0.9973    0.9979    0.9975     15306\n",
            "\n"
          ],
          "name": "stdout"
        },
        {
          "output_type": "execute_result",
          "data": {
            "text/html": [
              "<div>\n",
              "<style scoped>\n",
              "    .dataframe tbody tr th:only-of-type {\n",
              "        vertical-align: middle;\n",
              "    }\n",
              "\n",
              "    .dataframe tbody tr th {\n",
              "        vertical-align: top;\n",
              "    }\n",
              "\n",
              "    .dataframe thead th {\n",
              "        text-align: right;\n",
              "    }\n",
              "</style>\n",
              "<table border=\"1\" class=\"dataframe\">\n",
              "  <thead>\n",
              "    <tr style=\"text-align: right;\">\n",
              "      <th></th>\n",
              "      <th>Model</th>\n",
              "      <th>Train_F1_Score</th>\n",
              "      <th>Val_F1_Score</th>\n",
              "      <th>Train_Recall</th>\n",
              "      <th>Val_Recall</th>\n",
              "      <th>Train_Precision</th>\n",
              "      <th>Val_Precision</th>\n",
              "      <th>Train_Accuracy</th>\n",
              "      <th>Val_Accuracy</th>\n",
              "    </tr>\n",
              "  </thead>\n",
              "  <tbody>\n",
              "    <tr>\n",
              "      <th>0</th>\n",
              "      <td>LogisticRegression</td>\n",
              "      <td>0.455959</td>\n",
              "      <td>0.272727</td>\n",
              "      <td>0.357724</td>\n",
              "      <td>0.193548</td>\n",
              "      <td>0.628571</td>\n",
              "      <td>0.461538</td>\n",
              "      <td>0.998285</td>\n",
              "      <td>0.997909</td>\n",
              "    </tr>\n",
              "  </tbody>\n",
              "</table>\n",
              "</div>"
            ],
            "text/plain": [
              "                Model  Train_F1_Score  ...  Train_Accuracy  Val_Accuracy\n",
              "0  LogisticRegression        0.455959  ...        0.998285      0.997909\n",
              "\n",
              "[1 rows x 9 columns]"
            ]
          },
          "metadata": {
            "tags": []
          },
          "execution_count": 78
        }
      ]
    },
    {
      "cell_type": "markdown",
      "metadata": {
        "id": "iERMkQF9QtFe"
      },
      "source": [
        "### **Logistic Regression with class_weight='balanced'**"
      ]
    },
    {
      "cell_type": "code",
      "metadata": {
        "id": "OQkw3f4LgtwA"
      },
      "source": [
        "log_mod = LogisticRegression(class_weight='balanced', random_state=123)"
      ],
      "execution_count": null,
      "outputs": []
    },
    {
      "cell_type": "code",
      "metadata": {
        "colab": {
          "base_uri": "https://localhost:8080/"
        },
        "id": "Wne0RUi_i0ao",
        "outputId": "6820e827-8700-4811-c9ba-ceeafd24297b"
      },
      "source": [
        "log_mod.fit(X_train_final, y_train)"
      ],
      "execution_count": null,
      "outputs": [
        {
          "output_type": "stream",
          "text": [
            "/usr/local/lib/python3.6/dist-packages/sklearn/linear_model/_logistic.py:940: ConvergenceWarning: lbfgs failed to converge (status=1):\n",
            "STOP: TOTAL NO. of ITERATIONS REACHED LIMIT.\n",
            "\n",
            "Increase the number of iterations (max_iter) or scale the data as shown in:\n",
            "    https://scikit-learn.org/stable/modules/preprocessing.html\n",
            "Please also refer to the documentation for alternative solver options:\n",
            "    https://scikit-learn.org/stable/modules/linear_model.html#logistic-regression\n",
            "  extra_warning_msg=_LOGISTIC_SOLVER_CONVERGENCE_MSG)\n"
          ],
          "name": "stderr"
        },
        {
          "output_type": "execute_result",
          "data": {
            "text/plain": [
              "LogisticRegression(C=1.0, class_weight='balanced', dual=False,\n",
              "                   fit_intercept=True, intercept_scaling=1, l1_ratio=None,\n",
              "                   max_iter=100, multi_class='auto', n_jobs=None, penalty='l2',\n",
              "                   random_state=123, solver='lbfgs', tol=0.0001, verbose=0,\n",
              "                   warm_start=False)"
            ]
          },
          "metadata": {
            "tags": []
          },
          "execution_count": 80
        }
      ]
    },
    {
      "cell_type": "code",
      "metadata": {
        "id": "HTlPCCHEi4Zu"
      },
      "source": [
        "y_pred_train = log_mod.predict(X_train_final)\n",
        "y_pred_val = log_mod.predict(X_val_final)"
      ],
      "execution_count": null,
      "outputs": []
    },
    {
      "cell_type": "code",
      "metadata": {
        "colab": {
          "base_uri": "https://localhost:8080/",
          "height": 723
        },
        "id": "aCmhQqUii6YO",
        "outputId": "f9665c2c-a5f0-402d-fbb8-ef746f91e7a8"
      },
      "source": [
        "scores = get_metrics(y_train,y_pred_train,y_val,y_pred_val,\"LogisticRegression_Balanced\",scores)\n",
        "scores"
      ],
      "execution_count": null,
      "outputs": [
        {
          "output_type": "stream",
          "text": [
            "\n",
            "            =========================================================\n",
            "            CLASSIFICATION REPORT AND CONFUSION MATRIX FOR TRAIN DATA\n",
            "            =========================================================\n",
            "            \n",
            "Predicted      0    1\n",
            "Actual               \n",
            "0          60912  188\n",
            "1              1  122\n",
            "              precision    recall  f1-score   support\n",
            "\n",
            "           0     1.0000    0.9969    0.9985     61100\n",
            "           1     0.3935    0.9919    0.5635       123\n",
            "\n",
            "    accuracy                         0.9969     61223\n",
            "   macro avg     0.6968    0.9944    0.7810     61223\n",
            "weighted avg     0.9988    0.9969    0.9976     61223\n",
            "\n",
            "\n",
            "            =========================================================\n",
            "            CLASSIFICATION REPORT AND CONFUSION MATRIX FOR Val DATA\n",
            "            =========================================================\n",
            "            \n",
            "Predicted      0   1\n",
            "Actual              \n",
            "0          15217  58\n",
            "1              0  31\n",
            "              precision    recall  f1-score   support\n",
            "\n",
            "           0     1.0000    0.9962    0.9981     15275\n",
            "           1     0.3483    1.0000    0.5167        31\n",
            "\n",
            "    accuracy                         0.9962     15306\n",
            "   macro avg     0.6742    0.9981    0.7574     15306\n",
            "weighted avg     0.9987    0.9962    0.9971     15306\n",
            "\n"
          ],
          "name": "stdout"
        },
        {
          "output_type": "execute_result",
          "data": {
            "text/html": [
              "<div>\n",
              "<style scoped>\n",
              "    .dataframe tbody tr th:only-of-type {\n",
              "        vertical-align: middle;\n",
              "    }\n",
              "\n",
              "    .dataframe tbody tr th {\n",
              "        vertical-align: top;\n",
              "    }\n",
              "\n",
              "    .dataframe thead th {\n",
              "        text-align: right;\n",
              "    }\n",
              "</style>\n",
              "<table border=\"1\" class=\"dataframe\">\n",
              "  <thead>\n",
              "    <tr style=\"text-align: right;\">\n",
              "      <th></th>\n",
              "      <th>Model</th>\n",
              "      <th>Train_F1_Score</th>\n",
              "      <th>Val_F1_Score</th>\n",
              "      <th>Train_Recall</th>\n",
              "      <th>Val_Recall</th>\n",
              "      <th>Train_Precision</th>\n",
              "      <th>Val_Precision</th>\n",
              "      <th>Train_Accuracy</th>\n",
              "      <th>Val_Accuracy</th>\n",
              "    </tr>\n",
              "  </thead>\n",
              "  <tbody>\n",
              "    <tr>\n",
              "      <th>0</th>\n",
              "      <td>LogisticRegression</td>\n",
              "      <td>0.455959</td>\n",
              "      <td>0.272727</td>\n",
              "      <td>0.357724</td>\n",
              "      <td>0.193548</td>\n",
              "      <td>0.628571</td>\n",
              "      <td>0.461538</td>\n",
              "      <td>0.998285</td>\n",
              "      <td>0.997909</td>\n",
              "    </tr>\n",
              "    <tr>\n",
              "      <th>1</th>\n",
              "      <td>LogisticRegression_Balanced</td>\n",
              "      <td>0.563510</td>\n",
              "      <td>0.516667</td>\n",
              "      <td>0.991870</td>\n",
              "      <td>1.000000</td>\n",
              "      <td>0.393548</td>\n",
              "      <td>0.348315</td>\n",
              "      <td>0.996913</td>\n",
              "      <td>0.996211</td>\n",
              "    </tr>\n",
              "  </tbody>\n",
              "</table>\n",
              "</div>"
            ],
            "text/plain": [
              "                         Model  Train_F1_Score  ...  Train_Accuracy  Val_Accuracy\n",
              "0           LogisticRegression        0.455959  ...        0.998285      0.997909\n",
              "1  LogisticRegression_Balanced        0.563510  ...        0.996913      0.996211\n",
              "\n",
              "[2 rows x 9 columns]"
            ]
          },
          "metadata": {
            "tags": []
          },
          "execution_count": 82
        }
      ]
    },
    {
      "cell_type": "markdown",
      "metadata": {
        "id": "2zyMnpuekGm9"
      },
      "source": [
        "## **Decision Tree**"
      ]
    },
    {
      "cell_type": "code",
      "metadata": {
        "colab": {
          "base_uri": "https://localhost:8080/"
        },
        "id": "7_qLu1zHjsrx",
        "outputId": "121d3d73-924e-40d5-d35e-858417c41ad2"
      },
      "source": [
        "# Create Decision Tree classifer object\n",
        "clf_dt = DecisionTreeClassifier(random_state=123)\n",
        "\n",
        "# Train Decision Tree Classifer\n",
        "clf_dt.fit(X_train_final,y_train)"
      ],
      "execution_count": null,
      "outputs": [
        {
          "output_type": "execute_result",
          "data": {
            "text/plain": [
              "DecisionTreeClassifier(ccp_alpha=0.0, class_weight=None, criterion='gini',\n",
              "                       max_depth=None, max_features=None, max_leaf_nodes=None,\n",
              "                       min_impurity_decrease=0.0, min_impurity_split=None,\n",
              "                       min_samples_leaf=1, min_samples_split=2,\n",
              "                       min_weight_fraction_leaf=0.0, presort='deprecated',\n",
              "                       random_state=123, splitter='best')"
            ]
          },
          "metadata": {
            "tags": []
          },
          "execution_count": 83
        }
      ]
    },
    {
      "cell_type": "code",
      "metadata": {
        "id": "bJhd5vJtk1sB"
      },
      "source": [
        "y_pred_train = clf_dt.predict(X_train_final)\n",
        "y_pred_val = clf_dt.predict(X_val_final)"
      ],
      "execution_count": null,
      "outputs": []
    },
    {
      "cell_type": "code",
      "metadata": {
        "colab": {
          "base_uri": "https://localhost:8080/",
          "height": 754
        },
        "id": "9BM5qVY1k4e0",
        "outputId": "cd2fb338-92ca-437c-9541-4310965ed456"
      },
      "source": [
        "scores = get_metrics(y_train,y_pred_train,y_val,y_pred_val,\"DecisionTree\",scores)\n",
        "scores"
      ],
      "execution_count": null,
      "outputs": [
        {
          "output_type": "stream",
          "text": [
            "\n",
            "            =========================================================\n",
            "            CLASSIFICATION REPORT AND CONFUSION MATRIX FOR TRAIN DATA\n",
            "            =========================================================\n",
            "            \n",
            "Predicted      0    1\n",
            "Actual               \n",
            "0          61100    0\n",
            "1              1  122\n",
            "              precision    recall  f1-score   support\n",
            "\n",
            "           0     1.0000    1.0000    1.0000     61100\n",
            "           1     1.0000    0.9919    0.9959       123\n",
            "\n",
            "    accuracy                         1.0000     61223\n",
            "   macro avg     1.0000    0.9959    0.9980     61223\n",
            "weighted avg     1.0000    1.0000    1.0000     61223\n",
            "\n",
            "\n",
            "            =========================================================\n",
            "            CLASSIFICATION REPORT AND CONFUSION MATRIX FOR Val DATA\n",
            "            =========================================================\n",
            "            \n",
            "Predicted      0   1\n",
            "Actual              \n",
            "0          15272   3\n",
            "1              6  25\n",
            "              precision    recall  f1-score   support\n",
            "\n",
            "           0     0.9996    0.9998    0.9997     15275\n",
            "           1     0.8929    0.8065    0.8475        31\n",
            "\n",
            "    accuracy                         0.9994     15306\n",
            "   macro avg     0.9462    0.9031    0.9236     15306\n",
            "weighted avg     0.9994    0.9994    0.9994     15306\n",
            "\n"
          ],
          "name": "stdout"
        },
        {
          "output_type": "execute_result",
          "data": {
            "text/html": [
              "<div>\n",
              "<style scoped>\n",
              "    .dataframe tbody tr th:only-of-type {\n",
              "        vertical-align: middle;\n",
              "    }\n",
              "\n",
              "    .dataframe tbody tr th {\n",
              "        vertical-align: top;\n",
              "    }\n",
              "\n",
              "    .dataframe thead th {\n",
              "        text-align: right;\n",
              "    }\n",
              "</style>\n",
              "<table border=\"1\" class=\"dataframe\">\n",
              "  <thead>\n",
              "    <tr style=\"text-align: right;\">\n",
              "      <th></th>\n",
              "      <th>Model</th>\n",
              "      <th>Train_F1_Score</th>\n",
              "      <th>Val_F1_Score</th>\n",
              "      <th>Train_Recall</th>\n",
              "      <th>Val_Recall</th>\n",
              "      <th>Train_Precision</th>\n",
              "      <th>Val_Precision</th>\n",
              "      <th>Train_Accuracy</th>\n",
              "      <th>Val_Accuracy</th>\n",
              "    </tr>\n",
              "  </thead>\n",
              "  <tbody>\n",
              "    <tr>\n",
              "      <th>0</th>\n",
              "      <td>LogisticRegression</td>\n",
              "      <td>0.455959</td>\n",
              "      <td>0.272727</td>\n",
              "      <td>0.357724</td>\n",
              "      <td>0.193548</td>\n",
              "      <td>0.628571</td>\n",
              "      <td>0.461538</td>\n",
              "      <td>0.998285</td>\n",
              "      <td>0.997909</td>\n",
              "    </tr>\n",
              "    <tr>\n",
              "      <th>1</th>\n",
              "      <td>LogisticRegression_Balanced</td>\n",
              "      <td>0.563510</td>\n",
              "      <td>0.516667</td>\n",
              "      <td>0.991870</td>\n",
              "      <td>1.000000</td>\n",
              "      <td>0.393548</td>\n",
              "      <td>0.348315</td>\n",
              "      <td>0.996913</td>\n",
              "      <td>0.996211</td>\n",
              "    </tr>\n",
              "    <tr>\n",
              "      <th>2</th>\n",
              "      <td>DecisionTree</td>\n",
              "      <td>0.995918</td>\n",
              "      <td>0.847458</td>\n",
              "      <td>0.991870</td>\n",
              "      <td>0.806452</td>\n",
              "      <td>1.000000</td>\n",
              "      <td>0.892857</td>\n",
              "      <td>0.999984</td>\n",
              "      <td>0.999412</td>\n",
              "    </tr>\n",
              "  </tbody>\n",
              "</table>\n",
              "</div>"
            ],
            "text/plain": [
              "                         Model  Train_F1_Score  ...  Train_Accuracy  Val_Accuracy\n",
              "0           LogisticRegression        0.455959  ...        0.998285      0.997909\n",
              "1  LogisticRegression_Balanced        0.563510  ...        0.996913      0.996211\n",
              "2                 DecisionTree        0.995918  ...        0.999984      0.999412\n",
              "\n",
              "[3 rows x 9 columns]"
            ]
          },
          "metadata": {
            "tags": []
          },
          "execution_count": 85
        }
      ]
    },
    {
      "cell_type": "code",
      "metadata": {
        "id": "MH-IW_MM82M8"
      },
      "source": [
        "test1 = pd.read_csv('/content/gdrive/MyDrive/MiTH/test_data-1611220982388.csv')"
      ],
      "execution_count": null,
      "outputs": []
    },
    {
      "cell_type": "code",
      "metadata": {
        "id": "xOp3i3ds83Rc"
      },
      "source": [
        "transaction_id = test1['transaction_number']"
      ],
      "execution_count": null,
      "outputs": []
    },
    {
      "cell_type": "code",
      "metadata": {
        "id": "qtMOjth_k69D"
      },
      "source": [
        "y_pred_test = clf_dt.predict(test_final)"
      ],
      "execution_count": null,
      "outputs": []
    },
    {
      "cell_type": "code",
      "metadata": {
        "colab": {
          "base_uri": "https://localhost:8080/"
        },
        "id": "ordflsPinzz6",
        "outputId": "0cf81acc-6586-4f58-f7bc-15e7f81dfa38"
      },
      "source": [
        "y_pred_test"
      ],
      "execution_count": null,
      "outputs": [
        {
          "output_type": "execute_result",
          "data": {
            "text/plain": [
              "array([0, 0, 0, ..., 0, 0, 0])"
            ]
          },
          "metadata": {
            "tags": []
          },
          "execution_count": 89
        }
      ]
    },
    {
      "cell_type": "code",
      "metadata": {
        "id": "1Lz_oLJ-n9vv"
      },
      "source": [
        "data1 = {'Transaction_number':transaction_id,'Predictions':y_pred_test}\n",
        "pred_final = pd.DataFrame(data1)"
      ],
      "execution_count": null,
      "outputs": []
    },
    {
      "cell_type": "code",
      "metadata": {
        "colab": {
          "base_uri": "https://localhost:8080/",
          "height": 204
        },
        "id": "EHnm80RAn_6g",
        "outputId": "8c10623e-ba9d-47cd-82bf-211a34930f61"
      },
      "source": [
        "pred_final.head()"
      ],
      "execution_count": null,
      "outputs": [
        {
          "output_type": "execute_result",
          "data": {
            "text/html": [
              "<div>\n",
              "<style scoped>\n",
              "    .dataframe tbody tr th:only-of-type {\n",
              "        vertical-align: middle;\n",
              "    }\n",
              "\n",
              "    .dataframe tbody tr th {\n",
              "        vertical-align: top;\n",
              "    }\n",
              "\n",
              "    .dataframe thead th {\n",
              "        text-align: right;\n",
              "    }\n",
              "</style>\n",
              "<table border=\"1\" class=\"dataframe\">\n",
              "  <thead>\n",
              "    <tr style=\"text-align: right;\">\n",
              "      <th></th>\n",
              "      <th>Transaction_number</th>\n",
              "      <th>Predictions</th>\n",
              "    </tr>\n",
              "  </thead>\n",
              "  <tbody>\n",
              "    <tr>\n",
              "      <th>0</th>\n",
              "      <td>857050141038272</td>\n",
              "      <td>0</td>\n",
              "    </tr>\n",
              "    <tr>\n",
              "      <th>1</th>\n",
              "      <td>4400462872603</td>\n",
              "      <td>0</td>\n",
              "    </tr>\n",
              "    <tr>\n",
              "      <th>2</th>\n",
              "      <td>1207915598569499</td>\n",
              "      <td>0</td>\n",
              "    </tr>\n",
              "    <tr>\n",
              "      <th>3</th>\n",
              "      <td>2009725616777536</td>\n",
              "      <td>0</td>\n",
              "    </tr>\n",
              "    <tr>\n",
              "      <th>4</th>\n",
              "      <td>2319205210274863</td>\n",
              "      <td>0</td>\n",
              "    </tr>\n",
              "  </tbody>\n",
              "</table>\n",
              "</div>"
            ],
            "text/plain": [
              "   Transaction_number  Predictions\n",
              "0     857050141038272            0\n",
              "1       4400462872603            0\n",
              "2    1207915598569499            0\n",
              "3    2009725616777536            0\n",
              "4    2319205210274863            0"
            ]
          },
          "metadata": {
            "tags": []
          },
          "execution_count": 91
        }
      ]
    },
    {
      "cell_type": "code",
      "metadata": {
        "id": "VI-qZKNj9Xip"
      },
      "source": [
        "pred_final = pred_final.set_index('Transaction_number')"
      ],
      "execution_count": null,
      "outputs": []
    },
    {
      "cell_type": "code",
      "metadata": {
        "colab": {
          "base_uri": "https://localhost:8080/"
        },
        "id": "jGcQcaULocCu",
        "outputId": "2f1aadef-2fa1-4dca-85af-b709d8fe5bf3"
      },
      "source": [
        "pred_final['Predictions'].value_counts()"
      ],
      "execution_count": null,
      "outputs": [
        {
          "output_type": "execute_result",
          "data": {
            "text/plain": [
              "0    19098\n",
              "1       35\n",
              "Name: Predictions, dtype: int64"
            ]
          },
          "metadata": {
            "tags": []
          },
          "execution_count": 93
        }
      ]
    },
    {
      "cell_type": "code",
      "metadata": {
        "id": "_TgYPwvO9apL"
      },
      "source": [
        "pred_final.to_csv('predictions_DT.csv')"
      ],
      "execution_count": null,
      "outputs": []
    },
    {
      "cell_type": "markdown",
      "metadata": {
        "id": "UvwsrbZzQ6or"
      },
      "source": [
        "## **Decision Tree Balanced**"
      ]
    },
    {
      "cell_type": "code",
      "metadata": {
        "id": "jpfcmCQ9ox2n"
      },
      "source": [
        "clf_dt_balanced = DecisionTreeClassifier(random_state=340, class_weight = 'balanced')"
      ],
      "execution_count": null,
      "outputs": []
    },
    {
      "cell_type": "code",
      "metadata": {
        "colab": {
          "base_uri": "https://localhost:8080/"
        },
        "id": "WT48sEiKuzyz",
        "outputId": "83b4c281-fca1-4fda-a590-e54c7508adf2"
      },
      "source": [
        "clf_dt_balanced.fit(X_train_final,y_train)"
      ],
      "execution_count": null,
      "outputs": [
        {
          "output_type": "execute_result",
          "data": {
            "text/plain": [
              "DecisionTreeClassifier(ccp_alpha=0.0, class_weight='balanced', criterion='gini',\n",
              "                       max_depth=None, max_features=None, max_leaf_nodes=None,\n",
              "                       min_impurity_decrease=0.0, min_impurity_split=None,\n",
              "                       min_samples_leaf=1, min_samples_split=2,\n",
              "                       min_weight_fraction_leaf=0.0, presort='deprecated',\n",
              "                       random_state=340, splitter='best')"
            ]
          },
          "metadata": {
            "tags": []
          },
          "execution_count": 96
        }
      ]
    },
    {
      "cell_type": "code",
      "metadata": {
        "id": "1UKtYcmPu0jX"
      },
      "source": [
        "y_pred_train = clf_dt_balanced.predict(X_train_final)\n",
        "y_pred_val = clf_dt_balanced.predict(X_val_final)"
      ],
      "execution_count": null,
      "outputs": []
    },
    {
      "cell_type": "code",
      "metadata": {
        "colab": {
          "base_uri": "https://localhost:8080/",
          "height": 785
        },
        "id": "_zzwtx_xt_SS",
        "outputId": "bdf39530-2592-4761-ab14-745684de4aba"
      },
      "source": [
        "scores = get_metrics(y_train,y_pred_train,y_val,y_pred_val,\"DecisionTree Balanced\",scores)\n",
        "scores"
      ],
      "execution_count": null,
      "outputs": [
        {
          "output_type": "stream",
          "text": [
            "\n",
            "            =========================================================\n",
            "            CLASSIFICATION REPORT AND CONFUSION MATRIX FOR TRAIN DATA\n",
            "            =========================================================\n",
            "            \n",
            "Predicted      0    1\n",
            "Actual               \n",
            "0          61099    1\n",
            "1              0  123\n",
            "              precision    recall  f1-score   support\n",
            "\n",
            "           0     1.0000    1.0000    1.0000     61100\n",
            "           1     0.9919    1.0000    0.9960       123\n",
            "\n",
            "    accuracy                         1.0000     61223\n",
            "   macro avg     0.9960    1.0000    0.9980     61223\n",
            "weighted avg     1.0000    1.0000    1.0000     61223\n",
            "\n",
            "\n",
            "            =========================================================\n",
            "            CLASSIFICATION REPORT AND CONFUSION MATRIX FOR Val DATA\n",
            "            =========================================================\n",
            "            \n",
            "Predicted      0   1\n",
            "Actual              \n",
            "0          15271   4\n",
            "1              3  28\n",
            "              precision    recall  f1-score   support\n",
            "\n",
            "           0     0.9998    0.9997    0.9998     15275\n",
            "           1     0.8750    0.9032    0.8889        31\n",
            "\n",
            "    accuracy                         0.9995     15306\n",
            "   macro avg     0.9374    0.9515    0.9443     15306\n",
            "weighted avg     0.9996    0.9995    0.9995     15306\n",
            "\n"
          ],
          "name": "stdout"
        },
        {
          "output_type": "execute_result",
          "data": {
            "text/html": [
              "<div>\n",
              "<style scoped>\n",
              "    .dataframe tbody tr th:only-of-type {\n",
              "        vertical-align: middle;\n",
              "    }\n",
              "\n",
              "    .dataframe tbody tr th {\n",
              "        vertical-align: top;\n",
              "    }\n",
              "\n",
              "    .dataframe thead th {\n",
              "        text-align: right;\n",
              "    }\n",
              "</style>\n",
              "<table border=\"1\" class=\"dataframe\">\n",
              "  <thead>\n",
              "    <tr style=\"text-align: right;\">\n",
              "      <th></th>\n",
              "      <th>Model</th>\n",
              "      <th>Train_F1_Score</th>\n",
              "      <th>Val_F1_Score</th>\n",
              "      <th>Train_Recall</th>\n",
              "      <th>Val_Recall</th>\n",
              "      <th>Train_Precision</th>\n",
              "      <th>Val_Precision</th>\n",
              "      <th>Train_Accuracy</th>\n",
              "      <th>Val_Accuracy</th>\n",
              "    </tr>\n",
              "  </thead>\n",
              "  <tbody>\n",
              "    <tr>\n",
              "      <th>0</th>\n",
              "      <td>LogisticRegression</td>\n",
              "      <td>0.455959</td>\n",
              "      <td>0.272727</td>\n",
              "      <td>0.357724</td>\n",
              "      <td>0.193548</td>\n",
              "      <td>0.628571</td>\n",
              "      <td>0.461538</td>\n",
              "      <td>0.998285</td>\n",
              "      <td>0.997909</td>\n",
              "    </tr>\n",
              "    <tr>\n",
              "      <th>1</th>\n",
              "      <td>LogisticRegression_Balanced</td>\n",
              "      <td>0.563510</td>\n",
              "      <td>0.516667</td>\n",
              "      <td>0.991870</td>\n",
              "      <td>1.000000</td>\n",
              "      <td>0.393548</td>\n",
              "      <td>0.348315</td>\n",
              "      <td>0.996913</td>\n",
              "      <td>0.996211</td>\n",
              "    </tr>\n",
              "    <tr>\n",
              "      <th>2</th>\n",
              "      <td>DecisionTree</td>\n",
              "      <td>0.995918</td>\n",
              "      <td>0.847458</td>\n",
              "      <td>0.991870</td>\n",
              "      <td>0.806452</td>\n",
              "      <td>1.000000</td>\n",
              "      <td>0.892857</td>\n",
              "      <td>0.999984</td>\n",
              "      <td>0.999412</td>\n",
              "    </tr>\n",
              "    <tr>\n",
              "      <th>3</th>\n",
              "      <td>DecisionTree Balanced</td>\n",
              "      <td>0.995951</td>\n",
              "      <td>0.888889</td>\n",
              "      <td>1.000000</td>\n",
              "      <td>0.903226</td>\n",
              "      <td>0.991935</td>\n",
              "      <td>0.875000</td>\n",
              "      <td>0.999984</td>\n",
              "      <td>0.999543</td>\n",
              "    </tr>\n",
              "  </tbody>\n",
              "</table>\n",
              "</div>"
            ],
            "text/plain": [
              "                         Model  Train_F1_Score  ...  Train_Accuracy  Val_Accuracy\n",
              "0           LogisticRegression        0.455959  ...        0.998285      0.997909\n",
              "1  LogisticRegression_Balanced        0.563510  ...        0.996913      0.996211\n",
              "2                 DecisionTree        0.995918  ...        0.999984      0.999412\n",
              "3        DecisionTree Balanced        0.995951  ...        0.999984      0.999543\n",
              "\n",
              "[4 rows x 9 columns]"
            ]
          },
          "metadata": {
            "tags": []
          },
          "execution_count": 98
        }
      ]
    },
    {
      "cell_type": "code",
      "metadata": {
        "id": "dfTMovwKuFDQ"
      },
      "source": [
        "y_pred_test = clf_dt_balanced.predict(test_final)"
      ],
      "execution_count": null,
      "outputs": []
    },
    {
      "cell_type": "code",
      "metadata": {
        "colab": {
          "base_uri": "https://localhost:8080/"
        },
        "id": "oQdT1REHwize",
        "outputId": "990dcd97-4206-434b-c005-d1fb710d9d50"
      },
      "source": [
        "y_pred_test"
      ],
      "execution_count": null,
      "outputs": [
        {
          "output_type": "execute_result",
          "data": {
            "text/plain": [
              "array([0, 0, 0, ..., 0, 0, 0])"
            ]
          },
          "metadata": {
            "tags": []
          },
          "execution_count": 100
        }
      ]
    },
    {
      "cell_type": "code",
      "metadata": {
        "id": "PEtpaKT0xUad"
      },
      "source": [
        "data1 = {'Transaction_number':transaction_id,'Predictions':y_pred_test}\n",
        "pred_final = pd.DataFrame(data1)"
      ],
      "execution_count": null,
      "outputs": []
    },
    {
      "cell_type": "code",
      "metadata": {
        "colab": {
          "base_uri": "https://localhost:8080/",
          "height": 204
        },
        "id": "PbWG7F1Mxlx2",
        "outputId": "2eac68f8-98a2-47ef-91f9-62dfa800c782"
      },
      "source": [
        "pred_final.head()"
      ],
      "execution_count": null,
      "outputs": [
        {
          "output_type": "execute_result",
          "data": {
            "text/html": [
              "<div>\n",
              "<style scoped>\n",
              "    .dataframe tbody tr th:only-of-type {\n",
              "        vertical-align: middle;\n",
              "    }\n",
              "\n",
              "    .dataframe tbody tr th {\n",
              "        vertical-align: top;\n",
              "    }\n",
              "\n",
              "    .dataframe thead th {\n",
              "        text-align: right;\n",
              "    }\n",
              "</style>\n",
              "<table border=\"1\" class=\"dataframe\">\n",
              "  <thead>\n",
              "    <tr style=\"text-align: right;\">\n",
              "      <th></th>\n",
              "      <th>Transaction_number</th>\n",
              "      <th>Predictions</th>\n",
              "    </tr>\n",
              "  </thead>\n",
              "  <tbody>\n",
              "    <tr>\n",
              "      <th>0</th>\n",
              "      <td>857050141038272</td>\n",
              "      <td>0</td>\n",
              "    </tr>\n",
              "    <tr>\n",
              "      <th>1</th>\n",
              "      <td>4400462872603</td>\n",
              "      <td>0</td>\n",
              "    </tr>\n",
              "    <tr>\n",
              "      <th>2</th>\n",
              "      <td>1207915598569499</td>\n",
              "      <td>0</td>\n",
              "    </tr>\n",
              "    <tr>\n",
              "      <th>3</th>\n",
              "      <td>2009725616777536</td>\n",
              "      <td>0</td>\n",
              "    </tr>\n",
              "    <tr>\n",
              "      <th>4</th>\n",
              "      <td>2319205210274863</td>\n",
              "      <td>0</td>\n",
              "    </tr>\n",
              "  </tbody>\n",
              "</table>\n",
              "</div>"
            ],
            "text/plain": [
              "   Transaction_number  Predictions\n",
              "0     857050141038272            0\n",
              "1       4400462872603            0\n",
              "2    1207915598569499            0\n",
              "3    2009725616777536            0\n",
              "4    2319205210274863            0"
            ]
          },
          "metadata": {
            "tags": []
          },
          "execution_count": 102
        }
      ]
    },
    {
      "cell_type": "code",
      "metadata": {
        "id": "d7xu1voCztNv"
      },
      "source": [
        "pred_final = pred_final.set_index('Transaction_number')"
      ],
      "execution_count": null,
      "outputs": []
    },
    {
      "cell_type": "code",
      "metadata": {
        "colab": {
          "base_uri": "https://localhost:8080/"
        },
        "id": "56L0BnV7xukQ",
        "outputId": "4a2100b1-c537-4422-e398-addd9b310173"
      },
      "source": [
        "pred_final['Predictions'].value_counts()"
      ],
      "execution_count": null,
      "outputs": [
        {
          "output_type": "execute_result",
          "data": {
            "text/plain": [
              "0    19091\n",
              "1       42\n",
              "Name: Predictions, dtype: int64"
            ]
          },
          "metadata": {
            "tags": []
          },
          "execution_count": 104
        }
      ]
    },
    {
      "cell_type": "code",
      "metadata": {
        "id": "RPyg45EsxzdD"
      },
      "source": [
        "pred_final.to_csv('predictions_DT_balanced.csv')"
      ],
      "execution_count": null,
      "outputs": []
    },
    {
      "cell_type": "markdown",
      "metadata": {
        "id": "jxagodzfS7FP"
      },
      "source": [
        "## **Random Forests**"
      ]
    },
    {
      "cell_type": "code",
      "metadata": {
        "id": "a167rtj2x-l9"
      },
      "source": [
        "rfc = RandomForestClassifier(random_state=340, class_weight = 'balanced', n_estimators = 71, min_samples_split = 0.05, \n",
        "                             max_features = 0.46, max_depth = 10)\n",
        "\n",
        "rfc.fit(X_train_final,y_train)\n",
        "\n",
        "y_pred_train = rfc.predict(X_train_final)\n",
        "y_pred_val = rfc.predict(X_val_final)"
      ],
      "execution_count": null,
      "outputs": []
    },
    {
      "cell_type": "code",
      "metadata": {
        "colab": {
          "base_uri": "https://localhost:8080/",
          "height": 816
        },
        "id": "sacjKTO9Sz2Z",
        "outputId": "d22f42bc-3f82-496f-897b-51e26e1f4c40"
      },
      "source": [
        "scores = get_metrics(y_train,y_pred_train,y_val,y_pred_val,\"Random Forest Classifier\",scores)\n",
        "scores"
      ],
      "execution_count": null,
      "outputs": [
        {
          "output_type": "stream",
          "text": [
            "\n",
            "            =========================================================\n",
            "            CLASSIFICATION REPORT AND CONFUSION MATRIX FOR TRAIN DATA\n",
            "            =========================================================\n",
            "            \n",
            "Predicted      0    1\n",
            "Actual               \n",
            "0          60382  718\n",
            "1              1  122\n",
            "              precision    recall  f1-score   support\n",
            "\n",
            "           0     1.0000    0.9882    0.9941     61100\n",
            "           1     0.1452    0.9919    0.2534       123\n",
            "\n",
            "    accuracy                         0.9883     61223\n",
            "   macro avg     0.5726    0.9901    0.6237     61223\n",
            "weighted avg     0.9983    0.9883    0.9926     61223\n",
            "\n",
            "\n",
            "            =========================================================\n",
            "            CLASSIFICATION REPORT AND CONFUSION MATRIX FOR Val DATA\n",
            "            =========================================================\n",
            "            \n",
            "Predicted      0    1\n",
            "Actual               \n",
            "0          15093  182\n",
            "1              0   31\n",
            "              precision    recall  f1-score   support\n",
            "\n",
            "           0     1.0000    0.9881    0.9940     15275\n",
            "           1     0.1455    1.0000    0.2541        31\n",
            "\n",
            "    accuracy                         0.9881     15306\n",
            "   macro avg     0.5728    0.9940    0.6241     15306\n",
            "weighted avg     0.9983    0.9881    0.9925     15306\n",
            "\n"
          ],
          "name": "stdout"
        },
        {
          "output_type": "execute_result",
          "data": {
            "text/html": [
              "<div>\n",
              "<style scoped>\n",
              "    .dataframe tbody tr th:only-of-type {\n",
              "        vertical-align: middle;\n",
              "    }\n",
              "\n",
              "    .dataframe tbody tr th {\n",
              "        vertical-align: top;\n",
              "    }\n",
              "\n",
              "    .dataframe thead th {\n",
              "        text-align: right;\n",
              "    }\n",
              "</style>\n",
              "<table border=\"1\" class=\"dataframe\">\n",
              "  <thead>\n",
              "    <tr style=\"text-align: right;\">\n",
              "      <th></th>\n",
              "      <th>Model</th>\n",
              "      <th>Train_F1_Score</th>\n",
              "      <th>Val_F1_Score</th>\n",
              "      <th>Train_Recall</th>\n",
              "      <th>Val_Recall</th>\n",
              "      <th>Train_Precision</th>\n",
              "      <th>Val_Precision</th>\n",
              "      <th>Train_Accuracy</th>\n",
              "      <th>Val_Accuracy</th>\n",
              "    </tr>\n",
              "  </thead>\n",
              "  <tbody>\n",
              "    <tr>\n",
              "      <th>0</th>\n",
              "      <td>LogisticRegression</td>\n",
              "      <td>0.455959</td>\n",
              "      <td>0.272727</td>\n",
              "      <td>0.357724</td>\n",
              "      <td>0.193548</td>\n",
              "      <td>0.628571</td>\n",
              "      <td>0.461538</td>\n",
              "      <td>0.998285</td>\n",
              "      <td>0.997909</td>\n",
              "    </tr>\n",
              "    <tr>\n",
              "      <th>1</th>\n",
              "      <td>LogisticRegression_Balanced</td>\n",
              "      <td>0.563510</td>\n",
              "      <td>0.516667</td>\n",
              "      <td>0.991870</td>\n",
              "      <td>1.000000</td>\n",
              "      <td>0.393548</td>\n",
              "      <td>0.348315</td>\n",
              "      <td>0.996913</td>\n",
              "      <td>0.996211</td>\n",
              "    </tr>\n",
              "    <tr>\n",
              "      <th>2</th>\n",
              "      <td>DecisionTree</td>\n",
              "      <td>0.995918</td>\n",
              "      <td>0.847458</td>\n",
              "      <td>0.991870</td>\n",
              "      <td>0.806452</td>\n",
              "      <td>1.000000</td>\n",
              "      <td>0.892857</td>\n",
              "      <td>0.999984</td>\n",
              "      <td>0.999412</td>\n",
              "    </tr>\n",
              "    <tr>\n",
              "      <th>3</th>\n",
              "      <td>DecisionTree Balanced</td>\n",
              "      <td>0.995951</td>\n",
              "      <td>0.888889</td>\n",
              "      <td>1.000000</td>\n",
              "      <td>0.903226</td>\n",
              "      <td>0.991935</td>\n",
              "      <td>0.875000</td>\n",
              "      <td>0.999984</td>\n",
              "      <td>0.999543</td>\n",
              "    </tr>\n",
              "    <tr>\n",
              "      <th>4</th>\n",
              "      <td>Random Forest Classifier</td>\n",
              "      <td>0.253375</td>\n",
              "      <td>0.254098</td>\n",
              "      <td>0.991870</td>\n",
              "      <td>1.000000</td>\n",
              "      <td>0.145238</td>\n",
              "      <td>0.145540</td>\n",
              "      <td>0.988256</td>\n",
              "      <td>0.988109</td>\n",
              "    </tr>\n",
              "  </tbody>\n",
              "</table>\n",
              "</div>"
            ],
            "text/plain": [
              "                         Model  Train_F1_Score  ...  Train_Accuracy  Val_Accuracy\n",
              "0           LogisticRegression        0.455959  ...        0.998285      0.997909\n",
              "1  LogisticRegression_Balanced        0.563510  ...        0.996913      0.996211\n",
              "2                 DecisionTree        0.995918  ...        0.999984      0.999412\n",
              "3        DecisionTree Balanced        0.995951  ...        0.999984      0.999543\n",
              "4     Random Forest Classifier        0.253375  ...        0.988256      0.988109\n",
              "\n",
              "[5 rows x 9 columns]"
            ]
          },
          "metadata": {
            "tags": []
          },
          "execution_count": 107
        }
      ]
    },
    {
      "cell_type": "code",
      "metadata": {
        "colab": {
          "base_uri": "https://localhost:8080/"
        },
        "id": "o2FWm8HCTEN4",
        "outputId": "3bb8ab91-82c9-4f7b-d833-008e43fc0302"
      },
      "source": [
        "clf_dt_balanced.feature_importances_"
      ],
      "execution_count": null,
      "outputs": [
        {
          "output_type": "execute_result",
          "data": {
            "text/plain": [
              "array([9.75441712e-01, 1.83314987e-03, 9.19197580e-03, 9.04422032e-04,\n",
              "       0.00000000e+00, 0.00000000e+00, 0.00000000e+00, 7.91480719e-03,\n",
              "       9.76133663e-05, 0.00000000e+00, 0.00000000e+00, 0.00000000e+00,\n",
              "       0.00000000e+00, 0.00000000e+00, 0.00000000e+00, 1.32282345e-03,\n",
              "       0.00000000e+00, 0.00000000e+00, 0.00000000e+00, 0.00000000e+00,\n",
              "       0.00000000e+00, 0.00000000e+00, 0.00000000e+00, 3.26685288e-05,\n",
              "       0.00000000e+00, 0.00000000e+00, 8.40570441e-04, 0.00000000e+00,\n",
              "       0.00000000e+00, 0.00000000e+00, 0.00000000e+00, 0.00000000e+00,\n",
              "       0.00000000e+00, 6.52850749e-05, 0.00000000e+00, 0.00000000e+00,\n",
              "       0.00000000e+00, 0.00000000e+00, 0.00000000e+00, 0.00000000e+00,\n",
              "       0.00000000e+00, 0.00000000e+00, 0.00000000e+00, 0.00000000e+00,\n",
              "       0.00000000e+00, 5.61934472e-09, 0.00000000e+00, 0.00000000e+00,\n",
              "       0.00000000e+00, 3.27013781e-05, 3.26685288e-05, 4.54613434e-04,\n",
              "       0.00000000e+00, 0.00000000e+00, 0.00000000e+00, 1.19446806e-03,\n",
              "       2.63270701e-08, 6.40489234e-04, 0.00000000e+00, 0.00000000e+00,\n",
              "       0.00000000e+00, 0.00000000e+00, 0.00000000e+00, 0.00000000e+00])"
            ]
          },
          "metadata": {
            "tags": []
          },
          "execution_count": 108
        }
      ]
    },
    {
      "cell_type": "code",
      "metadata": {
        "colab": {
          "base_uri": "https://localhost:8080/",
          "height": 131
        },
        "id": "NOHmIe3AkLct",
        "outputId": "496b7a03-c387-4388-fb18-ad5789202c4e"
      },
      "source": [
        "features = X_train_final.columns\n",
        "importances = clf_dt_balanced.feature_importances_\n",
        "\n",
        "indices = np.argsort(importances)[::-1]\n",
        "\n",
        "pd.set_option('max_columns',None)\n",
        "pd.DataFrame([X_train_final.columns[indices],np.sort(importances)[::-1]])"
      ],
      "execution_count": null,
      "outputs": [
        {
          "output_type": "execute_result",
          "data": {
            "text/html": [
              "<div>\n",
              "<style scoped>\n",
              "    .dataframe tbody tr th:only-of-type {\n",
              "        vertical-align: middle;\n",
              "    }\n",
              "\n",
              "    .dataframe tbody tr th {\n",
              "        vertical-align: top;\n",
              "    }\n",
              "\n",
              "    .dataframe thead th {\n",
              "        text-align: right;\n",
              "    }\n",
              "</style>\n",
              "<table border=\"1\" class=\"dataframe\">\n",
              "  <thead>\n",
              "    <tr style=\"text-align: right;\">\n",
              "      <th></th>\n",
              "      <th>0</th>\n",
              "      <th>1</th>\n",
              "      <th>2</th>\n",
              "      <th>3</th>\n",
              "      <th>4</th>\n",
              "      <th>5</th>\n",
              "      <th>6</th>\n",
              "      <th>7</th>\n",
              "      <th>8</th>\n",
              "      <th>9</th>\n",
              "      <th>10</th>\n",
              "      <th>11</th>\n",
              "      <th>12</th>\n",
              "      <th>13</th>\n",
              "      <th>14</th>\n",
              "      <th>15</th>\n",
              "      <th>16</th>\n",
              "      <th>17</th>\n",
              "      <th>18</th>\n",
              "      <th>19</th>\n",
              "      <th>20</th>\n",
              "      <th>21</th>\n",
              "      <th>22</th>\n",
              "      <th>23</th>\n",
              "      <th>24</th>\n",
              "      <th>25</th>\n",
              "      <th>26</th>\n",
              "      <th>27</th>\n",
              "      <th>28</th>\n",
              "      <th>29</th>\n",
              "      <th>30</th>\n",
              "      <th>31</th>\n",
              "      <th>32</th>\n",
              "      <th>33</th>\n",
              "      <th>34</th>\n",
              "      <th>35</th>\n",
              "      <th>36</th>\n",
              "      <th>37</th>\n",
              "      <th>38</th>\n",
              "      <th>39</th>\n",
              "      <th>40</th>\n",
              "      <th>41</th>\n",
              "      <th>42</th>\n",
              "      <th>43</th>\n",
              "      <th>44</th>\n",
              "      <th>45</th>\n",
              "      <th>46</th>\n",
              "      <th>47</th>\n",
              "      <th>48</th>\n",
              "      <th>49</th>\n",
              "      <th>50</th>\n",
              "      <th>51</th>\n",
              "      <th>52</th>\n",
              "      <th>53</th>\n",
              "      <th>54</th>\n",
              "      <th>55</th>\n",
              "      <th>56</th>\n",
              "      <th>57</th>\n",
              "      <th>58</th>\n",
              "      <th>59</th>\n",
              "      <th>60</th>\n",
              "      <th>61</th>\n",
              "      <th>62</th>\n",
              "      <th>63</th>\n",
              "    </tr>\n",
              "  </thead>\n",
              "  <tbody>\n",
              "    <tr>\n",
              "      <th>0</th>\n",
              "      <td>money_transacted</td>\n",
              "      <td>transaction_hour</td>\n",
              "      <td>payment_method_x0_visa_master_credit_cards</td>\n",
              "      <td>transaction_date</td>\n",
              "      <td>partner_id_x0_55223</td>\n",
              "      <td>transaction_weekday_x0_0</td>\n",
              "      <td>payment_method_x0_e_wallet_payments</td>\n",
              "      <td>partner_id_x0_157780</td>\n",
              "      <td>transaction_weekday_x0_2</td>\n",
              "      <td>transaction_month_x0_1</td>\n",
              "      <td>payment_method_x0_visa_master_debit_cards</td>\n",
              "      <td>partner_category_x0_cat_2</td>\n",
              "      <td>transaction_year_x0_2016</td>\n",
              "      <td>partner_id_x0_118335</td>\n",
              "      <td>transaction_year_x0_2017</td>\n",
              "      <td>transaction_weekday_x0_1</td>\n",
              "      <td>partner_pricing_category_x0_0</td>\n",
              "      <td>partner_id_x0_15778</td>\n",
              "      <td>partner_id_x0_86779</td>\n",
              "      <td>partner_id_x0_149891</td>\n",
              "      <td>partner_id_x0_126224</td>\n",
              "      <td>payment_method_x0_unified_payments_interface</td>\n",
              "      <td>partner_id_x0_110446</td>\n",
              "      <td>partner_id_x0_7889</td>\n",
              "      <td>partner_id_x0_102557</td>\n",
              "      <td>partner_id_x0_94668</td>\n",
              "      <td>partner_id_x0_78890</td>\n",
              "      <td>partner_id_x0_165669</td>\n",
              "      <td>partner_id_x0_71001</td>\n",
              "      <td>partner_id_x0_63112</td>\n",
              "      <td>payment_method_x0_other_debit_cards</td>\n",
              "      <td>payment_method_x0_sbi_atm_cum_debit_card</td>\n",
              "      <td>partner_id_x0_39445</td>\n",
              "      <td>partner_id_x0_31556</td>\n",
              "      <td>partner_id_x0_23667</td>\n",
              "      <td>partner_id_x0_47334</td>\n",
              "      <td>credit_x0_1</td>\n",
              "      <td>partner_id_x0_173558</td>\n",
              "      <td>device_type_x0_other_pcs</td>\n",
              "      <td>transaction_weekday_x0_6</td>\n",
              "      <td>transaction_weekday_x0_5</td>\n",
              "      <td>transaction_weekday_x0_4</td>\n",
              "      <td>transaction_weekday_x0_3</td>\n",
              "      <td>transaction_month_x0_12</td>\n",
              "      <td>transaction_month_x0_11</td>\n",
              "      <td>transaction_month_x0_2</td>\n",
              "      <td>partner_pricing_category_x0_4</td>\n",
              "      <td>partner_pricing_category_x0_2</td>\n",
              "      <td>partner_pricing_category_x0_1</td>\n",
              "      <td>device_type_x0_windows_pcs</td>\n",
              "      <td>device_type_x0_ios_devices</td>\n",
              "      <td>partner_id_x0_181447</td>\n",
              "      <td>device_type_x0_android_devices</td>\n",
              "      <td>partner_category_x0_cat_9</td>\n",
              "      <td>partner_category_x0_cat_8</td>\n",
              "      <td>partner_category_x0_cat_7</td>\n",
              "      <td>partner_category_x0_cat_6</td>\n",
              "      <td>partner_category_x0_cat_5</td>\n",
              "      <td>partner_category_x0_cat_4</td>\n",
              "      <td>partner_category_x0_cat_3</td>\n",
              "      <td>partner_category_x0_cat_1</td>\n",
              "      <td>credit_x0_0</td>\n",
              "      <td>partner_id_x0_189336</td>\n",
              "      <td>partner_id_x0_213003</td>\n",
              "    </tr>\n",
              "    <tr>\n",
              "      <th>1</th>\n",
              "      <td>0.975442</td>\n",
              "      <td>0.00919198</td>\n",
              "      <td>0.00791481</td>\n",
              "      <td>0.00183315</td>\n",
              "      <td>0.00132282</td>\n",
              "      <td>0.00119447</td>\n",
              "      <td>0.000904422</td>\n",
              "      <td>0.00084057</td>\n",
              "      <td>0.000640489</td>\n",
              "      <td>0.000454613</td>\n",
              "      <td>9.76134e-05</td>\n",
              "      <td>6.52851e-05</td>\n",
              "      <td>3.27014e-05</td>\n",
              "      <td>3.26685e-05</td>\n",
              "      <td>3.26685e-05</td>\n",
              "      <td>2.63271e-08</td>\n",
              "      <td>5.61934e-09</td>\n",
              "      <td>0</td>\n",
              "      <td>0</td>\n",
              "      <td>0</td>\n",
              "      <td>0</td>\n",
              "      <td>0</td>\n",
              "      <td>0</td>\n",
              "      <td>0</td>\n",
              "      <td>0</td>\n",
              "      <td>0</td>\n",
              "      <td>0</td>\n",
              "      <td>0</td>\n",
              "      <td>0</td>\n",
              "      <td>0</td>\n",
              "      <td>0</td>\n",
              "      <td>0</td>\n",
              "      <td>0</td>\n",
              "      <td>0</td>\n",
              "      <td>0</td>\n",
              "      <td>0</td>\n",
              "      <td>0</td>\n",
              "      <td>0</td>\n",
              "      <td>0</td>\n",
              "      <td>0</td>\n",
              "      <td>0</td>\n",
              "      <td>0</td>\n",
              "      <td>0</td>\n",
              "      <td>0</td>\n",
              "      <td>0</td>\n",
              "      <td>0</td>\n",
              "      <td>0</td>\n",
              "      <td>0</td>\n",
              "      <td>0</td>\n",
              "      <td>0</td>\n",
              "      <td>0</td>\n",
              "      <td>0</td>\n",
              "      <td>0</td>\n",
              "      <td>0</td>\n",
              "      <td>0</td>\n",
              "      <td>0</td>\n",
              "      <td>0</td>\n",
              "      <td>0</td>\n",
              "      <td>0</td>\n",
              "      <td>0</td>\n",
              "      <td>0</td>\n",
              "      <td>0</td>\n",
              "      <td>0</td>\n",
              "      <td>0</td>\n",
              "    </tr>\n",
              "  </tbody>\n",
              "</table>\n",
              "</div>"
            ],
            "text/plain": [
              "                 0                 1   \\\n",
              "0  money_transacted  transaction_hour   \n",
              "1          0.975442        0.00919198   \n",
              "\n",
              "                                           2                 3   \\\n",
              "0  payment_method_x0_visa_master_credit_cards  transaction_date   \n",
              "1                                  0.00791481        0.00183315   \n",
              "\n",
              "                    4                         5   \\\n",
              "0  partner_id_x0_55223  transaction_weekday_x0_0   \n",
              "1           0.00132282                0.00119447   \n",
              "\n",
              "                                    6                     7   \\\n",
              "0  payment_method_x0_e_wallet_payments  partner_id_x0_157780   \n",
              "1                          0.000904422            0.00084057   \n",
              "\n",
              "                         8                       9   \\\n",
              "0  transaction_weekday_x0_2  transaction_month_x0_1   \n",
              "1               0.000640489             0.000454613   \n",
              "\n",
              "                                          10                         11  \\\n",
              "0  payment_method_x0_visa_master_debit_cards  partner_category_x0_cat_2   \n",
              "1                                9.76134e-05                6.52851e-05   \n",
              "\n",
              "                         12                    13                        14  \\\n",
              "0  transaction_year_x0_2016  partner_id_x0_118335  transaction_year_x0_2017   \n",
              "1               3.27014e-05           3.26685e-05               3.26685e-05   \n",
              "\n",
              "                         15                             16  \\\n",
              "0  transaction_weekday_x0_1  partner_pricing_category_x0_0   \n",
              "1               2.63271e-08                    5.61934e-09   \n",
              "\n",
              "                    17                   18                    19  \\\n",
              "0  partner_id_x0_15778  partner_id_x0_86779  partner_id_x0_149891   \n",
              "1                    0                    0                     0   \n",
              "\n",
              "                     20                                            21  \\\n",
              "0  partner_id_x0_126224  payment_method_x0_unified_payments_interface   \n",
              "1                     0                                             0   \n",
              "\n",
              "                     22                  23                    24  \\\n",
              "0  partner_id_x0_110446  partner_id_x0_7889  partner_id_x0_102557   \n",
              "1                     0                   0                     0   \n",
              "\n",
              "                    25                   26                    27  \\\n",
              "0  partner_id_x0_94668  partner_id_x0_78890  partner_id_x0_165669   \n",
              "1                    0                    0                     0   \n",
              "\n",
              "                    28                   29  \\\n",
              "0  partner_id_x0_71001  partner_id_x0_63112   \n",
              "1                    0                    0   \n",
              "\n",
              "                                    30  \\\n",
              "0  payment_method_x0_other_debit_cards   \n",
              "1                                    0   \n",
              "\n",
              "                                         31                   32  \\\n",
              "0  payment_method_x0_sbi_atm_cum_debit_card  partner_id_x0_39445   \n",
              "1                                         0                    0   \n",
              "\n",
              "                    33                   34                   35           36  \\\n",
              "0  partner_id_x0_31556  partner_id_x0_23667  partner_id_x0_47334  credit_x0_1   \n",
              "1                    0                    0                    0            0   \n",
              "\n",
              "                     37                        38                        39  \\\n",
              "0  partner_id_x0_173558  device_type_x0_other_pcs  transaction_weekday_x0_6   \n",
              "1                     0                         0                         0   \n",
              "\n",
              "                         40                        41  \\\n",
              "0  transaction_weekday_x0_5  transaction_weekday_x0_4   \n",
              "1                         0                         0   \n",
              "\n",
              "                         42                       43                       44  \\\n",
              "0  transaction_weekday_x0_3  transaction_month_x0_12  transaction_month_x0_11   \n",
              "1                         0                        0                        0   \n",
              "\n",
              "                       45                             46  \\\n",
              "0  transaction_month_x0_2  partner_pricing_category_x0_4   \n",
              "1                       0                              0   \n",
              "\n",
              "                              47                             48  \\\n",
              "0  partner_pricing_category_x0_2  partner_pricing_category_x0_1   \n",
              "1                              0                              0   \n",
              "\n",
              "                           49                          50  \\\n",
              "0  device_type_x0_windows_pcs  device_type_x0_ios_devices   \n",
              "1                           0                           0   \n",
              "\n",
              "                     51                              52  \\\n",
              "0  partner_id_x0_181447  device_type_x0_android_devices   \n",
              "1                     0                               0   \n",
              "\n",
              "                          53                         54  \\\n",
              "0  partner_category_x0_cat_9  partner_category_x0_cat_8   \n",
              "1                          0                          0   \n",
              "\n",
              "                          55                         56  \\\n",
              "0  partner_category_x0_cat_7  partner_category_x0_cat_6   \n",
              "1                          0                          0   \n",
              "\n",
              "                          57                         58  \\\n",
              "0  partner_category_x0_cat_5  partner_category_x0_cat_4   \n",
              "1                          0                          0   \n",
              "\n",
              "                          59                         60           61  \\\n",
              "0  partner_category_x0_cat_3  partner_category_x0_cat_1  credit_x0_0   \n",
              "1                          0                          0            0   \n",
              "\n",
              "                     62                    63  \n",
              "0  partner_id_x0_189336  partner_id_x0_213003  \n",
              "1                     0                     0  "
            ]
          },
          "metadata": {
            "tags": []
          },
          "execution_count": 109
        }
      ]
    },
    {
      "cell_type": "code",
      "metadata": {
        "colab": {
          "base_uri": "https://localhost:8080/",
          "height": 621
        },
        "id": "OvJCwUqOkZiy",
        "outputId": "39a57c85-596e-42d2-b4d4-1fb0817d50bb"
      },
      "source": [
        "plt.figure(figsize = (12,10))\n",
        "plt.title('Feature Importances')\n",
        "plt.barh(range(len(indices)), importances[indices], color='blue')\n",
        "plt.yticks(range(len(indices)), [features[i] for i in indices])\n",
        "plt.xlabel('Relative Importance')\n",
        "plt.savefig('imp_feat.png')"
      ],
      "execution_count": null,
      "outputs": [
        {
          "output_type": "display_data",
          "data": {
            "image/png": "[encoded data removed]",
            "text/plain": [
              "<Figure size 864x720 with 1 Axes>"
            ]
          },
          "metadata": {
            "tags": [],
            "needs_background": "light"
          }
        }
      ]
    },
    {
      "cell_type": "code",
      "metadata": {
        "colab": {
          "base_uri": "https://localhost:8080/"
        },
        "id": "LF6firvWkjV0",
        "outputId": "d123d1fa-a310-4ba8-e6fb-affd93d18f6b"
      },
      "source": [
        "imp_indices = []\n",
        "for x in indices:\n",
        "    if importances[x] > 0:\n",
        "        imp_indices.append(x)\n",
        "        \n",
        "print(imp_indices)\n",
        "print(len(imp_indices))"
      ],
      "execution_count": null,
      "outputs": [
        {
          "output_type": "stream",
          "text": [
            "[0, 2, 7, 1, 15, 55, 3, 26, 57, 51, 8, 33, 49, 23, 50, 56, 45]\n",
            "17\n"
          ],
          "name": "stdout"
        }
      ]
    },
    {
      "cell_type": "code",
      "metadata": {
        "colab": {
          "base_uri": "https://localhost:8080/"
        },
        "id": "t0bEqne9lFTa",
        "outputId": "d1ef7381-bfc3-47a4-cef8-7a4638471fc9"
      },
      "source": [
        "imp_cols = list(X_train_final.columns[imp_indices])\n",
        "print(imp_cols)"
      ],
      "execution_count": null,
      "outputs": [
        {
          "output_type": "stream",
          "text": [
            "['money_transacted', 'transaction_hour', 'payment_method_x0_visa_master_credit_cards', 'transaction_date', 'partner_id_x0_55223', 'transaction_weekday_x0_0', 'payment_method_x0_e_wallet_payments', 'partner_id_x0_157780', 'transaction_weekday_x0_2', 'transaction_month_x0_1', 'payment_method_x0_visa_master_debit_cards', 'partner_category_x0_cat_2', 'transaction_year_x0_2016', 'partner_id_x0_118335', 'transaction_year_x0_2017', 'transaction_weekday_x0_1', 'partner_pricing_category_x0_0']\n"
          ],
          "name": "stdout"
        }
      ]
    },
    {
      "cell_type": "markdown",
      "metadata": {
        "id": "OR9FCa7VlwLW"
      },
      "source": [
        "`From the above insights, I see 'money_transacted' as the most important variable. So, for the column as I also see there are transactions that has more amount debits which leads to the concern that most of the high money transactions can be fraud. So, I recommend the company to have a maximum limit as such for the transactions and as there are only some accounts as fraud those can be blocked and the transactions are going to happen with the same values of the attributes can be avoided. `"
      ]
    },
    {
      "cell_type": "markdown",
      "metadata": {
        "id": "L5tlG6lXamzd"
      },
      "source": [
        "### **Bivariate Analysis**"
      ]
    },
    {
      "cell_type": "code",
      "metadata": {
        "id": "TUdSY3olnFy4"
      },
      "source": [
        "def getProbOfisfraud(col, target, df, forGraph=True):\n",
        "    crosstab = pd.crosstab(index = df[col], columns = df[target])\n",
        "    crosstab.columns = pd.Index(list(crosstab.columns))\n",
        "    crosstab = crosstab.reset_index() \n",
        "    crosstab['TotalCount'] = crosstab[1] + crosstab[0]\n",
        "    crosstab['probisfraud'] = crosstab[1] / crosstab['TotalCount']\n",
        "    \n",
        "    print(crosstab.head(31))\n",
        "    if forGraph:\n",
        "        return crosstab[[col, 'probisfraud']]\n",
        "    else:\n",
        "        return crosstab[[col, 'TotalCount', 'probofisfraud']]"
      ],
      "execution_count": null,
      "outputs": []
    },
    {
      "cell_type": "code",
      "metadata": {
        "colab": {
          "base_uri": "https://localhost:8080/"
        },
        "id": "rEjoveAUfSUt",
        "outputId": "350bc4e3-bdc3-4d56-975d-9094fa62f9c8"
      },
      "source": [
        "data.columns"
      ],
      "execution_count": null,
      "outputs": [
        {
          "output_type": "execute_result",
          "data": {
            "text/plain": [
              "Index(['payment_method', 'partner_id', 'partner_category', 'device_type',\n",
              "       'money_transacted', 'partner_pricing_category', 'is_fraud',\n",
              "       'transaction_year', 'transaction_date', 'transaction_month',\n",
              "       'transaction_hour', 'transaction_weekday', 'credit'],\n",
              "      dtype='object')"
            ]
          },
          "metadata": {
            "tags": []
          },
          "execution_count": 115
        }
      ]
    },
    {
      "cell_type": "code",
      "metadata": {
        "colab": {
          "base_uri": "https://localhost:8080/",
          "height": 509
        },
        "id": "FyZl2TVqbstM",
        "outputId": "70bbd3a3-22ad-4123-f4c8-8f08edd0c815"
      },
      "source": [
        "plt.figure(figsize = (16,6))\n",
        "sns.barplot(x = 'payment_method',y = 'probisfraud', data=getProbOfisfraud('payment_method', 'is_fraud',data));"
      ],
      "execution_count": null,
      "outputs": [
        {
          "output_type": "stream",
          "text": [
            "               payment_method      0   1  TotalCount  probisfraud\n",
            "0           e_wallet_payments  27382   2       27384     0.000073\n",
            "1           other_debit_cards   4452  43        4495     0.009566\n",
            "2      sbi_atm_cum_debit_card  30533   5       30538     0.000164\n",
            "3  unified_payments_interface     15   0          15     0.000000\n",
            "4    visa_master_credit_cards   2401  53        2454     0.021597\n",
            "5     visa_master_debit_cards  11592  51       11643     0.004380\n"
          ],
          "name": "stdout"
        },
        {
          "output_type": "display_data",
          "data": {
            "image/png": "[encoded data removed]",
            "text/plain": [
              "<Figure size 1152x432 with 1 Axes>"
            ]
          },
          "metadata": {
            "tags": [],
            "needs_background": "light"
          }
        }
      ]
    },
    {
      "cell_type": "code",
      "metadata": {
        "colab": {
          "base_uri": "https://localhost:8080/",
          "height": 366
        },
        "id": "fIjAxomrfXQh",
        "outputId": "fab4f7fd-dea7-4fcf-807d-ad5c94e95571"
      },
      "source": [
        "sns.barplot(x = 'device_type',y = 'probisfraud', data=getProbOfisfraud('device_type', 'is_fraud',data));"
      ],
      "execution_count": null,
      "outputs": [
        {
          "output_type": "stream",
          "text": [
            "       device_type      0    1  TotalCount  probisfraud\n",
            "0  android_devices  29657    5       29662     0.000169\n",
            "1      ios_devices    876    0         876     0.000000\n",
            "2        other_pcs  45415  145       45560     0.003183\n",
            "3      windows_pcs    427    4         431     0.009281\n"
          ],
          "name": "stdout"
        },
        {
          "output_type": "display_data",
          "data": {
            "image/png": "[encoded data removed]",
            "text/plain": [
              "<Figure size 432x288 with 1 Axes>"
            ]
          },
          "metadata": {
            "tags": [],
            "needs_background": "light"
          }
        }
      ]
    },
    {
      "cell_type": "code",
      "metadata": {
        "colab": {
          "base_uri": "https://localhost:8080/",
          "height": 330
        },
        "id": "3AeVky35f3_X",
        "outputId": "cd064130-69a9-400d-ff0a-f53387a87576"
      },
      "source": [
        "sns.barplot(x = 'credit',y = 'probisfraud', data=getProbOfisfraud('credit', 'is_fraud',data));"
      ],
      "execution_count": null,
      "outputs": [
        {
          "output_type": "stream",
          "text": [
            "  credit      0    1  TotalCount  probisfraud\n",
            "0      0  45842  149       45991     0.003240\n",
            "1      1  30533    5       30538     0.000164\n"
          ],
          "name": "stdout"
        },
        {
          "output_type": "display_data",
          "data": {
            "image/png": "[encoded data removed]",
            "text/plain": [
              "<Figure size 432x288 with 1 Axes>"
            ]
          },
          "metadata": {
            "tags": [],
            "needs_background": "light"
          }
        }
      ]
    },
    {
      "cell_type": "code",
      "metadata": {
        "colab": {
          "base_uri": "https://localhost:8080/"
        },
        "id": "dLRRDCNvgRoj",
        "outputId": "b3628362-2dd2-490f-84e7-0579f757ced5"
      },
      "source": [
        "data.columns"
      ],
      "execution_count": null,
      "outputs": [
        {
          "output_type": "execute_result",
          "data": {
            "text/plain": [
              "Index(['payment_method', 'partner_id', 'partner_category', 'device_type',\n",
              "       'money_transacted', 'partner_pricing_category', 'is_fraud',\n",
              "       'transaction_year', 'transaction_date', 'transaction_month',\n",
              "       'transaction_hour', 'transaction_weekday', 'credit'],\n",
              "      dtype='object')"
            ]
          },
          "metadata": {
            "tags": []
          },
          "execution_count": 123
        }
      ]
    },
    {
      "cell_type": "code",
      "metadata": {
        "colab": {
          "base_uri": "https://localhost:8080/",
          "height": 331
        },
        "id": "g-Bhdn8-l5xr",
        "outputId": "92fe8c16-ad06-43c4-cfae-5538526ed829"
      },
      "source": [
        "sns.barplot(x = 'transaction_year',y = 'probisfraud', data=getProbOfisfraud('transaction_year', 'is_fraud',data));"
      ],
      "execution_count": null,
      "outputs": [
        {
          "output_type": "stream",
          "text": [
            "  transaction_year      0   1  TotalCount  probisfraud\n",
            "0             2016  38502  61       38563     0.001582\n",
            "1             2017  37873  93       37966     0.002450\n"
          ],
          "name": "stdout"
        },
        {
          "output_type": "display_data",
          "data": {
            "image/png": "[encoded data removed]",
            "text/plain": [
              "<Figure size 432x288 with 1 Axes>"
            ]
          },
          "metadata": {
            "tags": [],
            "needs_background": "light"
          }
        }
      ]
    },
    {
      "cell_type": "code",
      "metadata": {
        "colab": {
          "base_uri": "https://localhost:8080/",
          "height": 933
        },
        "id": "uhxPcV20mRvu",
        "outputId": "e926bc94-84c9-45c0-bc83-4ebb2cb76e3d"
      },
      "source": [
        "plt.figure(figsize = (12,6))\n",
        "sns.barplot(x = 'transaction_date',y = 'probisfraud', data=getProbOfisfraud('transaction_date', 'is_fraud',data));"
      ],
      "execution_count": null,
      "outputs": [
        {
          "output_type": "stream",
          "text": [
            "    transaction_date     0   1  TotalCount  probisfraud\n",
            "0                  1  3546  18        3564     0.005051\n",
            "1                  2  1479   5        1484     0.003369\n",
            "2                  3  1829   1        1830     0.000546\n",
            "3                  4  3684  13        3697     0.003516\n",
            "4                  5  1751   0        1751     0.000000\n",
            "5                  6  1686   4        1690     0.002367\n",
            "6                  7  2815   0        2815     0.000000\n",
            "7                  8  4796   1        4797     0.000208\n",
            "8                  9  1566   2        1568     0.001276\n",
            "9                 10  1765  13        1778     0.007312\n",
            "10                11  3345   8        3353     0.002386\n",
            "11                12  2267  13        2280     0.005702\n",
            "12                13  1773   0        1773     0.000000\n",
            "13                14  2415   2        2417     0.000827\n",
            "14                15  2053   4        2057     0.001945\n",
            "15                16  2889   2        2891     0.000692\n",
            "16                17  1762   5        1767     0.002830\n",
            "17                18  3101   1        3102     0.000322\n",
            "18                19  2173   7        2180     0.003211\n",
            "19                20  1796   7        1803     0.003882\n",
            "20                21  3129   8        3137     0.002550\n",
            "21                22  2169   3        2172     0.001381\n",
            "22                23  2497   7        2504     0.002796\n",
            "23                24  2144   9        2153     0.004180\n",
            "24                25  3622   1        3623     0.000276\n",
            "25                26  2169   3        2172     0.001381\n",
            "26                27  2326   6        2332     0.002573\n",
            "27                28  3740   2        3742     0.000534\n",
            "28                29  1912   1        1913     0.000523\n",
            "29                30  2618   7        2625     0.002667\n",
            "30                31  1558   1        1559     0.000641\n"
          ],
          "name": "stdout"
        },
        {
          "output_type": "display_data",
          "data": {
            "image/png": "[encoded data removed]",
            "text/plain": [
              "<Figure size 864x432 with 1 Axes>"
            ]
          },
          "metadata": {
            "tags": [],
            "needs_background": "light"
          }
        }
      ]
    },
    {
      "cell_type": "code",
      "metadata": {
        "colab": {
          "base_uri": "https://localhost:8080/",
          "height": 474
        },
        "id": "S8Cu2tvImlvs",
        "outputId": "c7d74b2b-c57a-4ca5-a6a7-092751c4fe8c"
      },
      "source": [
        "plt.figure(figsize = (12,6))\n",
        "sns.barplot(x = 'transaction_month',y = 'probisfraud', data=getProbOfisfraud('transaction_month', 'is_fraud',data));"
      ],
      "execution_count": null,
      "outputs": [
        {
          "output_type": "stream",
          "text": [
            "  transaction_month      0   1  TotalCount  probisfraud\n",
            "0                 1  25295  50       25345     0.001973\n",
            "1                 2  12578  43       12621     0.003407\n",
            "2                11  10004  11       10015     0.001098\n",
            "3                12  28498  50       28548     0.001751\n"
          ],
          "name": "stdout"
        },
        {
          "output_type": "display_data",
          "data": {
            "image/png": "[encoded data removed]",
            "text/plain": [
              "<Figure size 864x432 with 1 Axes>"
            ]
          },
          "metadata": {
            "tags": [],
            "needs_background": "light"
          }
        }
      ]
    },
    {
      "cell_type": "code",
      "metadata": {
        "colab": {
          "base_uri": "https://localhost:8080/",
          "height": 814
        },
        "id": "rdV-SB89ncUV",
        "outputId": "676ad991-9b90-428a-a09f-a71d0da26a2e"
      },
      "source": [
        "plt.figure(figsize = (12,6))\n",
        "sns.barplot(x = 'transaction_hour',y = 'probisfraud', data=getProbOfisfraud('transaction_hour', 'is_fraud',data));"
      ],
      "execution_count": null,
      "outputs": [
        {
          "output_type": "stream",
          "text": [
            "    transaction_hour     0   1  TotalCount  probisfraud\n",
            "0                  0   132   1         133     0.007519\n",
            "1                  1   141   0         141     0.000000\n",
            "2                  2   231   0         231     0.000000\n",
            "3                  3   569   6         575     0.010435\n",
            "4                  4  1841   0        1841     0.000000\n",
            "5                  5  3364   5        3369     0.001484\n",
            "6                  6  4284   6        4290     0.001399\n",
            "7                  7  4534   9        4543     0.001981\n",
            "8                  8  4505   4        4509     0.000887\n",
            "9                  9  4339   6        4345     0.001381\n",
            "10                10  4793   2        4795     0.000417\n",
            "11                11  4964   6        4970     0.001207\n",
            "12                12  4117  23        4140     0.005556\n",
            "13                13  4142  16        4158     0.003848\n",
            "14                14  4133   7        4140     0.001691\n",
            "15                15  5056   7        5063     0.001383\n",
            "16                16  5801  13        5814     0.002236\n",
            "17                17  5889  10        5899     0.001695\n",
            "18                18  5084   9        5093     0.001767\n",
            "19                19  4066   4        4070     0.000983\n",
            "20                20  2455   8        2463     0.003248\n",
            "21                21  1171   9        1180     0.007627\n",
            "22                22   544   3         547     0.005484\n",
            "23                23   220   0         220     0.000000\n"
          ],
          "name": "stdout"
        },
        {
          "output_type": "display_data",
          "data": {
            "image/png": "[encoded data removed]",
            "text/plain": [
              "<Figure size 864x432 with 1 Axes>"
            ]
          },
          "metadata": {
            "tags": [],
            "needs_background": "light"
          }
        }
      ]
    },
    {
      "cell_type": "code",
      "metadata": {
        "colab": {
          "base_uri": "https://localhost:8080/"
        },
        "id": "bC8mDvF_o3jw",
        "outputId": "1eb7eb22-f548-42cb-8f6f-e3158776a731"
      },
      "source": [
        "data.columns"
      ],
      "execution_count": null,
      "outputs": [
        {
          "output_type": "execute_result",
          "data": {
            "text/plain": [
              "Index(['payment_method', 'partner_id', 'partner_category', 'device_type',\n",
              "       'money_transacted', 'partner_pricing_category', 'is_fraud',\n",
              "       'transaction_year', 'transaction_date', 'transaction_month',\n",
              "       'transaction_hour', 'transaction_weekday', 'credit'],\n",
              "      dtype='object')"
            ]
          },
          "metadata": {
            "tags": []
          },
          "execution_count": 131
        }
      ]
    },
    {
      "cell_type": "code",
      "metadata": {
        "colab": {
          "base_uri": "https://localhost:8080/",
          "height": 525
        },
        "id": "HOR9OF_mpBJM",
        "outputId": "59557139-65b0-465b-f1bf-5ff4ef7d9aed"
      },
      "source": [
        "plt.figure(figsize = (12,6))\n",
        "sns.barplot(x = 'transaction_weekday',y = 'probisfraud', data=getProbOfisfraud('transaction_weekday', 'is_fraud',data));"
      ],
      "execution_count": null,
      "outputs": [
        {
          "output_type": "stream",
          "text": [
            "  transaction_weekday      0   1  TotalCount  probisfraud\n",
            "0                   0   8186  19        8205     0.002316\n",
            "1                   1   8795  28        8823     0.003174\n",
            "2                   2  22149  22       22171     0.000992\n",
            "3                   3   8102  23        8125     0.002831\n",
            "4                   4   7752  13        7765     0.001674\n",
            "5                   5   9396  24        9420     0.002548\n",
            "6                   6  11995  25       12020     0.002080\n"
          ],
          "name": "stdout"
        },
        {
          "output_type": "display_data",
          "data": {
            "image/png": "[encoded data removed]",
            "text/plain": [
              "<Figure size 864x432 with 1 Axes>"
            ]
          },
          "metadata": {
            "tags": [],
            "needs_background": "light"
          }
        }
      ]
    },
    {
      "cell_type": "code",
      "metadata": {
        "colab": {
          "base_uri": "https://localhost:8080/",
          "height": 559
        },
        "id": "lVrWD7HopHnR",
        "outputId": "8941b41a-20cf-4de6-d748-5911a95c7e0c"
      },
      "source": [
        "plt.figure(figsize = (12,6))\n",
        "sns.barplot(x = 'partner_category',y = 'probisfraud', data=getProbOfisfraud('partner_category', 'is_fraud',data));"
      ],
      "execution_count": null,
      "outputs": [
        {
          "output_type": "stream",
          "text": [
            "  partner_category      0    1  TotalCount  probisfraud\n",
            "0            cat_1  36178  128       36306     0.003526\n",
            "1            cat_2  36004   15       36019     0.000416\n",
            "2            cat_3   1527    9        1536     0.005859\n",
            "3            cat_4   1310    0        1310     0.000000\n",
            "4            cat_5   1026    0        1026     0.000000\n",
            "5            cat_6    146    0         146     0.000000\n",
            "6            cat_7    165    0         165     0.000000\n",
            "7            cat_8     17    2          19     0.105263\n",
            "8            cat_9      2    0           2     0.000000\n"
          ],
          "name": "stdout"
        },
        {
          "output_type": "display_data",
          "data": {
            "image/png": "[encoded data removed]",
            "text/plain": [
              "<Figure size 864x432 with 1 Axes>"
            ]
          },
          "metadata": {
            "tags": [],
            "needs_background": "light"
          }
        }
      ]
    },
    {
      "cell_type": "code",
      "metadata": {
        "colab": {
          "base_uri": "https://localhost:8080/",
          "height": 474
        },
        "id": "5KQLkuaEpc_H",
        "outputId": "6bc04504-6b2a-4789-b521-06853ca5533b"
      },
      "source": [
        "plt.figure(figsize = (12,6))\n",
        "sns.barplot(x = 'partner_pricing_category',y = 'probisfraud', data=getProbOfisfraud('partner_pricing_category', 'is_fraud',data));"
      ],
      "execution_count": null,
      "outputs": [
        {
          "output_type": "stream",
          "text": [
            "  partner_pricing_category      0    1  TotalCount  probisfraud\n",
            "0                        0    271   29         300     0.096667\n",
            "1                        1   1491    6        1497     0.004008\n",
            "2                        2  63789  110       63899     0.001721\n",
            "3                        4  10824    9       10833     0.000831\n"
          ],
          "name": "stdout"
        },
        {
          "output_type": "display_data",
          "data": {
            "image/png": "[encoded data removed]",
            "text/plain": [
              "<Figure size 864x432 with 1 Axes>"
            ]
          },
          "metadata": {
            "tags": [],
            "needs_background": "light"
          }
        }
      ]
    },
    {
      "cell_type": "code",
      "metadata": {
        "colab": {
          "base_uri": "https://localhost:8080/"
        },
        "id": "GLIy_HMxp5PW",
        "outputId": "cbb9395b-d37c-4cf7-c834-ba5104d50ec3"
      },
      "source": [
        "indices"
      ],
      "execution_count": null,
      "outputs": [
        {
          "output_type": "execute_result",
          "data": {
            "text/plain": [
              "array([ 0,  2,  7,  1, 15, 55,  3, 26, 57, 51,  8, 33, 49, 23, 50, 56, 45,\n",
              "       10, 19, 25, 24,  6, 22,  9, 21, 20, 18, 27, 17, 16,  4,  5, 13, 12,\n",
              "       11, 14, 63, 28, 43, 61, 60, 59, 58, 54, 53, 52, 48, 47, 46, 44, 42,\n",
              "       29, 41, 40, 39, 38, 37, 36, 35, 34, 32, 62, 30, 31])"
            ]
          },
          "metadata": {
            "tags": []
          },
          "execution_count": 135
        }
      ]
    },
    {
      "cell_type": "code",
      "metadata": {
        "id": "MiLNFt2_tf6T"
      },
      "source": [
        "X_train_final['money_transacted'] = X_train_final['money_transacted'].astype('int64')"
      ],
      "execution_count": null,
      "outputs": []
    },
    {
      "cell_type": "code",
      "metadata": {
        "colab": {
          "base_uri": "https://localhost:8080/"
        },
        "id": "XyBuSY-Avzwl",
        "outputId": "e0ab5549-2f3b-4d49-bf58-1589d846411c"
      },
      "source": [
        "select"
      ],
      "execution_count": null,
      "outputs": [
        {
          "output_type": "execute_result",
          "data": {
            "text/plain": [
              "array([ 0,  2,  7,  1, 15, 55,  3, 26, 57, 51])"
            ]
          },
          "metadata": {
            "tags": []
          },
          "execution_count": 144
        }
      ]
    },
    {
      "cell_type": "code",
      "metadata": {
        "colab": {
          "base_uri": "https://localhost:8080/",
          "height": 439
        },
        "id": "XRMp7vRCvZnG",
        "outputId": "88c9b8a0-4580-4f52-e60a-17cdb3e4aa97"
      },
      "source": [
        "X_train_final.iloc[:,[0,  2,  7,  1, 15, 55,  3, 26, 57, 51]]"
      ],
      "execution_count": null,
      "outputs": [
        {
          "output_type": "execute_result",
          "data": {
            "text/html": [
              "<div>\n",
              "<style scoped>\n",
              "    .dataframe tbody tr th:only-of-type {\n",
              "        vertical-align: middle;\n",
              "    }\n",
              "\n",
              "    .dataframe tbody tr th {\n",
              "        vertical-align: top;\n",
              "    }\n",
              "\n",
              "    .dataframe thead th {\n",
              "        text-align: right;\n",
              "    }\n",
              "</style>\n",
              "<table border=\"1\" class=\"dataframe\">\n",
              "  <thead>\n",
              "    <tr style=\"text-align: right;\">\n",
              "      <th></th>\n",
              "      <th>money_transacted</th>\n",
              "      <th>transaction_hour</th>\n",
              "      <th>payment_method_x0_visa_master_credit_cards</th>\n",
              "      <th>transaction_date</th>\n",
              "      <th>partner_id_x0_55223</th>\n",
              "      <th>transaction_weekday_x0_0</th>\n",
              "      <th>payment_method_x0_e_wallet_payments</th>\n",
              "      <th>partner_id_x0_157780</th>\n",
              "      <th>transaction_weekday_x0_2</th>\n",
              "      <th>transaction_month_x0_1</th>\n",
              "    </tr>\n",
              "  </thead>\n",
              "  <tbody>\n",
              "    <tr>\n",
              "      <th>14525</th>\n",
              "      <td>0</td>\n",
              "      <td>0.111392</td>\n",
              "      <td>0.0</td>\n",
              "      <td>-0.996284</td>\n",
              "      <td>0.0</td>\n",
              "      <td>0.0</td>\n",
              "      <td>0.0</td>\n",
              "      <td>0.0</td>\n",
              "      <td>1.0</td>\n",
              "      <td>0.0</td>\n",
              "    </tr>\n",
              "    <tr>\n",
              "      <th>9243</th>\n",
              "      <td>0</td>\n",
              "      <td>-0.713522</td>\n",
              "      <td>0.0</td>\n",
              "      <td>-0.661697</td>\n",
              "      <td>0.0</td>\n",
              "      <td>0.0</td>\n",
              "      <td>1.0</td>\n",
              "      <td>0.0</td>\n",
              "      <td>0.0</td>\n",
              "      <td>0.0</td>\n",
              "    </tr>\n",
              "    <tr>\n",
              "      <th>69178</th>\n",
              "      <td>0</td>\n",
              "      <td>-0.094836</td>\n",
              "      <td>0.0</td>\n",
              "      <td>1.568885</td>\n",
              "      <td>0.0</td>\n",
              "      <td>0.0</td>\n",
              "      <td>0.0</td>\n",
              "      <td>0.0</td>\n",
              "      <td>1.0</td>\n",
              "      <td>0.0</td>\n",
              "    </tr>\n",
              "    <tr>\n",
              "      <th>68162</th>\n",
              "      <td>0</td>\n",
              "      <td>1.142535</td>\n",
              "      <td>0.0</td>\n",
              "      <td>0.007478</td>\n",
              "      <td>0.0</td>\n",
              "      <td>0.0</td>\n",
              "      <td>1.0</td>\n",
              "      <td>0.0</td>\n",
              "      <td>1.0</td>\n",
              "      <td>0.0</td>\n",
              "    </tr>\n",
              "    <tr>\n",
              "      <th>27512</th>\n",
              "      <td>0</td>\n",
              "      <td>0.936307</td>\n",
              "      <td>0.0</td>\n",
              "      <td>-1.330871</td>\n",
              "      <td>0.0</td>\n",
              "      <td>0.0</td>\n",
              "      <td>0.0</td>\n",
              "      <td>0.0</td>\n",
              "      <td>0.0</td>\n",
              "      <td>0.0</td>\n",
              "    </tr>\n",
              "    <tr>\n",
              "      <th>...</th>\n",
              "      <td>...</td>\n",
              "      <td>...</td>\n",
              "      <td>...</td>\n",
              "      <td>...</td>\n",
              "      <td>...</td>\n",
              "      <td>...</td>\n",
              "      <td>...</td>\n",
              "      <td>...</td>\n",
              "      <td>...</td>\n",
              "      <td>...</td>\n",
              "    </tr>\n",
              "    <tr>\n",
              "      <th>63941</th>\n",
              "      <td>0</td>\n",
              "      <td>1.348764</td>\n",
              "      <td>0.0</td>\n",
              "      <td>1.568885</td>\n",
              "      <td>0.0</td>\n",
              "      <td>1.0</td>\n",
              "      <td>0.0</td>\n",
              "      <td>0.0</td>\n",
              "      <td>0.0</td>\n",
              "      <td>1.0</td>\n",
              "    </tr>\n",
              "    <tr>\n",
              "      <th>20197</th>\n",
              "      <td>0</td>\n",
              "      <td>0.730078</td>\n",
              "      <td>0.0</td>\n",
              "      <td>0.453594</td>\n",
              "      <td>0.0</td>\n",
              "      <td>0.0</td>\n",
              "      <td>0.0</td>\n",
              "      <td>0.0</td>\n",
              "      <td>0.0</td>\n",
              "      <td>0.0</td>\n",
              "    </tr>\n",
              "    <tr>\n",
              "      <th>31695</th>\n",
              "      <td>0</td>\n",
              "      <td>-0.713522</td>\n",
              "      <td>0.0</td>\n",
              "      <td>-0.327109</td>\n",
              "      <td>0.0</td>\n",
              "      <td>0.0</td>\n",
              "      <td>0.0</td>\n",
              "      <td>0.0</td>\n",
              "      <td>0.0</td>\n",
              "      <td>0.0</td>\n",
              "    </tr>\n",
              "    <tr>\n",
              "      <th>5802</th>\n",
              "      <td>0</td>\n",
              "      <td>1.348764</td>\n",
              "      <td>0.0</td>\n",
              "      <td>-0.884755</td>\n",
              "      <td>0.0</td>\n",
              "      <td>0.0</td>\n",
              "      <td>0.0</td>\n",
              "      <td>0.0</td>\n",
              "      <td>1.0</td>\n",
              "      <td>0.0</td>\n",
              "    </tr>\n",
              "    <tr>\n",
              "      <th>8979</th>\n",
              "      <td>0</td>\n",
              "      <td>0.936307</td>\n",
              "      <td>0.0</td>\n",
              "      <td>-1.665458</td>\n",
              "      <td>0.0</td>\n",
              "      <td>0.0</td>\n",
              "      <td>1.0</td>\n",
              "      <td>0.0</td>\n",
              "      <td>1.0</td>\n",
              "      <td>0.0</td>\n",
              "    </tr>\n",
              "  </tbody>\n",
              "</table>\n",
              "<p>61223 rows × 10 columns</p>\n",
              "</div>"
            ],
            "text/plain": [
              "       money_transacted  transaction_hour  \\\n",
              "14525                 0          0.111392   \n",
              "9243                  0         -0.713522   \n",
              "69178                 0         -0.094836   \n",
              "68162                 0          1.142535   \n",
              "27512                 0          0.936307   \n",
              "...                 ...               ...   \n",
              "63941                 0          1.348764   \n",
              "20197                 0          0.730078   \n",
              "31695                 0         -0.713522   \n",
              "5802                  0          1.348764   \n",
              "8979                  0          0.936307   \n",
              "\n",
              "       payment_method_x0_visa_master_credit_cards  transaction_date  \\\n",
              "14525                                         0.0         -0.996284   \n",
              "9243                                          0.0         -0.661697   \n",
              "69178                                         0.0          1.568885   \n",
              "68162                                         0.0          0.007478   \n",
              "27512                                         0.0         -1.330871   \n",
              "...                                           ...               ...   \n",
              "63941                                         0.0          1.568885   \n",
              "20197                                         0.0          0.453594   \n",
              "31695                                         0.0         -0.327109   \n",
              "5802                                          0.0         -0.884755   \n",
              "8979                                          0.0         -1.665458   \n",
              "\n",
              "       partner_id_x0_55223  transaction_weekday_x0_0  \\\n",
              "14525                  0.0                       0.0   \n",
              "9243                   0.0                       0.0   \n",
              "69178                  0.0                       0.0   \n",
              "68162                  0.0                       0.0   \n",
              "27512                  0.0                       0.0   \n",
              "...                    ...                       ...   \n",
              "63941                  0.0                       1.0   \n",
              "20197                  0.0                       0.0   \n",
              "31695                  0.0                       0.0   \n",
              "5802                   0.0                       0.0   \n",
              "8979                   0.0                       0.0   \n",
              "\n",
              "       payment_method_x0_e_wallet_payments  partner_id_x0_157780  \\\n",
              "14525                                  0.0                   0.0   \n",
              "9243                                   1.0                   0.0   \n",
              "69178                                  0.0                   0.0   \n",
              "68162                                  1.0                   0.0   \n",
              "27512                                  0.0                   0.0   \n",
              "...                                    ...                   ...   \n",
              "63941                                  0.0                   0.0   \n",
              "20197                                  0.0                   0.0   \n",
              "31695                                  0.0                   0.0   \n",
              "5802                                   0.0                   0.0   \n",
              "8979                                   1.0                   0.0   \n",
              "\n",
              "       transaction_weekday_x0_2  transaction_month_x0_1  \n",
              "14525                       1.0                     0.0  \n",
              "9243                        0.0                     0.0  \n",
              "69178                       1.0                     0.0  \n",
              "68162                       1.0                     0.0  \n",
              "27512                       0.0                     0.0  \n",
              "...                         ...                     ...  \n",
              "63941                       0.0                     1.0  \n",
              "20197                       0.0                     0.0  \n",
              "31695                       0.0                     0.0  \n",
              "5802                        1.0                     0.0  \n",
              "8979                        1.0                     0.0  \n",
              "\n",
              "[61223 rows x 10 columns]"
            ]
          },
          "metadata": {
            "tags": []
          },
          "execution_count": 152
        }
      ]
    },
    {
      "cell_type": "code",
      "metadata": {
        "colab": {
          "base_uri": "https://localhost:8080/"
        },
        "id": "F9Sk7oNTrIF9",
        "outputId": "ccb9731d-dea3-4b5e-d74d-5488b6514ae9"
      },
      "source": [
        "select = indices[0:10]\n",
        "select"
      ],
      "execution_count": null,
      "outputs": [
        {
          "output_type": "execute_result",
          "data": {
            "text/plain": [
              "array([ 0,  2,  7,  1, 15, 55,  3, 26, 57, 51])"
            ]
          },
          "metadata": {
            "tags": []
          },
          "execution_count": 156
        }
      ]
    },
    {
      "cell_type": "code",
      "metadata": {
        "id": "kc86ssTsxyhd"
      },
      "source": [
        "clf = tree.DecisionTreeClassifier(max_depth=3)\n",
        "clf = clf.fit(X_train_final.iloc[:,[ 0,  2,  7,  1, 15, 55,  3, 26, 57, 51]], y_train)"
      ],
      "execution_count": null,
      "outputs": []
    },
    {
      "cell_type": "code",
      "metadata": {
        "id": "YXQVt1-MwEca"
      },
      "source": [
        "train_pred = clf.predict(X_train_final.iloc[:,[ 0,  2,  7,  1, 15, 55,  3, 26, 57, 51]])\n",
        "val_pred = clf.predict(X_val_final.iloc[:,[ 0,  2,  7,  1, 15, 55,  3, 26, 57, 51]])"
      ],
      "execution_count": null,
      "outputs": []
    },
    {
      "cell_type": "code",
      "metadata": {
        "id": "wxxZMBdixucT"
      },
      "source": [
        ""
      ],
      "execution_count": null,
      "outputs": []
    }
  ]
}